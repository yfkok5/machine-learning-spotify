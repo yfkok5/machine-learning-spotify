{
 "cells": [
  {
   "cell_type": "markdown",
   "metadata": {},
   "source": [
    "# Neural Network Spotify Playlist\n"
   ]
  },
  {
   "cell_type": "markdown",
   "metadata": {},
   "source": [
    "### Data Pre-Processing\n",
    "\n",
    "Prepare the data for the neural network. This includes splitting the data into a training and testing dataset, Scaling the data, and encoding the categorical target values"
   ]
  },
  {
   "cell_type": "code",
   "execution_count": 105,
   "metadata": {},
   "outputs": [],
   "source": [
    "from pathlib import Path\n",
    "\n",
    "import numpy as np\n",
    "import pandas as pd\n",
    "\n",
    "from sklearn.model_selection import train_test_split\n",
    "from sklearn.preprocessing import StandardScaler, OneHotEncoder\n",
    "from sklearn.decomposition import PCA\n",
    "\n",
    "import tensorflow as tf\n",
    "from tensorflow.keras.models import Sequential\n",
    "from tensorflow.keras.layers import Dense\n",
    "from tensorflow import keras\n",
    "from tensorflow.keras import layers\n",
    "import tensorflow as tf"
   ]
  },
  {
   "cell_type": "code",
   "execution_count": 106,
   "metadata": {},
   "outputs": [
    {
     "data": {
      "text/plain": [
       "(454, 22)"
      ]
     },
     "execution_count": 106,
     "metadata": {},
     "output_type": "execute_result"
    }
   ],
   "source": [
    "#reading into compiled csv\n",
    "data = Path(\"Resources/spotify_main_raw_data.csv\")\n",
    "df = pd.read_csv(data)\n",
    "df.shape"
   ]
  },
  {
   "cell_type": "code",
   "execution_count": 107,
   "metadata": {},
   "outputs": [
    {
     "data": {
      "text/html": [
       "<div>\n",
       "<style scoped>\n",
       "    .dataframe tbody tr th:only-of-type {\n",
       "        vertical-align: middle;\n",
       "    }\n",
       "\n",
       "    .dataframe tbody tr th {\n",
       "        vertical-align: top;\n",
       "    }\n",
       "\n",
       "    .dataframe thead th {\n",
       "        text-align: right;\n",
       "    }\n",
       "</style>\n",
       "<table border=\"1\" class=\"dataframe\">\n",
       "  <thead>\n",
       "    <tr style=\"text-align: right;\">\n",
       "      <th></th>\n",
       "      <th>danceability</th>\n",
       "      <th>energy</th>\n",
       "      <th>key</th>\n",
       "      <th>loudness</th>\n",
       "      <th>mode</th>\n",
       "      <th>speechiness</th>\n",
       "      <th>acousticness</th>\n",
       "      <th>instrumentalness</th>\n",
       "      <th>liveness</th>\n",
       "      <th>valence</th>\n",
       "      <th>...</th>\n",
       "      <th>artist_Yang Da Il</th>\n",
       "      <th>artist_Young T &amp; Bugsey</th>\n",
       "      <th>artist_ZZ Top</th>\n",
       "      <th>artist_Zion.T</th>\n",
       "      <th>artist_blink-182</th>\n",
       "      <th>artist_dj poolboi</th>\n",
       "      <th>artist_gianni &amp; kyle</th>\n",
       "      <th>artist_rum.gold</th>\n",
       "      <th>artist_林依晨</th>\n",
       "      <th>artist_王俊凱</th>\n",
       "    </tr>\n",
       "  </thead>\n",
       "  <tbody>\n",
       "    <tr>\n",
       "      <th>0</th>\n",
       "      <td>0.564</td>\n",
       "      <td>0.364</td>\n",
       "      <td>10</td>\n",
       "      <td>-5.845</td>\n",
       "      <td>0</td>\n",
       "      <td>0.0631</td>\n",
       "      <td>0.75900</td>\n",
       "      <td>0.000000</td>\n",
       "      <td>0.0839</td>\n",
       "      <td>0.591</td>\n",
       "      <td>...</td>\n",
       "      <td>0</td>\n",
       "      <td>0</td>\n",
       "      <td>0</td>\n",
       "      <td>0</td>\n",
       "      <td>0</td>\n",
       "      <td>0</td>\n",
       "      <td>0</td>\n",
       "      <td>0</td>\n",
       "      <td>0</td>\n",
       "      <td>0</td>\n",
       "    </tr>\n",
       "    <tr>\n",
       "      <th>1</th>\n",
       "      <td>0.701</td>\n",
       "      <td>0.519</td>\n",
       "      <td>1</td>\n",
       "      <td>-6.382</td>\n",
       "      <td>1</td>\n",
       "      <td>0.0516</td>\n",
       "      <td>0.31400</td>\n",
       "      <td>0.000000</td>\n",
       "      <td>0.2070</td>\n",
       "      <td>0.498</td>\n",
       "      <td>...</td>\n",
       "      <td>0</td>\n",
       "      <td>0</td>\n",
       "      <td>0</td>\n",
       "      <td>0</td>\n",
       "      <td>0</td>\n",
       "      <td>0</td>\n",
       "      <td>0</td>\n",
       "      <td>0</td>\n",
       "      <td>0</td>\n",
       "      <td>0</td>\n",
       "    </tr>\n",
       "    <tr>\n",
       "      <th>2</th>\n",
       "      <td>0.309</td>\n",
       "      <td>0.740</td>\n",
       "      <td>7</td>\n",
       "      <td>-5.917</td>\n",
       "      <td>0</td>\n",
       "      <td>0.0456</td>\n",
       "      <td>0.00854</td>\n",
       "      <td>0.025800</td>\n",
       "      <td>0.1190</td>\n",
       "      <td>0.166</td>\n",
       "      <td>...</td>\n",
       "      <td>0</td>\n",
       "      <td>0</td>\n",
       "      <td>0</td>\n",
       "      <td>0</td>\n",
       "      <td>0</td>\n",
       "      <td>0</td>\n",
       "      <td>0</td>\n",
       "      <td>0</td>\n",
       "      <td>0</td>\n",
       "      <td>0</td>\n",
       "    </tr>\n",
       "    <tr>\n",
       "      <th>3</th>\n",
       "      <td>0.552</td>\n",
       "      <td>0.637</td>\n",
       "      <td>5</td>\n",
       "      <td>-6.568</td>\n",
       "      <td>1</td>\n",
       "      <td>0.0445</td>\n",
       "      <td>0.46400</td>\n",
       "      <td>0.000016</td>\n",
       "      <td>0.1360</td>\n",
       "      <td>0.333</td>\n",
       "      <td>...</td>\n",
       "      <td>0</td>\n",
       "      <td>0</td>\n",
       "      <td>0</td>\n",
       "      <td>0</td>\n",
       "      <td>0</td>\n",
       "      <td>0</td>\n",
       "      <td>0</td>\n",
       "      <td>0</td>\n",
       "      <td>0</td>\n",
       "      <td>0</td>\n",
       "    </tr>\n",
       "    <tr>\n",
       "      <th>4</th>\n",
       "      <td>0.655</td>\n",
       "      <td>0.885</td>\n",
       "      <td>7</td>\n",
       "      <td>-4.116</td>\n",
       "      <td>1</td>\n",
       "      <td>0.0438</td>\n",
       "      <td>0.00117</td>\n",
       "      <td>0.000473</td>\n",
       "      <td>0.0448</td>\n",
       "      <td>0.938</td>\n",
       "      <td>...</td>\n",
       "      <td>0</td>\n",
       "      <td>0</td>\n",
       "      <td>0</td>\n",
       "      <td>0</td>\n",
       "      <td>0</td>\n",
       "      <td>0</td>\n",
       "      <td>0</td>\n",
       "      <td>0</td>\n",
       "      <td>0</td>\n",
       "      <td>0</td>\n",
       "    </tr>\n",
       "  </tbody>\n",
       "</table>\n",
       "<p>5 rows × 313 columns</p>\n",
       "</div>"
      ],
      "text/plain": [
       "   danceability  energy  key  loudness  mode  speechiness  acousticness  \\\n",
       "0         0.564   0.364   10    -5.845     0       0.0631       0.75900   \n",
       "1         0.701   0.519    1    -6.382     1       0.0516       0.31400   \n",
       "2         0.309   0.740    7    -5.917     0       0.0456       0.00854   \n",
       "3         0.552   0.637    5    -6.568     1       0.0445       0.46400   \n",
       "4         0.655   0.885    7    -4.116     1       0.0438       0.00117   \n",
       "\n",
       "   instrumentalness  liveness  valence  ...  artist_Yang Da Il  \\\n",
       "0          0.000000    0.0839    0.591  ...                  0   \n",
       "1          0.000000    0.2070    0.498  ...                  0   \n",
       "2          0.025800    0.1190    0.166  ...                  0   \n",
       "3          0.000016    0.1360    0.333  ...                  0   \n",
       "4          0.000473    0.0448    0.938  ...                  0   \n",
       "\n",
       "   artist_Young T & Bugsey artist_ZZ Top  artist_Zion.T  artist_blink-182  \\\n",
       "0                        0             0              0                 0   \n",
       "1                        0             0              0                 0   \n",
       "2                        0             0              0                 0   \n",
       "3                        0             0              0                 0   \n",
       "4                        0             0              0                 0   \n",
       "\n",
       "   artist_dj poolboi  artist_gianni & kyle  artist_rum.gold  artist_林依晨  \\\n",
       "0                  0                     0                0           0   \n",
       "1                  0                     0                0           0   \n",
       "2                  0                     0                0           0   \n",
       "3                  0                     0                0           0   \n",
       "4                  0                     0                0           0   \n",
       "\n",
       "   artist_王俊凱  \n",
       "0           0  \n",
       "1           0  \n",
       "2           0  \n",
       "3           0  \n",
       "4           0  \n",
       "\n",
       "[5 rows x 313 columns]"
      ]
     },
     "execution_count": 107,
     "metadata": {},
     "output_type": "execute_result"
    }
   ],
   "source": [
    "#dropping irrelevant columns\n",
    "raw_data = df.drop(['Unnamed: 0',\"track\",\"type\",\"id\",\"uri\",\"track_href\",\"analysis_url\",\"time_signature\"],axis=1)\n",
    "\n",
    "# Encoding the Artist's column\n",
    "spot_df = pd.get_dummies(raw_data, columns=[\"artist\"])\n",
    "spot_df.head()"
   ]
  },
  {
   "cell_type": "code",
   "execution_count": 108,
   "metadata": {},
   "outputs": [
    {
     "data": {
      "text/html": [
       "<div>\n",
       "<style scoped>\n",
       "    .dataframe tbody tr th:only-of-type {\n",
       "        vertical-align: middle;\n",
       "    }\n",
       "\n",
       "    .dataframe tbody tr th {\n",
       "        vertical-align: top;\n",
       "    }\n",
       "\n",
       "    .dataframe thead th {\n",
       "        text-align: right;\n",
       "    }\n",
       "</style>\n",
       "<table border=\"1\" class=\"dataframe\">\n",
       "  <thead>\n",
       "    <tr style=\"text-align: right;\">\n",
       "      <th></th>\n",
       "      <th>danceability</th>\n",
       "      <th>energy</th>\n",
       "      <th>key</th>\n",
       "      <th>loudness</th>\n",
       "      <th>mode</th>\n",
       "      <th>speechiness</th>\n",
       "      <th>acousticness</th>\n",
       "      <th>instrumentalness</th>\n",
       "      <th>liveness</th>\n",
       "      <th>valence</th>\n",
       "      <th>...</th>\n",
       "      <th>artist_Yang Da Il</th>\n",
       "      <th>artist_Young T &amp; Bugsey</th>\n",
       "      <th>artist_ZZ Top</th>\n",
       "      <th>artist_Zion.T</th>\n",
       "      <th>artist_blink-182</th>\n",
       "      <th>artist_dj poolboi</th>\n",
       "      <th>artist_gianni &amp; kyle</th>\n",
       "      <th>artist_rum.gold</th>\n",
       "      <th>artist_林依晨</th>\n",
       "      <th>artist_王俊凱</th>\n",
       "    </tr>\n",
       "  </thead>\n",
       "  <tbody>\n",
       "    <tr>\n",
       "      <th>0</th>\n",
       "      <td>0.564</td>\n",
       "      <td>0.364</td>\n",
       "      <td>10</td>\n",
       "      <td>-5.845</td>\n",
       "      <td>0</td>\n",
       "      <td>0.0631</td>\n",
       "      <td>0.75900</td>\n",
       "      <td>0.000000</td>\n",
       "      <td>0.0839</td>\n",
       "      <td>0.591</td>\n",
       "      <td>...</td>\n",
       "      <td>0</td>\n",
       "      <td>0</td>\n",
       "      <td>0</td>\n",
       "      <td>0</td>\n",
       "      <td>0</td>\n",
       "      <td>0</td>\n",
       "      <td>0</td>\n",
       "      <td>0</td>\n",
       "      <td>0</td>\n",
       "      <td>0</td>\n",
       "    </tr>\n",
       "    <tr>\n",
       "      <th>1</th>\n",
       "      <td>0.701</td>\n",
       "      <td>0.519</td>\n",
       "      <td>1</td>\n",
       "      <td>-6.382</td>\n",
       "      <td>1</td>\n",
       "      <td>0.0516</td>\n",
       "      <td>0.31400</td>\n",
       "      <td>0.000000</td>\n",
       "      <td>0.2070</td>\n",
       "      <td>0.498</td>\n",
       "      <td>...</td>\n",
       "      <td>0</td>\n",
       "      <td>0</td>\n",
       "      <td>0</td>\n",
       "      <td>0</td>\n",
       "      <td>0</td>\n",
       "      <td>0</td>\n",
       "      <td>0</td>\n",
       "      <td>0</td>\n",
       "      <td>0</td>\n",
       "      <td>0</td>\n",
       "    </tr>\n",
       "    <tr>\n",
       "      <th>2</th>\n",
       "      <td>0.309</td>\n",
       "      <td>0.740</td>\n",
       "      <td>7</td>\n",
       "      <td>-5.917</td>\n",
       "      <td>0</td>\n",
       "      <td>0.0456</td>\n",
       "      <td>0.00854</td>\n",
       "      <td>0.025800</td>\n",
       "      <td>0.1190</td>\n",
       "      <td>0.166</td>\n",
       "      <td>...</td>\n",
       "      <td>0</td>\n",
       "      <td>0</td>\n",
       "      <td>0</td>\n",
       "      <td>0</td>\n",
       "      <td>0</td>\n",
       "      <td>0</td>\n",
       "      <td>0</td>\n",
       "      <td>0</td>\n",
       "      <td>0</td>\n",
       "      <td>0</td>\n",
       "    </tr>\n",
       "    <tr>\n",
       "      <th>3</th>\n",
       "      <td>0.552</td>\n",
       "      <td>0.637</td>\n",
       "      <td>5</td>\n",
       "      <td>-6.568</td>\n",
       "      <td>1</td>\n",
       "      <td>0.0445</td>\n",
       "      <td>0.46400</td>\n",
       "      <td>0.000016</td>\n",
       "      <td>0.1360</td>\n",
       "      <td>0.333</td>\n",
       "      <td>...</td>\n",
       "      <td>0</td>\n",
       "      <td>0</td>\n",
       "      <td>0</td>\n",
       "      <td>0</td>\n",
       "      <td>0</td>\n",
       "      <td>0</td>\n",
       "      <td>0</td>\n",
       "      <td>0</td>\n",
       "      <td>0</td>\n",
       "      <td>0</td>\n",
       "    </tr>\n",
       "    <tr>\n",
       "      <th>4</th>\n",
       "      <td>0.655</td>\n",
       "      <td>0.885</td>\n",
       "      <td>7</td>\n",
       "      <td>-4.116</td>\n",
       "      <td>1</td>\n",
       "      <td>0.0438</td>\n",
       "      <td>0.00117</td>\n",
       "      <td>0.000473</td>\n",
       "      <td>0.0448</td>\n",
       "      <td>0.938</td>\n",
       "      <td>...</td>\n",
       "      <td>0</td>\n",
       "      <td>0</td>\n",
       "      <td>0</td>\n",
       "      <td>0</td>\n",
       "      <td>0</td>\n",
       "      <td>0</td>\n",
       "      <td>0</td>\n",
       "      <td>0</td>\n",
       "      <td>0</td>\n",
       "      <td>0</td>\n",
       "    </tr>\n",
       "  </tbody>\n",
       "</table>\n",
       "<p>5 rows × 312 columns</p>\n",
       "</div>"
      ],
      "text/plain": [
       "   danceability  energy  key  loudness  mode  speechiness  acousticness  \\\n",
       "0         0.564   0.364   10    -5.845     0       0.0631       0.75900   \n",
       "1         0.701   0.519    1    -6.382     1       0.0516       0.31400   \n",
       "2         0.309   0.740    7    -5.917     0       0.0456       0.00854   \n",
       "3         0.552   0.637    5    -6.568     1       0.0445       0.46400   \n",
       "4         0.655   0.885    7    -4.116     1       0.0438       0.00117   \n",
       "\n",
       "   instrumentalness  liveness  valence  ...  artist_Yang Da Il  \\\n",
       "0          0.000000    0.0839    0.591  ...                  0   \n",
       "1          0.000000    0.2070    0.498  ...                  0   \n",
       "2          0.025800    0.1190    0.166  ...                  0   \n",
       "3          0.000016    0.1360    0.333  ...                  0   \n",
       "4          0.000473    0.0448    0.938  ...                  0   \n",
       "\n",
       "   artist_Young T & Bugsey  artist_ZZ Top  artist_Zion.T  artist_blink-182  \\\n",
       "0                        0              0              0                 0   \n",
       "1                        0              0              0                 0   \n",
       "2                        0              0              0                 0   \n",
       "3                        0              0              0                 0   \n",
       "4                        0              0              0                 0   \n",
       "\n",
       "   artist_dj poolboi  artist_gianni & kyle  artist_rum.gold  artist_林依晨  \\\n",
       "0                  0                     0                0           0   \n",
       "1                  0                     0                0           0   \n",
       "2                  0                     0                0           0   \n",
       "3                  0                     0                0           0   \n",
       "4                  0                     0                0           0   \n",
       "\n",
       "   artist_王俊凱  \n",
       "0           0  \n",
       "1           0  \n",
       "2           0  \n",
       "3           0  \n",
       "4           0  \n",
       "\n",
       "[5 rows x 312 columns]"
      ]
     },
     "execution_count": 108,
     "metadata": {},
     "output_type": "execute_result"
    }
   ],
   "source": [
    "spotify_data = spot_df.drop([\"playlist\"], axis=1)\n",
    "spotify_data.head()"
   ]
  },
  {
   "cell_type": "code",
   "execution_count": 109,
   "metadata": {},
   "outputs": [],
   "source": [
    "# Standardize data\n",
    "spotify_scaled = StandardScaler().fit_transform(spotify_data)"
   ]
  },
  {
   "cell_type": "code",
   "execution_count": 110,
   "metadata": {},
   "outputs": [
    {
     "data": {
      "text/plain": [
       "array([[ 0.564,  0.364, 10.   , ...,  0.   ,  0.   ,  0.   ],\n",
       "       [ 0.701,  0.519,  1.   , ...,  0.   ,  0.   ,  0.   ],\n",
       "       [ 0.309,  0.74 ,  7.   , ...,  0.   ,  0.   ,  0.   ],\n",
       "       ...,\n",
       "       [ 0.562,  0.934,  5.   , ...,  0.   ,  0.   ,  0.   ],\n",
       "       [ 0.743,  0.446,  4.   , ...,  0.   ,  0.   ,  0.   ],\n",
       "       [ 0.503,  0.581,  6.   , ...,  0.   ,  0.   ,  0.   ]])"
      ]
     },
     "execution_count": 110,
     "metadata": {},
     "output_type": "execute_result"
    }
   ],
   "source": [
    "spotify = np.array(spotify_data)\n",
    "spotify"
   ]
  },
  {
   "cell_type": "code",
   "execution_count": 111,
   "metadata": {},
   "outputs": [
    {
     "data": {
      "text/html": [
       "<div>\n",
       "<style scoped>\n",
       "    .dataframe tbody tr th:only-of-type {\n",
       "        vertical-align: middle;\n",
       "    }\n",
       "\n",
       "    .dataframe tbody tr th {\n",
       "        vertical-align: top;\n",
       "    }\n",
       "\n",
       "    .dataframe thead th {\n",
       "        text-align: right;\n",
       "    }\n",
       "</style>\n",
       "<table border=\"1\" class=\"dataframe\">\n",
       "  <thead>\n",
       "    <tr style=\"text-align: right;\">\n",
       "      <th></th>\n",
       "      <th>principal component 1</th>\n",
       "      <th>principal component 2</th>\n",
       "      <th>principal component 3</th>\n",
       "      <th>principal component 4</th>\n",
       "      <th>principal component 5</th>\n",
       "      <th>principal component 6</th>\n",
       "      <th>principal component 7</th>\n",
       "      <th>principal component 8</th>\n",
       "    </tr>\n",
       "  </thead>\n",
       "  <tbody>\n",
       "    <tr>\n",
       "      <th>0</th>\n",
       "      <td>1.875202</td>\n",
       "      <td>-2.080792</td>\n",
       "      <td>0.436331</td>\n",
       "      <td>-2.885661</td>\n",
       "      <td>0.658665</td>\n",
       "      <td>-1.368312</td>\n",
       "      <td>-0.570721</td>\n",
       "      <td>-0.871094</td>\n",
       "    </tr>\n",
       "    <tr>\n",
       "      <th>1</th>\n",
       "      <td>0.421248</td>\n",
       "      <td>-1.272043</td>\n",
       "      <td>-1.316693</td>\n",
       "      <td>1.667437</td>\n",
       "      <td>-0.136283</td>\n",
       "      <td>-0.404319</td>\n",
       "      <td>1.180968</td>\n",
       "      <td>-1.046415</td>\n",
       "    </tr>\n",
       "    <tr>\n",
       "      <th>2</th>\n",
       "      <td>0.022696</td>\n",
       "      <td>6.202659</td>\n",
       "      <td>-0.229437</td>\n",
       "      <td>-2.848018</td>\n",
       "      <td>-4.237488</td>\n",
       "      <td>-2.167166</td>\n",
       "      <td>6.925713</td>\n",
       "      <td>2.414221</td>\n",
       "    </tr>\n",
       "    <tr>\n",
       "      <th>3</th>\n",
       "      <td>0.633193</td>\n",
       "      <td>0.276407</td>\n",
       "      <td>-0.716276</td>\n",
       "      <td>0.218677</td>\n",
       "      <td>0.295651</td>\n",
       "      <td>-1.178784</td>\n",
       "      <td>1.188577</td>\n",
       "      <td>-0.049210</td>\n",
       "    </tr>\n",
       "    <tr>\n",
       "      <th>4</th>\n",
       "      <td>-2.463920</td>\n",
       "      <td>-0.760782</td>\n",
       "      <td>-2.279512</td>\n",
       "      <td>-0.470264</td>\n",
       "      <td>0.568911</td>\n",
       "      <td>-1.061007</td>\n",
       "      <td>-1.293523</td>\n",
       "      <td>0.503808</td>\n",
       "    </tr>\n",
       "  </tbody>\n",
       "</table>\n",
       "</div>"
      ],
      "text/plain": [
       "   principal component 1  principal component 2  principal component 3  \\\n",
       "0               1.875202              -2.080792               0.436331   \n",
       "1               0.421248              -1.272043              -1.316693   \n",
       "2               0.022696               6.202659              -0.229437   \n",
       "3               0.633193               0.276407              -0.716276   \n",
       "4              -2.463920              -0.760782              -2.279512   \n",
       "\n",
       "   principal component 4  principal component 5  principal component 6  \\\n",
       "0              -2.885661               0.658665              -1.368312   \n",
       "1               1.667437              -0.136283              -0.404319   \n",
       "2              -2.848018              -4.237488              -2.167166   \n",
       "3               0.218677               0.295651              -1.178784   \n",
       "4              -0.470264               0.568911              -1.061007   \n",
       "\n",
       "   principal component 7  principal component 8  \n",
       "0              -0.570721              -0.871094  \n",
       "1               1.180968              -1.046415  \n",
       "2               6.925713               2.414221  \n",
       "3               1.188577              -0.049210  \n",
       "4              -1.293523               0.503808  "
      ]
     },
     "execution_count": 111,
     "metadata": {},
     "output_type": "execute_result"
    }
   ],
   "source": [
    "# Initialize PCA model\n",
    "pca = PCA(n_components=8)\n",
    "\n",
    "# Get 8 principal components for the data.\n",
    "spotify_pca = pca.fit_transform(spotify_scaled)\n",
    "\n",
    "df_spotify_pca = pd.DataFrame(\n",
    "    data=spotify_pca, columns=[\"principal component 1\", \n",
    "                               \"principal component 2\", \n",
    "                               \"principal component 3\", \n",
    "                               \"principal component 4\", \n",
    "                               \"principal component 5\", \n",
    "                               \"principal component 6\",\n",
    "                               \"principal component 7\",\n",
    "                               \"principal component 8\"]\n",
    "                                                        )\n",
    "df_spotify_pca.head()"
   ]
  },
  {
   "cell_type": "code",
   "execution_count": 112,
   "metadata": {},
   "outputs": [
    {
     "name": "stdout",
     "output_type": "stream",
     "text": [
      "We have 5.48% of the information in the original dataset\n"
     ]
    }
   ],
   "source": [
    "# Fetch the explained variance\n",
    "variance_ratio = pca.explained_variance_ratio_\n",
    "\n",
    "print(f\"We have {round((sum(variance_ratio)*100),2)}% of the information in the original dataset\")"
   ]
  },
  {
   "cell_type": "code",
   "execution_count": 113,
   "metadata": {},
   "outputs": [],
   "source": [
    "#appending playlist column back on PCA list\n",
    "df_spotify_pca['playlist'] = raw_data['playlist']"
   ]
  },
  {
   "cell_type": "code",
   "execution_count": 114,
   "metadata": {},
   "outputs": [
    {
     "data": {
      "text/html": [
       "<div>\n",
       "<style scoped>\n",
       "    .dataframe tbody tr th:only-of-type {\n",
       "        vertical-align: middle;\n",
       "    }\n",
       "\n",
       "    .dataframe tbody tr th {\n",
       "        vertical-align: top;\n",
       "    }\n",
       "\n",
       "    .dataframe thead th {\n",
       "        text-align: right;\n",
       "    }\n",
       "</style>\n",
       "<table border=\"1\" class=\"dataframe\">\n",
       "  <thead>\n",
       "    <tr style=\"text-align: right;\">\n",
       "      <th></th>\n",
       "      <th>principal component 1</th>\n",
       "      <th>principal component 2</th>\n",
       "      <th>principal component 3</th>\n",
       "      <th>principal component 4</th>\n",
       "      <th>principal component 5</th>\n",
       "      <th>principal component 6</th>\n",
       "      <th>principal component 7</th>\n",
       "      <th>principal component 8</th>\n",
       "      <th>playlist</th>\n",
       "    </tr>\n",
       "  </thead>\n",
       "  <tbody>\n",
       "    <tr>\n",
       "      <th>0</th>\n",
       "      <td>1.875202</td>\n",
       "      <td>-2.080792</td>\n",
       "      <td>0.436331</td>\n",
       "      <td>-2.885661</td>\n",
       "      <td>0.658665</td>\n",
       "      <td>-1.368312</td>\n",
       "      <td>-0.570721</td>\n",
       "      <td>-0.871094</td>\n",
       "      <td>ryan</td>\n",
       "    </tr>\n",
       "    <tr>\n",
       "      <th>1</th>\n",
       "      <td>0.421248</td>\n",
       "      <td>-1.272043</td>\n",
       "      <td>-1.316693</td>\n",
       "      <td>1.667437</td>\n",
       "      <td>-0.136283</td>\n",
       "      <td>-0.404319</td>\n",
       "      <td>1.180968</td>\n",
       "      <td>-1.046415</td>\n",
       "      <td>ryan</td>\n",
       "    </tr>\n",
       "    <tr>\n",
       "      <th>2</th>\n",
       "      <td>0.022696</td>\n",
       "      <td>6.202659</td>\n",
       "      <td>-0.229437</td>\n",
       "      <td>-2.848018</td>\n",
       "      <td>-4.237488</td>\n",
       "      <td>-2.167166</td>\n",
       "      <td>6.925713</td>\n",
       "      <td>2.414221</td>\n",
       "      <td>ryan</td>\n",
       "    </tr>\n",
       "    <tr>\n",
       "      <th>3</th>\n",
       "      <td>0.633193</td>\n",
       "      <td>0.276407</td>\n",
       "      <td>-0.716276</td>\n",
       "      <td>0.218677</td>\n",
       "      <td>0.295651</td>\n",
       "      <td>-1.178784</td>\n",
       "      <td>1.188577</td>\n",
       "      <td>-0.049210</td>\n",
       "      <td>ryan</td>\n",
       "    </tr>\n",
       "    <tr>\n",
       "      <th>4</th>\n",
       "      <td>-2.463920</td>\n",
       "      <td>-0.760782</td>\n",
       "      <td>-2.279512</td>\n",
       "      <td>-0.470264</td>\n",
       "      <td>0.568911</td>\n",
       "      <td>-1.061007</td>\n",
       "      <td>-1.293523</td>\n",
       "      <td>0.503808</td>\n",
       "      <td>ryan</td>\n",
       "    </tr>\n",
       "    <tr>\n",
       "      <th>...</th>\n",
       "      <td>...</td>\n",
       "      <td>...</td>\n",
       "      <td>...</td>\n",
       "      <td>...</td>\n",
       "      <td>...</td>\n",
       "      <td>...</td>\n",
       "      <td>...</td>\n",
       "      <td>...</td>\n",
       "      <td>...</td>\n",
       "    </tr>\n",
       "    <tr>\n",
       "      <th>449</th>\n",
       "      <td>-1.012068</td>\n",
       "      <td>1.188798</td>\n",
       "      <td>0.414889</td>\n",
       "      <td>1.236316</td>\n",
       "      <td>6.076406</td>\n",
       "      <td>-0.894306</td>\n",
       "      <td>2.612301</td>\n",
       "      <td>0.542052</td>\n",
       "      <td>alex</td>\n",
       "    </tr>\n",
       "    <tr>\n",
       "      <th>450</th>\n",
       "      <td>-0.000409</td>\n",
       "      <td>1.482019</td>\n",
       "      <td>-0.326218</td>\n",
       "      <td>1.760820</td>\n",
       "      <td>1.761398</td>\n",
       "      <td>-0.690545</td>\n",
       "      <td>1.545387</td>\n",
       "      <td>0.182521</td>\n",
       "      <td>alex</td>\n",
       "    </tr>\n",
       "    <tr>\n",
       "      <th>451</th>\n",
       "      <td>-1.621586</td>\n",
       "      <td>1.175435</td>\n",
       "      <td>-1.311294</td>\n",
       "      <td>0.379587</td>\n",
       "      <td>0.249759</td>\n",
       "      <td>-0.780278</td>\n",
       "      <td>1.191825</td>\n",
       "      <td>-0.039154</td>\n",
       "      <td>alex</td>\n",
       "    </tr>\n",
       "    <tr>\n",
       "      <th>452</th>\n",
       "      <td>0.496322</td>\n",
       "      <td>-0.205822</td>\n",
       "      <td>0.802292</td>\n",
       "      <td>-0.573477</td>\n",
       "      <td>-0.094784</td>\n",
       "      <td>1.070125</td>\n",
       "      <td>1.495485</td>\n",
       "      <td>-1.165800</td>\n",
       "      <td>alex</td>\n",
       "    </tr>\n",
       "    <tr>\n",
       "      <th>453</th>\n",
       "      <td>0.336397</td>\n",
       "      <td>-0.363182</td>\n",
       "      <td>-0.582597</td>\n",
       "      <td>0.379251</td>\n",
       "      <td>0.322309</td>\n",
       "      <td>-0.652678</td>\n",
       "      <td>0.696312</td>\n",
       "      <td>0.072738</td>\n",
       "      <td>alex</td>\n",
       "    </tr>\n",
       "  </tbody>\n",
       "</table>\n",
       "<p>454 rows × 9 columns</p>\n",
       "</div>"
      ],
      "text/plain": [
       "     principal component 1  principal component 2  principal component 3  \\\n",
       "0                 1.875202              -2.080792               0.436331   \n",
       "1                 0.421248              -1.272043              -1.316693   \n",
       "2                 0.022696               6.202659              -0.229437   \n",
       "3                 0.633193               0.276407              -0.716276   \n",
       "4                -2.463920              -0.760782              -2.279512   \n",
       "..                     ...                    ...                    ...   \n",
       "449              -1.012068               1.188798               0.414889   \n",
       "450              -0.000409               1.482019              -0.326218   \n",
       "451              -1.621586               1.175435              -1.311294   \n",
       "452               0.496322              -0.205822               0.802292   \n",
       "453               0.336397              -0.363182              -0.582597   \n",
       "\n",
       "     principal component 4  principal component 5  principal component 6  \\\n",
       "0                -2.885661               0.658665              -1.368312   \n",
       "1                 1.667437              -0.136283              -0.404319   \n",
       "2                -2.848018              -4.237488              -2.167166   \n",
       "3                 0.218677               0.295651              -1.178784   \n",
       "4                -0.470264               0.568911              -1.061007   \n",
       "..                     ...                    ...                    ...   \n",
       "449               1.236316               6.076406              -0.894306   \n",
       "450               1.760820               1.761398              -0.690545   \n",
       "451               0.379587               0.249759              -0.780278   \n",
       "452              -0.573477              -0.094784               1.070125   \n",
       "453               0.379251               0.322309              -0.652678   \n",
       "\n",
       "     principal component 7  principal component 8 playlist  \n",
       "0                -0.570721              -0.871094     ryan  \n",
       "1                 1.180968              -1.046415     ryan  \n",
       "2                 6.925713               2.414221     ryan  \n",
       "3                 1.188577              -0.049210     ryan  \n",
       "4                -1.293523               0.503808     ryan  \n",
       "..                     ...                    ...      ...  \n",
       "449               2.612301               0.542052     alex  \n",
       "450               1.545387               0.182521     alex  \n",
       "451               1.191825              -0.039154     alex  \n",
       "452               1.495485              -1.165800     alex  \n",
       "453               0.696312               0.072738     alex  \n",
       "\n",
       "[454 rows x 9 columns]"
      ]
     },
     "execution_count": 114,
     "metadata": {},
     "output_type": "execute_result"
    }
   ],
   "source": [
    "df_spotify_pca"
   ]
  },
  {
   "cell_type": "code",
   "execution_count": 115,
   "metadata": {},
   "outputs": [
    {
     "data": {
      "text/plain": [
       "ryan     100\n",
       "sarah    100\n",
       "abdul    100\n",
       "terry     99\n",
       "alex      55\n",
       "Name: playlist, dtype: int64"
      ]
     },
     "execution_count": 115,
     "metadata": {},
     "output_type": "execute_result"
    }
   ],
   "source": [
    "#Verifying playlist classifications\n",
    "df_spotify_pca.playlist.value_counts()"
   ]
  },
  {
   "cell_type": "code",
   "execution_count": 116,
   "metadata": {},
   "outputs": [],
   "source": [
    "# Define the features X set and the target y vector\n",
    "X = df_spotify_pca.drop(\"playlist\",axis=1)\n",
    "y = df_spotify_pca.loc[:, [\"playlist\"]]"
   ]
  },
  {
   "cell_type": "code",
   "execution_count": 117,
   "metadata": {},
   "outputs": [
    {
     "data": {
      "text/plain": [
       "((340, 8), (114, 8), (340, 1), (114, 1))"
      ]
     },
     "execution_count": 117,
     "metadata": {},
     "output_type": "execute_result"
    }
   ],
   "source": [
    "# Split the dataset into training and testing data\n",
    "X_train, X_test, y_train, y_test = train_test_split(X, y, random_state=1)\n",
    "\n",
    "# Acknowledge the dimension of both test and training data\n",
    "X_train.shape, X_test.shape, y_train.shape, y_test.shape\n"
   ]
  },
  {
   "cell_type": "code",
   "execution_count": 118,
   "metadata": {},
   "outputs": [],
   "source": [
    "# Scale the training and testing input features using StandardScaler\n",
    "X_scaler = StandardScaler()\n",
    "X_scaler.fit(X_train)\n",
    "\n",
    "X_train_scaled = X_scaler.transform(X_train)\n",
    "X_test_scaled = X_scaler.transform(X_test)"
   ]
  },
  {
   "cell_type": "code",
   "execution_count": 119,
   "metadata": {},
   "outputs": [
    {
     "data": {
      "text/plain": [
       "array([0., 0., 0., 0., 1.])"
      ]
     },
     "execution_count": 119,
     "metadata": {},
     "output_type": "execute_result"
    }
   ],
   "source": [
    "# Apply One-hot encoding to the target labels\n",
    "enc = OneHotEncoder()\n",
    "enc.fit(y_train)\n",
    "\n",
    "encoded_y_train = enc.transform(y_train).toarray()\n",
    "encoded_y_test = enc.transform(y_test).toarray()\n",
    "encoded_y_train[0]"
   ]
  },
  {
   "cell_type": "markdown",
   "metadata": {},
   "source": [
    "# Build a Deep Neural Network"
   ]
  },
  {
   "cell_type": "code",
   "execution_count": 120,
   "metadata": {},
   "outputs": [],
   "source": [
    "# Create a sequential model\n",
    "model = Sequential()"
   ]
  },
  {
   "cell_type": "code",
   "execution_count": 121,
   "metadata": {},
   "outputs": [],
   "source": [
    "# Add the first layer where the input dimensions are the X.shape[1] = 8 columns of the training data\n",
    "model.add(Dense(50, activation='relu', input_dim = X.shape[1]))\n",
    "    \n",
    "# Add the 2nd layer where the input dimensions are the 12 columns of the training data\n",
    "model.add(Dense(50, activation='relu', input_dim = 50))\n",
    "\n",
    "# Add output layer\n",
    "model.add(Dense(5, activation=\"softmax\", input_dim = 50))"
   ]
  },
  {
   "cell_type": "code",
   "execution_count": 122,
   "metadata": {},
   "outputs": [],
   "source": [
    "# The output layer has 8 columns that are one-hot encoded\n",
    "y_train.playlist.value_counts()\n",
    "\n",
    "# 5 output since there're 5 playlists\n",
    "number_outputs = 5"
   ]
  },
  {
   "cell_type": "code",
   "execution_count": 123,
   "metadata": {},
   "outputs": [],
   "source": [
    "# Compile the model using categorical_crossentropy for the loss function, the adam optimizer,\n",
    "# and add accuracy to the training metrics\n",
    "model.compile(optimizer=\"adam\", loss=\"categorical_crossentropy\", metrics=[\"accuracy\"])\n"
   ]
  },
  {
   "cell_type": "code",
   "execution_count": 124,
   "metadata": {},
   "outputs": [
    {
     "name": "stdout",
     "output_type": "stream",
     "text": [
      "Model: \"sequential_3\"\n",
      "_________________________________________________________________\n",
      " Layer (type)                Output Shape              Param #   \n",
      "=================================================================\n",
      " dense_9 (Dense)             (None, 50)                450       \n",
      "                                                                 \n",
      " dense_10 (Dense)            (None, 50)                2550      \n",
      "                                                                 \n",
      " dense_11 (Dense)            (None, 5)                 255       \n",
      "                                                                 \n",
      "=================================================================\n",
      "Total params: 3,255\n",
      "Trainable params: 3,255\n",
      "Non-trainable params: 0\n",
      "_________________________________________________________________\n"
     ]
    }
   ],
   "source": [
    "# Print the model summary\n",
    "model.summary()\n"
   ]
  },
  {
   "cell_type": "code",
   "execution_count": 125,
   "metadata": {},
   "outputs": [
    {
     "name": "stdout",
     "output_type": "stream",
     "text": [
      "Epoch 1/10\n",
      "11/11 - 0s - loss: 1.6429 - accuracy: 0.2529 - 202ms/epoch - 18ms/step\n",
      "Epoch 2/10\n",
      "11/11 - 0s - loss: 1.5505 - accuracy: 0.3147 - 6ms/epoch - 546us/step\n",
      "Epoch 3/10\n",
      "11/11 - 0s - loss: 1.4815 - accuracy: 0.3882 - 6ms/epoch - 545us/step\n",
      "Epoch 4/10\n",
      "11/11 - 0s - loss: 1.4271 - accuracy: 0.4324 - 7ms/epoch - 636us/step\n",
      "Epoch 5/10\n",
      "11/11 - 0s - loss: 1.3750 - accuracy: 0.4794 - 7ms/epoch - 637us/step\n",
      "Epoch 6/10\n",
      "11/11 - 0s - loss: 1.3340 - accuracy: 0.4794 - 8ms/epoch - 727us/step\n",
      "Epoch 7/10\n",
      "11/11 - 0s - loss: 1.2945 - accuracy: 0.5088 - 7ms/epoch - 637us/step\n",
      "Epoch 8/10\n",
      "11/11 - 0s - loss: 1.2589 - accuracy: 0.5206 - 7ms/epoch - 637us/step\n",
      "Epoch 9/10\n",
      "11/11 - 0s - loss: 1.2280 - accuracy: 0.5235 - 6ms/epoch - 546us/step\n",
      "Epoch 10/10\n",
      "11/11 - 0s - loss: 1.2012 - accuracy: 0.5353 - 7ms/epoch - 636us/step\n"
     ]
    },
    {
     "data": {
      "text/plain": [
       "<keras.callbacks.History at 0x2342688af08>"
      ]
     },
     "execution_count": 125,
     "metadata": {},
     "output_type": "execute_result"
    }
   ],
   "source": [
    "# Use the training data to fit (train) the model\n",
    "# @NOTE: Experiment with the number of training epochs to find the minimum iterations required to achieve a good accuracy\n",
    "model.fit(\n",
    "    X_train_scaled,\n",
    "    encoded_y_train,\n",
    "    epochs=10,\n",
    "    shuffle=True,\n",
    "    verbose=2\n",
    ")"
   ]
  },
  {
   "cell_type": "markdown",
   "metadata": {},
   "source": [
    "# Evaluate the Model on Test Data\n"
   ]
  },
  {
   "cell_type": "code",
   "execution_count": 126,
   "metadata": {},
   "outputs": [
    {
     "name": "stdout",
     "output_type": "stream",
     "text": [
      "4/4 - 0s - loss: 1.2740 - accuracy: 0.5088 - 67ms/epoch - 17ms/step\n",
      "Normal Neural Network - Loss: 1.2739595174789429, Accuracy: 0.5087719559669495\n"
     ]
    }
   ],
   "source": [
    "# Evaluate the model using the testing data\n",
    "model_loss, model_accuracy = model.evaluate(X_test_scaled, encoded_y_test, verbose=2)\n",
    "print(f\"Normal Neural Network - Loss: {model_loss}, Accuracy: {model_accuracy}\")"
   ]
  },
  {
   "cell_type": "code",
   "execution_count": 127,
   "metadata": {},
   "outputs": [],
   "source": [
    "y_index = y_test.index.values\n",
    "\n",
    "y_tracks = []\n",
    "\n",
    "#to identify which track has been selected for y_test\n",
    "for index in y_index:\n",
    "    track = df.at[index, \"track\"]\n",
    "    y_tracks.append(track)"
   ]
  },
  {
   "cell_type": "code",
   "execution_count": 128,
   "metadata": {},
   "outputs": [
    {
     "data": {
      "text/html": [
       "<div>\n",
       "<style scoped>\n",
       "    .dataframe tbody tr th:only-of-type {\n",
       "        vertical-align: middle;\n",
       "    }\n",
       "\n",
       "    .dataframe tbody tr th {\n",
       "        vertical-align: top;\n",
       "    }\n",
       "\n",
       "    .dataframe thead th {\n",
       "        text-align: right;\n",
       "    }\n",
       "</style>\n",
       "<table border=\"1\" class=\"dataframe\">\n",
       "  <thead>\n",
       "    <tr style=\"text-align: right;\">\n",
       "      <th></th>\n",
       "      <th>Index</th>\n",
       "      <th>Track</th>\n",
       "      <th>Actual</th>\n",
       "      <th>Predicted</th>\n",
       "    </tr>\n",
       "  </thead>\n",
       "  <tbody>\n",
       "    <tr>\n",
       "      <th>0</th>\n",
       "      <td>67</td>\n",
       "      <td>ベイビー・アイラブユー - English Ver.</td>\n",
       "      <td>ryan</td>\n",
       "      <td>terry</td>\n",
       "    </tr>\n",
       "    <tr>\n",
       "      <th>1</th>\n",
       "      <td>146</td>\n",
       "      <td>Call It What You Want</td>\n",
       "      <td>sarah</td>\n",
       "      <td>sarah</td>\n",
       "    </tr>\n",
       "    <tr>\n",
       "      <th>2</th>\n",
       "      <td>377</td>\n",
       "      <td>Peta (feat. Meek Mill)</td>\n",
       "      <td>abdul</td>\n",
       "      <td>abdul</td>\n",
       "    </tr>\n",
       "    <tr>\n",
       "      <th>3</th>\n",
       "      <td>249</td>\n",
       "      <td>Hold My Girl</td>\n",
       "      <td>terry</td>\n",
       "      <td>sarah</td>\n",
       "    </tr>\n",
       "    <tr>\n",
       "      <th>4</th>\n",
       "      <td>418</td>\n",
       "      <td>Dynamite</td>\n",
       "      <td>alex</td>\n",
       "      <td>abdul</td>\n",
       "    </tr>\n",
       "    <tr>\n",
       "      <th>5</th>\n",
       "      <td>400</td>\n",
       "      <td>Hurricane</td>\n",
       "      <td>alex</td>\n",
       "      <td>abdul</td>\n",
       "    </tr>\n",
       "    <tr>\n",
       "      <th>6</th>\n",
       "      <td>379</td>\n",
       "      <td>pushin P (feat. Young Thug)</td>\n",
       "      <td>abdul</td>\n",
       "      <td>abdul</td>\n",
       "    </tr>\n",
       "    <tr>\n",
       "      <th>7</th>\n",
       "      <td>334</td>\n",
       "      <td>Poppin' - Main</td>\n",
       "      <td>abdul</td>\n",
       "      <td>abdul</td>\n",
       "    </tr>\n",
       "    <tr>\n",
       "      <th>8</th>\n",
       "      <td>401</td>\n",
       "      <td>Praise God</td>\n",
       "      <td>alex</td>\n",
       "      <td>abdul</td>\n",
       "    </tr>\n",
       "    <tr>\n",
       "      <th>9</th>\n",
       "      <td>92</td>\n",
       "      <td>隠形的翅膀</td>\n",
       "      <td>ryan</td>\n",
       "      <td>sarah</td>\n",
       "    </tr>\n",
       "  </tbody>\n",
       "</table>\n",
       "</div>"
      ],
      "text/plain": [
       "   Index                        Track Actual Predicted\n",
       "0     67   ベイビー・アイラブユー - English Ver.   ryan     terry\n",
       "1    146        Call It What You Want  sarah     sarah\n",
       "2    377       Peta (feat. Meek Mill)  abdul     abdul\n",
       "3    249                 Hold My Girl  terry     sarah\n",
       "4    418                     Dynamite   alex     abdul\n",
       "5    400                    Hurricane   alex     abdul\n",
       "6    379  pushin P (feat. Young Thug)  abdul     abdul\n",
       "7    334               Poppin' - Main  abdul     abdul\n",
       "8    401                   Praise God   alex     abdul\n",
       "9     92                        隠形的翅膀   ryan     sarah"
      ]
     },
     "execution_count": 128,
     "metadata": {},
     "output_type": "execute_result"
    }
   ],
   "source": [
    "# Make predictions\n",
    "predicted = model.predict(X_test_scaled)\n",
    "predicted = enc.inverse_transform(predicted).flatten().tolist()\n",
    "\n",
    "# creating a prediction table\n",
    "results = pd.DataFrame({\n",
    "    \"Index\": y_test.index.values,\n",
    "    \"Track\": y_tracks,\n",
    "    \"Actual\": y_test.playlist.values,\n",
    "    \"Predicted\": predicted\n",
    "})\n",
    "results.head(10)"
   ]
  },
  {
   "cell_type": "code",
   "execution_count": 129,
   "metadata": {},
   "outputs": [
    {
     "name": "stdout",
     "output_type": "stream",
     "text": [
      "              precision    recall  f1-score   support\n",
      "\n",
      "       abdul       0.57      0.82      0.68        28\n",
      "        alex       0.00      0.00      0.00        15\n",
      "        ryan       0.40      0.38      0.39        21\n",
      "       sarah       0.40      0.61      0.48        23\n",
      "       terry       0.68      0.48      0.57        27\n",
      "\n",
      "    accuracy                           0.51       114\n",
      "   macro avg       0.41      0.46      0.42       114\n",
      "weighted avg       0.46      0.51      0.47       114\n",
      "\n"
     ]
    },
    {
     "name": "stderr",
     "output_type": "stream",
     "text": [
      "C:\\Users\\yfkok\\anaconda3\\envs\\pyvizenv\\lib\\site-packages\\sklearn\\metrics\\_classification.py:1318: UndefinedMetricWarning: Precision and F-score are ill-defined and being set to 0.0 in labels with no predicted samples. Use `zero_division` parameter to control this behavior.\n",
      "  _warn_prf(average, modifier, msg_start, len(result))\n",
      "C:\\Users\\yfkok\\anaconda3\\envs\\pyvizenv\\lib\\site-packages\\sklearn\\metrics\\_classification.py:1318: UndefinedMetricWarning: Precision and F-score are ill-defined and being set to 0.0 in labels with no predicted samples. Use `zero_division` parameter to control this behavior.\n",
      "  _warn_prf(average, modifier, msg_start, len(result))\n",
      "C:\\Users\\yfkok\\anaconda3\\envs\\pyvizenv\\lib\\site-packages\\sklearn\\metrics\\_classification.py:1318: UndefinedMetricWarning: Precision and F-score are ill-defined and being set to 0.0 in labels with no predicted samples. Use `zero_division` parameter to control this behavior.\n",
      "  _warn_prf(average, modifier, msg_start, len(result))\n"
     ]
    }
   ],
   "source": [
    "# Print the Classification Report\n",
    "from sklearn.metrics import classification_report\n",
    "print(classification_report(results.Actual, results.Predicted))"
   ]
  },
  {
   "cell_type": "markdown",
   "metadata": {},
   "source": [
    "## Evaluate the Model on Training Data"
   ]
  },
  {
   "cell_type": "code",
   "execution_count": 130,
   "metadata": {},
   "outputs": [
    {
     "data": {
      "text/plain": [
       "((340, 8), (340, 1))"
      ]
     },
     "execution_count": 130,
     "metadata": {},
     "output_type": "execute_result"
    }
   ],
   "source": [
    "# Identifying data shape\n",
    "X_train.shape, y_train.shape"
   ]
  },
  {
   "cell_type": "code",
   "execution_count": 131,
   "metadata": {},
   "outputs": [
    {
     "data": {
      "text/plain": [
       "-68.0"
      ]
     },
     "execution_count": 131,
     "metadata": {},
     "output_type": "execute_result"
    }
   ],
   "source": [
    "#using 20% of training data as validation data\n",
    "-X_train.shape[0]*0.2"
   ]
  },
  {
   "cell_type": "code",
   "execution_count": 132,
   "metadata": {},
   "outputs": [],
   "source": [
    "#ADD VALIDATION DATA\n",
    "#https://www.tensorflow.org/guide/keras/train_and_evaluate\n",
    "x_val = X_train_scaled[-68:]\n",
    "y_val = encoded_y_train[-68:]\n",
    "x_train = X_train_scaled[:-68]\n",
    "y_train = encoded_y_train[:-68]"
   ]
  },
  {
   "cell_type": "code",
   "execution_count": 133,
   "metadata": {},
   "outputs": [
    {
     "data": {
      "text/plain": [
       "((68, 8), (68, 5), (272, 8), (272, 5))"
      ]
     },
     "execution_count": 133,
     "metadata": {},
     "output_type": "execute_result"
    }
   ],
   "source": [
    "x_val.shape,y_val.shape,x_train.shape,y_train.shape"
   ]
  },
  {
   "cell_type": "code",
   "execution_count": 134,
   "metadata": {},
   "outputs": [
    {
     "name": "stdout",
     "output_type": "stream",
     "text": [
      "Fit model on training data\n",
      "Epoch 1/2\n",
      "5/5 [==============================] - 0s 8ms/step - loss: 1.1765 - accuracy: 0.5294 - val_loss: 1.1870 - val_accuracy: 0.5882\n",
      "Epoch 2/2\n",
      "5/5 [==============================] - 0s 5ms/step - loss: 1.1658 - accuracy: 0.5331 - val_loss: 1.1837 - val_accuracy: 0.5882\n"
     ]
    }
   ],
   "source": [
    "#We call fit(), which will train the model by slicing the data into \"batches\" of size batch_size, \n",
    "#and repeatedly iterating over the entire dataset for a given number of epochs.\n",
    "\n",
    "print(\"Fit model on training data\")\n",
    "history = model.fit(\n",
    "    x_train,\n",
    "    y_train,\n",
    "    batch_size=64,\n",
    "    epochs=10,\n",
    "    # We pass some validation for\n",
    "    # monitoring validation loss and metrics\n",
    "    # at the end of each epoch\n",
    "    validation_data=(x_val, y_val),\n",
    ")"
   ]
  },
  {
   "cell_type": "code",
   "execution_count": 135,
   "metadata": {},
   "outputs": [
    {
     "data": {
      "text/plain": [
       "{'loss': [1.176526665687561, 1.1658236980438232],\n",
       " 'accuracy': [0.529411792755127, 0.533088207244873],\n",
       " 'val_loss': [1.1870286464691162, 1.1836706399917603],\n",
       " 'val_accuracy': [0.5882353186607361, 0.5882353186607361]}"
      ]
     },
     "execution_count": 135,
     "metadata": {},
     "output_type": "execute_result"
    }
   ],
   "source": [
    "#The returned history object holds a record of the loss values and metric values during training\n",
    "history.history"
   ]
  },
  {
   "cell_type": "code",
   "execution_count": null,
   "metadata": {},
   "outputs": [],
   "source": []
  }
 ],
 "metadata": {
  "anaconda-cloud": {},
  "kernelspec": {
   "display_name": "Python 3 (ipykernel)",
   "language": "python",
   "name": "python3"
  },
  "language_info": {
   "codemirror_mode": {
    "name": "ipython",
    "version": 3
   },
   "file_extension": ".py",
   "mimetype": "text/x-python",
   "name": "python",
   "nbconvert_exporter": "python",
   "pygments_lexer": "ipython3",
   "version": "3.7.11"
  },
  "varInspector": {
   "cols": {
    "lenName": 16,
    "lenType": 16,
    "lenVar": 40
   },
   "kernels_config": {
    "python": {
     "delete_cmd_postfix": "",
     "delete_cmd_prefix": "del ",
     "library": "var_list.py",
     "varRefreshCmd": "print(var_dic_list())"
    },
    "r": {
     "delete_cmd_postfix": ") ",
     "delete_cmd_prefix": "rm(",
     "library": "var_list.r",
     "varRefreshCmd": "cat(var_dic_list()) "
    }
   },
   "types_to_exclude": [
    "module",
    "function",
    "builtin_function_or_method",
    "instance",
    "_Feature"
   ],
   "window_display": false
  }
 },
 "nbformat": 4,
 "nbformat_minor": 4
}
