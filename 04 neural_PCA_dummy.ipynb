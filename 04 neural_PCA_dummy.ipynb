{
 "cells": [
  {
   "cell_type": "markdown",
   "metadata": {},
   "source": [
    "# Neural Network Spotify Playlist\n"
   ]
  },
  {
   "cell_type": "markdown",
   "metadata": {},
   "source": [
    "### Data Pre-Processing\n",
    "\n",
    "Prepare the data for the neural network. This includes splitting the data into a training and testing dataset, Scaling the data, and encoding the categorical target values"
   ]
  },
  {
   "cell_type": "code",
   "execution_count": 45,
   "metadata": {},
   "outputs": [],
   "source": [
    "from pathlib import Path\n",
    "\n",
    "import numpy as np\n",
    "import pandas as pd\n",
    "\n",
    "from sklearn.model_selection import train_test_split\n",
    "from sklearn.preprocessing import StandardScaler, OneHotEncoder\n",
    "from sklearn.decomposition import PCA\n",
    "\n",
    "import tensorflow as tf\n",
    "from tensorflow.keras.models import Sequential\n",
    "from tensorflow.keras.layers import Dense\n",
    "from tensorflow import keras\n",
    "from tensorflow.keras import layers\n",
    "import tensorflow as tf"
   ]
  },
  {
   "cell_type": "code",
   "execution_count": 46,
   "metadata": {},
   "outputs": [
    {
     "data": {
      "text/plain": [
       "(454, 22)"
      ]
     },
     "execution_count": 46,
     "metadata": {},
     "output_type": "execute_result"
    }
   ],
   "source": [
    "#reading into compiled csv\n",
    "data = Path(\"Resources/spotify_main_raw_data.csv\")\n",
    "df = pd.read_csv(data)\n",
    "df.shape"
   ]
  },
  {
   "cell_type": "code",
   "execution_count": 47,
   "metadata": {},
   "outputs": [
    {
     "data": {
      "text/html": [
       "<div>\n",
       "<style scoped>\n",
       "    .dataframe tbody tr th:only-of-type {\n",
       "        vertical-align: middle;\n",
       "    }\n",
       "\n",
       "    .dataframe tbody tr th {\n",
       "        vertical-align: top;\n",
       "    }\n",
       "\n",
       "    .dataframe thead th {\n",
       "        text-align: right;\n",
       "    }\n",
       "</style>\n",
       "<table border=\"1\" class=\"dataframe\">\n",
       "  <thead>\n",
       "    <tr style=\"text-align: right;\">\n",
       "      <th></th>\n",
       "      <th>danceability</th>\n",
       "      <th>energy</th>\n",
       "      <th>key</th>\n",
       "      <th>loudness</th>\n",
       "      <th>mode</th>\n",
       "      <th>speechiness</th>\n",
       "      <th>acousticness</th>\n",
       "      <th>instrumentalness</th>\n",
       "      <th>liveness</th>\n",
       "      <th>valence</th>\n",
       "      <th>...</th>\n",
       "      <th>artist_Yang Da Il</th>\n",
       "      <th>artist_Young T &amp; Bugsey</th>\n",
       "      <th>artist_ZZ Top</th>\n",
       "      <th>artist_Zion.T</th>\n",
       "      <th>artist_blink-182</th>\n",
       "      <th>artist_dj poolboi</th>\n",
       "      <th>artist_gianni &amp; kyle</th>\n",
       "      <th>artist_rum.gold</th>\n",
       "      <th>artist_林依晨</th>\n",
       "      <th>artist_王俊凱</th>\n",
       "    </tr>\n",
       "  </thead>\n",
       "  <tbody>\n",
       "    <tr>\n",
       "      <th>0</th>\n",
       "      <td>0.564</td>\n",
       "      <td>0.364</td>\n",
       "      <td>10</td>\n",
       "      <td>-5.845</td>\n",
       "      <td>0</td>\n",
       "      <td>0.0631</td>\n",
       "      <td>0.75900</td>\n",
       "      <td>0.000000</td>\n",
       "      <td>0.0839</td>\n",
       "      <td>0.591</td>\n",
       "      <td>...</td>\n",
       "      <td>0</td>\n",
       "      <td>0</td>\n",
       "      <td>0</td>\n",
       "      <td>0</td>\n",
       "      <td>0</td>\n",
       "      <td>0</td>\n",
       "      <td>0</td>\n",
       "      <td>0</td>\n",
       "      <td>0</td>\n",
       "      <td>0</td>\n",
       "    </tr>\n",
       "    <tr>\n",
       "      <th>1</th>\n",
       "      <td>0.701</td>\n",
       "      <td>0.519</td>\n",
       "      <td>1</td>\n",
       "      <td>-6.382</td>\n",
       "      <td>1</td>\n",
       "      <td>0.0516</td>\n",
       "      <td>0.31400</td>\n",
       "      <td>0.000000</td>\n",
       "      <td>0.2070</td>\n",
       "      <td>0.498</td>\n",
       "      <td>...</td>\n",
       "      <td>0</td>\n",
       "      <td>0</td>\n",
       "      <td>0</td>\n",
       "      <td>0</td>\n",
       "      <td>0</td>\n",
       "      <td>0</td>\n",
       "      <td>0</td>\n",
       "      <td>0</td>\n",
       "      <td>0</td>\n",
       "      <td>0</td>\n",
       "    </tr>\n",
       "    <tr>\n",
       "      <th>2</th>\n",
       "      <td>0.309</td>\n",
       "      <td>0.740</td>\n",
       "      <td>7</td>\n",
       "      <td>-5.917</td>\n",
       "      <td>0</td>\n",
       "      <td>0.0456</td>\n",
       "      <td>0.00854</td>\n",
       "      <td>0.025800</td>\n",
       "      <td>0.1190</td>\n",
       "      <td>0.166</td>\n",
       "      <td>...</td>\n",
       "      <td>0</td>\n",
       "      <td>0</td>\n",
       "      <td>0</td>\n",
       "      <td>0</td>\n",
       "      <td>0</td>\n",
       "      <td>0</td>\n",
       "      <td>0</td>\n",
       "      <td>0</td>\n",
       "      <td>0</td>\n",
       "      <td>0</td>\n",
       "    </tr>\n",
       "    <tr>\n",
       "      <th>3</th>\n",
       "      <td>0.552</td>\n",
       "      <td>0.637</td>\n",
       "      <td>5</td>\n",
       "      <td>-6.568</td>\n",
       "      <td>1</td>\n",
       "      <td>0.0445</td>\n",
       "      <td>0.46400</td>\n",
       "      <td>0.000016</td>\n",
       "      <td>0.1360</td>\n",
       "      <td>0.333</td>\n",
       "      <td>...</td>\n",
       "      <td>0</td>\n",
       "      <td>0</td>\n",
       "      <td>0</td>\n",
       "      <td>0</td>\n",
       "      <td>0</td>\n",
       "      <td>0</td>\n",
       "      <td>0</td>\n",
       "      <td>0</td>\n",
       "      <td>0</td>\n",
       "      <td>0</td>\n",
       "    </tr>\n",
       "    <tr>\n",
       "      <th>4</th>\n",
       "      <td>0.655</td>\n",
       "      <td>0.885</td>\n",
       "      <td>7</td>\n",
       "      <td>-4.116</td>\n",
       "      <td>1</td>\n",
       "      <td>0.0438</td>\n",
       "      <td>0.00117</td>\n",
       "      <td>0.000473</td>\n",
       "      <td>0.0448</td>\n",
       "      <td>0.938</td>\n",
       "      <td>...</td>\n",
       "      <td>0</td>\n",
       "      <td>0</td>\n",
       "      <td>0</td>\n",
       "      <td>0</td>\n",
       "      <td>0</td>\n",
       "      <td>0</td>\n",
       "      <td>0</td>\n",
       "      <td>0</td>\n",
       "      <td>0</td>\n",
       "      <td>0</td>\n",
       "    </tr>\n",
       "  </tbody>\n",
       "</table>\n",
       "<p>5 rows × 313 columns</p>\n",
       "</div>"
      ],
      "text/plain": [
       "   danceability  energy  key  loudness  mode  speechiness  acousticness  \\\n",
       "0         0.564   0.364   10    -5.845     0       0.0631       0.75900   \n",
       "1         0.701   0.519    1    -6.382     1       0.0516       0.31400   \n",
       "2         0.309   0.740    7    -5.917     0       0.0456       0.00854   \n",
       "3         0.552   0.637    5    -6.568     1       0.0445       0.46400   \n",
       "4         0.655   0.885    7    -4.116     1       0.0438       0.00117   \n",
       "\n",
       "   instrumentalness  liveness  valence  ...  artist_Yang Da Il  \\\n",
       "0          0.000000    0.0839    0.591  ...                  0   \n",
       "1          0.000000    0.2070    0.498  ...                  0   \n",
       "2          0.025800    0.1190    0.166  ...                  0   \n",
       "3          0.000016    0.1360    0.333  ...                  0   \n",
       "4          0.000473    0.0448    0.938  ...                  0   \n",
       "\n",
       "   artist_Young T & Bugsey artist_ZZ Top  artist_Zion.T  artist_blink-182  \\\n",
       "0                        0             0              0                 0   \n",
       "1                        0             0              0                 0   \n",
       "2                        0             0              0                 0   \n",
       "3                        0             0              0                 0   \n",
       "4                        0             0              0                 0   \n",
       "\n",
       "   artist_dj poolboi  artist_gianni & kyle  artist_rum.gold  artist_林依晨  \\\n",
       "0                  0                     0                0           0   \n",
       "1                  0                     0                0           0   \n",
       "2                  0                     0                0           0   \n",
       "3                  0                     0                0           0   \n",
       "4                  0                     0                0           0   \n",
       "\n",
       "   artist_王俊凱  \n",
       "0           0  \n",
       "1           0  \n",
       "2           0  \n",
       "3           0  \n",
       "4           0  \n",
       "\n",
       "[5 rows x 313 columns]"
      ]
     },
     "execution_count": 47,
     "metadata": {},
     "output_type": "execute_result"
    }
   ],
   "source": [
    "#dropping irrelevant columns\n",
    "raw_data = df.drop(['Unnamed: 0',\"track\",\"type\",\"id\",\"uri\",\"track_href\",\"analysis_url\",\"time_signature\"],axis=1)\n",
    "\n",
    "# Encoding the Artist's column\n",
    "spot_df = pd.get_dummies(raw_data, columns=[\"artist\"])\n",
    "spot_df.head()"
   ]
  },
  {
   "cell_type": "code",
   "execution_count": 48,
   "metadata": {},
   "outputs": [
    {
     "data": {
      "text/html": [
       "<div>\n",
       "<style scoped>\n",
       "    .dataframe tbody tr th:only-of-type {\n",
       "        vertical-align: middle;\n",
       "    }\n",
       "\n",
       "    .dataframe tbody tr th {\n",
       "        vertical-align: top;\n",
       "    }\n",
       "\n",
       "    .dataframe thead th {\n",
       "        text-align: right;\n",
       "    }\n",
       "</style>\n",
       "<table border=\"1\" class=\"dataframe\">\n",
       "  <thead>\n",
       "    <tr style=\"text-align: right;\">\n",
       "      <th></th>\n",
       "      <th>danceability</th>\n",
       "      <th>energy</th>\n",
       "      <th>key</th>\n",
       "      <th>loudness</th>\n",
       "      <th>mode</th>\n",
       "      <th>speechiness</th>\n",
       "      <th>acousticness</th>\n",
       "      <th>instrumentalness</th>\n",
       "      <th>liveness</th>\n",
       "      <th>valence</th>\n",
       "      <th>...</th>\n",
       "      <th>artist_Yang Da Il</th>\n",
       "      <th>artist_Young T &amp; Bugsey</th>\n",
       "      <th>artist_ZZ Top</th>\n",
       "      <th>artist_Zion.T</th>\n",
       "      <th>artist_blink-182</th>\n",
       "      <th>artist_dj poolboi</th>\n",
       "      <th>artist_gianni &amp; kyle</th>\n",
       "      <th>artist_rum.gold</th>\n",
       "      <th>artist_林依晨</th>\n",
       "      <th>artist_王俊凱</th>\n",
       "    </tr>\n",
       "  </thead>\n",
       "  <tbody>\n",
       "    <tr>\n",
       "      <th>0</th>\n",
       "      <td>0.564</td>\n",
       "      <td>0.364</td>\n",
       "      <td>10</td>\n",
       "      <td>-5.845</td>\n",
       "      <td>0</td>\n",
       "      <td>0.0631</td>\n",
       "      <td>0.75900</td>\n",
       "      <td>0.000000</td>\n",
       "      <td>0.0839</td>\n",
       "      <td>0.591</td>\n",
       "      <td>...</td>\n",
       "      <td>0</td>\n",
       "      <td>0</td>\n",
       "      <td>0</td>\n",
       "      <td>0</td>\n",
       "      <td>0</td>\n",
       "      <td>0</td>\n",
       "      <td>0</td>\n",
       "      <td>0</td>\n",
       "      <td>0</td>\n",
       "      <td>0</td>\n",
       "    </tr>\n",
       "    <tr>\n",
       "      <th>1</th>\n",
       "      <td>0.701</td>\n",
       "      <td>0.519</td>\n",
       "      <td>1</td>\n",
       "      <td>-6.382</td>\n",
       "      <td>1</td>\n",
       "      <td>0.0516</td>\n",
       "      <td>0.31400</td>\n",
       "      <td>0.000000</td>\n",
       "      <td>0.2070</td>\n",
       "      <td>0.498</td>\n",
       "      <td>...</td>\n",
       "      <td>0</td>\n",
       "      <td>0</td>\n",
       "      <td>0</td>\n",
       "      <td>0</td>\n",
       "      <td>0</td>\n",
       "      <td>0</td>\n",
       "      <td>0</td>\n",
       "      <td>0</td>\n",
       "      <td>0</td>\n",
       "      <td>0</td>\n",
       "    </tr>\n",
       "    <tr>\n",
       "      <th>2</th>\n",
       "      <td>0.309</td>\n",
       "      <td>0.740</td>\n",
       "      <td>7</td>\n",
       "      <td>-5.917</td>\n",
       "      <td>0</td>\n",
       "      <td>0.0456</td>\n",
       "      <td>0.00854</td>\n",
       "      <td>0.025800</td>\n",
       "      <td>0.1190</td>\n",
       "      <td>0.166</td>\n",
       "      <td>...</td>\n",
       "      <td>0</td>\n",
       "      <td>0</td>\n",
       "      <td>0</td>\n",
       "      <td>0</td>\n",
       "      <td>0</td>\n",
       "      <td>0</td>\n",
       "      <td>0</td>\n",
       "      <td>0</td>\n",
       "      <td>0</td>\n",
       "      <td>0</td>\n",
       "    </tr>\n",
       "    <tr>\n",
       "      <th>3</th>\n",
       "      <td>0.552</td>\n",
       "      <td>0.637</td>\n",
       "      <td>5</td>\n",
       "      <td>-6.568</td>\n",
       "      <td>1</td>\n",
       "      <td>0.0445</td>\n",
       "      <td>0.46400</td>\n",
       "      <td>0.000016</td>\n",
       "      <td>0.1360</td>\n",
       "      <td>0.333</td>\n",
       "      <td>...</td>\n",
       "      <td>0</td>\n",
       "      <td>0</td>\n",
       "      <td>0</td>\n",
       "      <td>0</td>\n",
       "      <td>0</td>\n",
       "      <td>0</td>\n",
       "      <td>0</td>\n",
       "      <td>0</td>\n",
       "      <td>0</td>\n",
       "      <td>0</td>\n",
       "    </tr>\n",
       "    <tr>\n",
       "      <th>4</th>\n",
       "      <td>0.655</td>\n",
       "      <td>0.885</td>\n",
       "      <td>7</td>\n",
       "      <td>-4.116</td>\n",
       "      <td>1</td>\n",
       "      <td>0.0438</td>\n",
       "      <td>0.00117</td>\n",
       "      <td>0.000473</td>\n",
       "      <td>0.0448</td>\n",
       "      <td>0.938</td>\n",
       "      <td>...</td>\n",
       "      <td>0</td>\n",
       "      <td>0</td>\n",
       "      <td>0</td>\n",
       "      <td>0</td>\n",
       "      <td>0</td>\n",
       "      <td>0</td>\n",
       "      <td>0</td>\n",
       "      <td>0</td>\n",
       "      <td>0</td>\n",
       "      <td>0</td>\n",
       "    </tr>\n",
       "  </tbody>\n",
       "</table>\n",
       "<p>5 rows × 312 columns</p>\n",
       "</div>"
      ],
      "text/plain": [
       "   danceability  energy  key  loudness  mode  speechiness  acousticness  \\\n",
       "0         0.564   0.364   10    -5.845     0       0.0631       0.75900   \n",
       "1         0.701   0.519    1    -6.382     1       0.0516       0.31400   \n",
       "2         0.309   0.740    7    -5.917     0       0.0456       0.00854   \n",
       "3         0.552   0.637    5    -6.568     1       0.0445       0.46400   \n",
       "4         0.655   0.885    7    -4.116     1       0.0438       0.00117   \n",
       "\n",
       "   instrumentalness  liveness  valence  ...  artist_Yang Da Il  \\\n",
       "0          0.000000    0.0839    0.591  ...                  0   \n",
       "1          0.000000    0.2070    0.498  ...                  0   \n",
       "2          0.025800    0.1190    0.166  ...                  0   \n",
       "3          0.000016    0.1360    0.333  ...                  0   \n",
       "4          0.000473    0.0448    0.938  ...                  0   \n",
       "\n",
       "   artist_Young T & Bugsey  artist_ZZ Top  artist_Zion.T  artist_blink-182  \\\n",
       "0                        0              0              0                 0   \n",
       "1                        0              0              0                 0   \n",
       "2                        0              0              0                 0   \n",
       "3                        0              0              0                 0   \n",
       "4                        0              0              0                 0   \n",
       "\n",
       "   artist_dj poolboi  artist_gianni & kyle  artist_rum.gold  artist_林依晨  \\\n",
       "0                  0                     0                0           0   \n",
       "1                  0                     0                0           0   \n",
       "2                  0                     0                0           0   \n",
       "3                  0                     0                0           0   \n",
       "4                  0                     0                0           0   \n",
       "\n",
       "   artist_王俊凱  \n",
       "0           0  \n",
       "1           0  \n",
       "2           0  \n",
       "3           0  \n",
       "4           0  \n",
       "\n",
       "[5 rows x 312 columns]"
      ]
     },
     "execution_count": 48,
     "metadata": {},
     "output_type": "execute_result"
    }
   ],
   "source": [
    "spotify_data = spot_df.drop([\"playlist\"], axis=1)\n",
    "spotify_data.head()"
   ]
  },
  {
   "cell_type": "code",
   "execution_count": 49,
   "metadata": {},
   "outputs": [],
   "source": [
    "# Standardize data\n",
    "spotify_scaled = StandardScaler().fit_transform(spotify_data)"
   ]
  },
  {
   "cell_type": "code",
   "execution_count": 50,
   "metadata": {},
   "outputs": [
    {
     "data": {
      "text/plain": [
       "array([[ 0.564,  0.364, 10.   , ...,  0.   ,  0.   ,  0.   ],\n",
       "       [ 0.701,  0.519,  1.   , ...,  0.   ,  0.   ,  0.   ],\n",
       "       [ 0.309,  0.74 ,  7.   , ...,  0.   ,  0.   ,  0.   ],\n",
       "       ...,\n",
       "       [ 0.562,  0.934,  5.   , ...,  0.   ,  0.   ,  0.   ],\n",
       "       [ 0.743,  0.446,  4.   , ...,  0.   ,  0.   ,  0.   ],\n",
       "       [ 0.503,  0.581,  6.   , ...,  0.   ,  0.   ,  0.   ]])"
      ]
     },
     "execution_count": 50,
     "metadata": {},
     "output_type": "execute_result"
    }
   ],
   "source": [
    "spotify = np.array(spotify_data)\n",
    "spotify"
   ]
  },
  {
   "cell_type": "code",
   "execution_count": 51,
   "metadata": {},
   "outputs": [
    {
     "data": {
      "text/html": [
       "<div>\n",
       "<style scoped>\n",
       "    .dataframe tbody tr th:only-of-type {\n",
       "        vertical-align: middle;\n",
       "    }\n",
       "\n",
       "    .dataframe tbody tr th {\n",
       "        vertical-align: top;\n",
       "    }\n",
       "\n",
       "    .dataframe thead th {\n",
       "        text-align: right;\n",
       "    }\n",
       "</style>\n",
       "<table border=\"1\" class=\"dataframe\">\n",
       "  <thead>\n",
       "    <tr style=\"text-align: right;\">\n",
       "      <th></th>\n",
       "      <th>principal component 1</th>\n",
       "      <th>principal component 2</th>\n",
       "      <th>principal component 3</th>\n",
       "      <th>principal component 4</th>\n",
       "      <th>principal component 5</th>\n",
       "      <th>principal component 6</th>\n",
       "      <th>principal component 7</th>\n",
       "      <th>principal component 8</th>\n",
       "    </tr>\n",
       "  </thead>\n",
       "  <tbody>\n",
       "    <tr>\n",
       "      <th>0</th>\n",
       "      <td>1.876556</td>\n",
       "      <td>-2.079369</td>\n",
       "      <td>0.429767</td>\n",
       "      <td>-2.888062</td>\n",
       "      <td>0.658185</td>\n",
       "      <td>-1.356652</td>\n",
       "      <td>-0.583383</td>\n",
       "      <td>-0.873052</td>\n",
       "    </tr>\n",
       "    <tr>\n",
       "      <th>1</th>\n",
       "      <td>0.421989</td>\n",
       "      <td>-1.271517</td>\n",
       "      <td>-1.314892</td>\n",
       "      <td>1.669279</td>\n",
       "      <td>-0.136069</td>\n",
       "      <td>-0.411536</td>\n",
       "      <td>1.176187</td>\n",
       "      <td>-1.047807</td>\n",
       "    </tr>\n",
       "    <tr>\n",
       "      <th>2</th>\n",
       "      <td>0.021593</td>\n",
       "      <td>6.201081</td>\n",
       "      <td>-0.219186</td>\n",
       "      <td>-2.838112</td>\n",
       "      <td>-4.244688</td>\n",
       "      <td>-2.236713</td>\n",
       "      <td>6.906013</td>\n",
       "      <td>2.406996</td>\n",
       "    </tr>\n",
       "    <tr>\n",
       "      <th>3</th>\n",
       "      <td>0.633654</td>\n",
       "      <td>0.276765</td>\n",
       "      <td>-0.714865</td>\n",
       "      <td>0.220098</td>\n",
       "      <td>0.295061</td>\n",
       "      <td>-1.186853</td>\n",
       "      <td>1.177320</td>\n",
       "      <td>-0.051810</td>\n",
       "    </tr>\n",
       "    <tr>\n",
       "      <th>4</th>\n",
       "      <td>-2.464008</td>\n",
       "      <td>-0.760160</td>\n",
       "      <td>-2.279879</td>\n",
       "      <td>-0.467851</td>\n",
       "      <td>0.567997</td>\n",
       "      <td>-1.052548</td>\n",
       "      <td>-1.301199</td>\n",
       "      <td>0.502535</td>\n",
       "    </tr>\n",
       "  </tbody>\n",
       "</table>\n",
       "</div>"
      ],
      "text/plain": [
       "   principal component 1  principal component 2  principal component 3  \\\n",
       "0               1.876556              -2.079369               0.429767   \n",
       "1               0.421989              -1.271517              -1.314892   \n",
       "2               0.021593               6.201081              -0.219186   \n",
       "3               0.633654               0.276765              -0.714865   \n",
       "4              -2.464008              -0.760160              -2.279879   \n",
       "\n",
       "   principal component 4  principal component 5  principal component 6  \\\n",
       "0              -2.888062               0.658185              -1.356652   \n",
       "1               1.669279              -0.136069              -0.411536   \n",
       "2              -2.838112              -4.244688              -2.236713   \n",
       "3               0.220098               0.295061              -1.186853   \n",
       "4              -0.467851               0.567997              -1.052548   \n",
       "\n",
       "   principal component 7  principal component 8  \n",
       "0              -0.583383              -0.873052  \n",
       "1               1.176187              -1.047807  \n",
       "2               6.906013               2.406996  \n",
       "3               1.177320              -0.051810  \n",
       "4              -1.301199               0.502535  "
      ]
     },
     "execution_count": 51,
     "metadata": {},
     "output_type": "execute_result"
    }
   ],
   "source": [
    "# Initialize PCA model\n",
    "pca = PCA(n_components=8)\n",
    "\n",
    "# Get two principal components for the data.\n",
    "spotify_pca = pca.fit_transform(spotify_scaled)\n",
    "\n",
    "df_spotify_pca = pd.DataFrame(\n",
    "    data=spotify_pca, columns=[\"principal component 1\", \n",
    "                               \"principal component 2\", \n",
    "                               \"principal component 3\", \n",
    "                               \"principal component 4\", \n",
    "                               \"principal component 5\", \n",
    "                               \"principal component 6\",\n",
    "                               \"principal component 7\",\n",
    "                               \"principal component 8\"]\n",
    "                                                        )\n",
    "df_spotify_pca.head()"
   ]
  },
  {
   "cell_type": "code",
   "execution_count": 52,
   "metadata": {},
   "outputs": [
    {
     "name": "stdout",
     "output_type": "stream",
     "text": [
      "We have 5.48% of the information in the original dataset\n"
     ]
    }
   ],
   "source": [
    "# Fetch the explained variance\n",
    "variance_ratio = pca.explained_variance_ratio_\n",
    "\n",
    "print(f\"We have {round((sum(variance_ratio)*100),2)}% of the information in the original dataset\")"
   ]
  },
  {
   "cell_type": "code",
   "execution_count": 53,
   "metadata": {},
   "outputs": [],
   "source": [
    "#appending playlist column back on PCA list\n",
    "df_spotify_pca['playlist'] = raw_data['playlist']"
   ]
  },
  {
   "cell_type": "code",
   "execution_count": 54,
   "metadata": {},
   "outputs": [
    {
     "data": {
      "text/html": [
       "<div>\n",
       "<style scoped>\n",
       "    .dataframe tbody tr th:only-of-type {\n",
       "        vertical-align: middle;\n",
       "    }\n",
       "\n",
       "    .dataframe tbody tr th {\n",
       "        vertical-align: top;\n",
       "    }\n",
       "\n",
       "    .dataframe thead th {\n",
       "        text-align: right;\n",
       "    }\n",
       "</style>\n",
       "<table border=\"1\" class=\"dataframe\">\n",
       "  <thead>\n",
       "    <tr style=\"text-align: right;\">\n",
       "      <th></th>\n",
       "      <th>principal component 1</th>\n",
       "      <th>principal component 2</th>\n",
       "      <th>principal component 3</th>\n",
       "      <th>principal component 4</th>\n",
       "      <th>principal component 5</th>\n",
       "      <th>principal component 6</th>\n",
       "      <th>principal component 7</th>\n",
       "      <th>principal component 8</th>\n",
       "      <th>playlist</th>\n",
       "    </tr>\n",
       "  </thead>\n",
       "  <tbody>\n",
       "    <tr>\n",
       "      <th>0</th>\n",
       "      <td>1.876556</td>\n",
       "      <td>-2.079369</td>\n",
       "      <td>0.429767</td>\n",
       "      <td>-2.888062</td>\n",
       "      <td>0.658185</td>\n",
       "      <td>-1.356652</td>\n",
       "      <td>-0.583383</td>\n",
       "      <td>-0.873052</td>\n",
       "      <td>ryan</td>\n",
       "    </tr>\n",
       "    <tr>\n",
       "      <th>1</th>\n",
       "      <td>0.421989</td>\n",
       "      <td>-1.271517</td>\n",
       "      <td>-1.314892</td>\n",
       "      <td>1.669279</td>\n",
       "      <td>-0.136069</td>\n",
       "      <td>-0.411536</td>\n",
       "      <td>1.176187</td>\n",
       "      <td>-1.047807</td>\n",
       "      <td>ryan</td>\n",
       "    </tr>\n",
       "    <tr>\n",
       "      <th>2</th>\n",
       "      <td>0.021593</td>\n",
       "      <td>6.201081</td>\n",
       "      <td>-0.219186</td>\n",
       "      <td>-2.838112</td>\n",
       "      <td>-4.244688</td>\n",
       "      <td>-2.236713</td>\n",
       "      <td>6.906013</td>\n",
       "      <td>2.406996</td>\n",
       "      <td>ryan</td>\n",
       "    </tr>\n",
       "    <tr>\n",
       "      <th>3</th>\n",
       "      <td>0.633654</td>\n",
       "      <td>0.276765</td>\n",
       "      <td>-0.714865</td>\n",
       "      <td>0.220098</td>\n",
       "      <td>0.295061</td>\n",
       "      <td>-1.186853</td>\n",
       "      <td>1.177320</td>\n",
       "      <td>-0.051810</td>\n",
       "      <td>ryan</td>\n",
       "    </tr>\n",
       "    <tr>\n",
       "      <th>4</th>\n",
       "      <td>-2.464008</td>\n",
       "      <td>-0.760160</td>\n",
       "      <td>-2.279879</td>\n",
       "      <td>-0.467851</td>\n",
       "      <td>0.567997</td>\n",
       "      <td>-1.052548</td>\n",
       "      <td>-1.301199</td>\n",
       "      <td>0.502535</td>\n",
       "      <td>ryan</td>\n",
       "    </tr>\n",
       "    <tr>\n",
       "      <th>...</th>\n",
       "      <td>...</td>\n",
       "      <td>...</td>\n",
       "      <td>...</td>\n",
       "      <td>...</td>\n",
       "      <td>...</td>\n",
       "      <td>...</td>\n",
       "      <td>...</td>\n",
       "      <td>...</td>\n",
       "      <td>...</td>\n",
       "    </tr>\n",
       "    <tr>\n",
       "      <th>449</th>\n",
       "      <td>-1.012177</td>\n",
       "      <td>1.187173</td>\n",
       "      <td>0.418757</td>\n",
       "      <td>1.234964</td>\n",
       "      <td>6.074706</td>\n",
       "      <td>-0.924686</td>\n",
       "      <td>2.608544</td>\n",
       "      <td>0.539105</td>\n",
       "      <td>alex</td>\n",
       "    </tr>\n",
       "    <tr>\n",
       "      <th>450</th>\n",
       "      <td>-0.000413</td>\n",
       "      <td>1.481097</td>\n",
       "      <td>-0.320832</td>\n",
       "      <td>1.762389</td>\n",
       "      <td>1.760652</td>\n",
       "      <td>-0.708704</td>\n",
       "      <td>1.540892</td>\n",
       "      <td>0.180073</td>\n",
       "      <td>alex</td>\n",
       "    </tr>\n",
       "    <tr>\n",
       "      <th>451</th>\n",
       "      <td>-1.621853</td>\n",
       "      <td>1.175019</td>\n",
       "      <td>-1.307763</td>\n",
       "      <td>0.382647</td>\n",
       "      <td>0.248354</td>\n",
       "      <td>-0.792650</td>\n",
       "      <td>1.185612</td>\n",
       "      <td>-0.041043</td>\n",
       "      <td>alex</td>\n",
       "    </tr>\n",
       "    <tr>\n",
       "      <th>452</th>\n",
       "      <td>0.495694</td>\n",
       "      <td>-0.206841</td>\n",
       "      <td>0.803348</td>\n",
       "      <td>-0.572994</td>\n",
       "      <td>-0.096422</td>\n",
       "      <td>1.052658</td>\n",
       "      <td>1.506360</td>\n",
       "      <td>-1.164708</td>\n",
       "      <td>alex</td>\n",
       "    </tr>\n",
       "    <tr>\n",
       "      <th>453</th>\n",
       "      <td>0.336941</td>\n",
       "      <td>-0.362854</td>\n",
       "      <td>-0.581896</td>\n",
       "      <td>0.380112</td>\n",
       "      <td>0.321982</td>\n",
       "      <td>-0.658321</td>\n",
       "      <td>0.690510</td>\n",
       "      <td>0.071170</td>\n",
       "      <td>alex</td>\n",
       "    </tr>\n",
       "  </tbody>\n",
       "</table>\n",
       "<p>454 rows × 9 columns</p>\n",
       "</div>"
      ],
      "text/plain": [
       "     principal component 1  principal component 2  principal component 3  \\\n",
       "0                 1.876556              -2.079369               0.429767   \n",
       "1                 0.421989              -1.271517              -1.314892   \n",
       "2                 0.021593               6.201081              -0.219186   \n",
       "3                 0.633654               0.276765              -0.714865   \n",
       "4                -2.464008              -0.760160              -2.279879   \n",
       "..                     ...                    ...                    ...   \n",
       "449              -1.012177               1.187173               0.418757   \n",
       "450              -0.000413               1.481097              -0.320832   \n",
       "451              -1.621853               1.175019              -1.307763   \n",
       "452               0.495694              -0.206841               0.803348   \n",
       "453               0.336941              -0.362854              -0.581896   \n",
       "\n",
       "     principal component 4  principal component 5  principal component 6  \\\n",
       "0                -2.888062               0.658185              -1.356652   \n",
       "1                 1.669279              -0.136069              -0.411536   \n",
       "2                -2.838112              -4.244688              -2.236713   \n",
       "3                 0.220098               0.295061              -1.186853   \n",
       "4                -0.467851               0.567997              -1.052548   \n",
       "..                     ...                    ...                    ...   \n",
       "449               1.234964               6.074706              -0.924686   \n",
       "450               1.762389               1.760652              -0.708704   \n",
       "451               0.382647               0.248354              -0.792650   \n",
       "452              -0.572994              -0.096422               1.052658   \n",
       "453               0.380112               0.321982              -0.658321   \n",
       "\n",
       "     principal component 7  principal component 8 playlist  \n",
       "0                -0.583383              -0.873052     ryan  \n",
       "1                 1.176187              -1.047807     ryan  \n",
       "2                 6.906013               2.406996     ryan  \n",
       "3                 1.177320              -0.051810     ryan  \n",
       "4                -1.301199               0.502535     ryan  \n",
       "..                     ...                    ...      ...  \n",
       "449               2.608544               0.539105     alex  \n",
       "450               1.540892               0.180073     alex  \n",
       "451               1.185612              -0.041043     alex  \n",
       "452               1.506360              -1.164708     alex  \n",
       "453               0.690510               0.071170     alex  \n",
       "\n",
       "[454 rows x 9 columns]"
      ]
     },
     "execution_count": 54,
     "metadata": {},
     "output_type": "execute_result"
    }
   ],
   "source": [
    "df_spotify_pca"
   ]
  },
  {
   "cell_type": "code",
   "execution_count": 55,
   "metadata": {},
   "outputs": [
    {
     "data": {
      "text/plain": [
       "ryan     100\n",
       "sarah    100\n",
       "abdul    100\n",
       "terry     99\n",
       "alex      55\n",
       "Name: playlist, dtype: int64"
      ]
     },
     "execution_count": 55,
     "metadata": {},
     "output_type": "execute_result"
    }
   ],
   "source": [
    "#Verifying playlist classifications\n",
    "df_spotify_pca.playlist.value_counts()"
   ]
  },
  {
   "cell_type": "code",
   "execution_count": 56,
   "metadata": {},
   "outputs": [],
   "source": [
    "# Define the features X set and the target y vector\n",
    "X = df_spotify_pca.drop(\"playlist\",axis=1)\n",
    "y = df_spotify_pca.loc[:, [\"playlist\"]]"
   ]
  },
  {
   "cell_type": "code",
   "execution_count": 13,
   "metadata": {},
   "outputs": [
    {
     "data": {
      "text/plain": [
       "((330, 8), (110, 8), (330, 1), (110, 1))"
      ]
     },
     "execution_count": 13,
     "metadata": {},
     "output_type": "execute_result"
    }
   ],
   "source": [
    "# Split the dataset into training and testing data\n",
    "X_train, X_test, y_train, y_test = train_test_split(X, y, random_state=1)\n",
    "\n",
    "# Acknowledge the dimension of both test and training data\n",
    "X_train.shape, X_test.shape, y_train.shape, y_test.shape\n"
   ]
  },
  {
   "cell_type": "code",
   "execution_count": 14,
   "metadata": {},
   "outputs": [],
   "source": [
    "# Scale the training and testing input features using StandardScaler\n",
    "X_scaler = StandardScaler()\n",
    "X_scaler.fit(X_train)\n",
    "\n",
    "X_train_scaled = X_scaler.transform(X_train)\n",
    "X_test_scaled = X_scaler.transform(X_test)"
   ]
  },
  {
   "cell_type": "code",
   "execution_count": 15,
   "metadata": {},
   "outputs": [
    {
     "data": {
      "text/plain": [
       "array([0., 0., 0., 0., 1.])"
      ]
     },
     "execution_count": 15,
     "metadata": {},
     "output_type": "execute_result"
    }
   ],
   "source": [
    "# Apply One-hot encoding to the target labels\n",
    "enc = OneHotEncoder()\n",
    "enc.fit(y_train)\n",
    "\n",
    "encoded_y_train = enc.transform(y_train).toarray()\n",
    "encoded_y_test = enc.transform(y_test).toarray()\n",
    "encoded_y_train[0]"
   ]
  },
  {
   "cell_type": "markdown",
   "metadata": {},
   "source": [
    "# Build a Deep Neural Network"
   ]
  },
  {
   "cell_type": "code",
   "execution_count": 16,
   "metadata": {},
   "outputs": [],
   "source": [
    "# Create a sequential model\n",
    "model = Sequential()"
   ]
  },
  {
   "cell_type": "code",
   "execution_count": 17,
   "metadata": {},
   "outputs": [],
   "source": [
    "# Add the first layer where the input dimensions are the X.shape[1] = 8 columns of the training data\n",
    "model.add(Dense(50, activation='relu', input_dim = X.shape[1]))\n",
    "\n",
    "# Add the 2nd layer where the input dimensions are the 12 columns of the training data\n",
    "model.add(Dense(50, activation='relu', input_dim = 50))\n",
    "\n",
    "# Add output layer\n",
    "model.add(Dense(5, activation=\"softmax\", input_dim = 50))"
   ]
  },
  {
   "cell_type": "code",
   "execution_count": 18,
   "metadata": {},
   "outputs": [],
   "source": [
    "# The output layer has 8 columns that are one-hot encoded\n",
    "y_train.playlist.value_counts()\n",
    "\n",
    "# 5 output since there're 5 playlists\n",
    "number_outputs = 5"
   ]
  },
  {
   "cell_type": "code",
   "execution_count": 19,
   "metadata": {},
   "outputs": [],
   "source": [
    "# Compile the model using categorical_crossentropy for the loss function, the adam optimizer,\n",
    "# and add accuracy to the training metrics\n",
    "model.compile(optimizer=\"adam\", loss=\"categorical_crossentropy\", metrics=[\"accuracy\"])\n"
   ]
  },
  {
   "cell_type": "code",
   "execution_count": 20,
   "metadata": {},
   "outputs": [
    {
     "name": "stdout",
     "output_type": "stream",
     "text": [
      "Model: \"sequential\"\n",
      "_________________________________________________________________\n",
      " Layer (type)                Output Shape              Param #   \n",
      "=================================================================\n",
      " dense (Dense)               (None, 50)                450       \n",
      "                                                                 \n",
      " dense_1 (Dense)             (None, 50)                2550      \n",
      "                                                                 \n",
      " dense_2 (Dense)             (None, 5)                 255       \n",
      "                                                                 \n",
      "=================================================================\n",
      "Total params: 3,255\n",
      "Trainable params: 3,255\n",
      "Non-trainable params: 0\n",
      "_________________________________________________________________\n"
     ]
    }
   ],
   "source": [
    "# Print the model summary\n",
    "model.summary()\n"
   ]
  },
  {
   "cell_type": "code",
   "execution_count": 21,
   "metadata": {},
   "outputs": [
    {
     "name": "stdout",
     "output_type": "stream",
     "text": [
      "Epoch 1/10\n",
      "11/11 - 0s - loss: 1.6154 - accuracy: 0.2606 - 464ms/epoch - 42ms/step\n",
      "Epoch 2/10\n",
      "11/11 - 0s - loss: 1.5141 - accuracy: 0.3606 - 9ms/epoch - 818us/step\n",
      "Epoch 3/10\n",
      "11/11 - 0s - loss: 1.4490 - accuracy: 0.4576 - 7ms/epoch - 636us/step\n",
      "Epoch 4/10\n",
      "11/11 - 0s - loss: 1.3915 - accuracy: 0.5152 - 7ms/epoch - 676us/step\n",
      "Epoch 5/10\n",
      "11/11 - 0s - loss: 1.3495 - accuracy: 0.5424 - 8ms/epoch - 727us/step\n",
      "Epoch 6/10\n",
      "11/11 - 0s - loss: 1.3084 - accuracy: 0.5394 - 8ms/epoch - 726us/step\n",
      "Epoch 7/10\n",
      "11/11 - 0s - loss: 1.2753 - accuracy: 0.5515 - 8ms/epoch - 729us/step\n",
      "Epoch 8/10\n",
      "11/11 - 0s - loss: 1.2481 - accuracy: 0.5455 - 8ms/epoch - 725us/step\n",
      "Epoch 9/10\n",
      "11/11 - 0s - loss: 1.2205 - accuracy: 0.5606 - 8ms/epoch - 699us/step\n",
      "Epoch 10/10\n",
      "11/11 - 0s - loss: 1.1996 - accuracy: 0.5697 - 8ms/epoch - 756us/step\n"
     ]
    },
    {
     "data": {
      "text/plain": [
       "<keras.callbacks.History at 0x1c68a683588>"
      ]
     },
     "execution_count": 21,
     "metadata": {},
     "output_type": "execute_result"
    }
   ],
   "source": [
    "# Use the training data to fit (train) the model\n",
    "# @NOTE: Experiment with the number of training epochs to find the minimum iterations required to achieve a good accuracy\n",
    "model.fit(\n",
    "    X_train_scaled,\n",
    "    encoded_y_train,\n",
    "    epochs=10,\n",
    "    shuffle=True,\n",
    "    verbose=2\n",
    ")"
   ]
  },
  {
   "cell_type": "markdown",
   "metadata": {},
   "source": [
    "# Evaluate the Model on Test & Training Data"
   ]
  },
  {
   "cell_type": "code",
   "execution_count": 22,
   "metadata": {},
   "outputs": [
    {
     "name": "stdout",
     "output_type": "stream",
     "text": [
      "4/4 - 0s - loss: 1.2603 - accuracy: 0.5000 - 79ms/epoch - 20ms/step\n",
      "Normal Neural Network - Loss: 1.2603180408477783, Accuracy: 0.5\n"
     ]
    }
   ],
   "source": [
    "# Evaluate the model using the testing data\n",
    "model_loss, model_accuracy = model.evaluate(X_test_scaled, encoded_y_test, verbose=2)\n",
    "print(f\"Normal Neural Network - Loss: {model_loss}, Accuracy: {model_accuracy}\")"
   ]
  },
  {
   "cell_type": "code",
   "execution_count": 23,
   "metadata": {},
   "outputs": [],
   "source": [
    "y_index = y_test.index.values\n",
    "\n",
    "y_tracks = []\n",
    "\n",
    "#to identify which track has been selected for y_test\n",
    "for index in y_index:\n",
    "    track = df.at[index, \"track\"]\n",
    "    y_tracks.append(track)"
   ]
  },
  {
   "cell_type": "code",
   "execution_count": 24,
   "metadata": {},
   "outputs": [
    {
     "data": {
      "text/html": [
       "<div>\n",
       "<style scoped>\n",
       "    .dataframe tbody tr th:only-of-type {\n",
       "        vertical-align: middle;\n",
       "    }\n",
       "\n",
       "    .dataframe tbody tr th {\n",
       "        vertical-align: top;\n",
       "    }\n",
       "\n",
       "    .dataframe thead th {\n",
       "        text-align: right;\n",
       "    }\n",
       "</style>\n",
       "<table border=\"1\" class=\"dataframe\">\n",
       "  <thead>\n",
       "    <tr style=\"text-align: right;\">\n",
       "      <th></th>\n",
       "      <th>Index</th>\n",
       "      <th>Track</th>\n",
       "      <th>Actual</th>\n",
       "      <th>Predicted</th>\n",
       "    </tr>\n",
       "  </thead>\n",
       "  <tbody>\n",
       "    <tr>\n",
       "      <th>0</th>\n",
       "      <td>283</td>\n",
       "      <td>Hit and Run</td>\n",
       "      <td>terry</td>\n",
       "      <td>abdul</td>\n",
       "    </tr>\n",
       "    <tr>\n",
       "      <th>1</th>\n",
       "      <td>369</td>\n",
       "      <td>Ultralight Beam</td>\n",
       "      <td>abdul</td>\n",
       "      <td>abdul</td>\n",
       "    </tr>\n",
       "    <tr>\n",
       "      <th>2</th>\n",
       "      <td>207</td>\n",
       "      <td>I Miss You</td>\n",
       "      <td>terry</td>\n",
       "      <td>terry</td>\n",
       "    </tr>\n",
       "    <tr>\n",
       "      <th>3</th>\n",
       "      <td>300</td>\n",
       "      <td>Don't Stop 'Til You Get Enough</td>\n",
       "      <td>abdul</td>\n",
       "      <td>terry</td>\n",
       "    </tr>\n",
       "    <tr>\n",
       "      <th>4</th>\n",
       "      <td>429</td>\n",
       "      <td>Grenade - Acoustic</td>\n",
       "      <td>alex</td>\n",
       "      <td>sarah</td>\n",
       "    </tr>\n",
       "    <tr>\n",
       "      <th>5</th>\n",
       "      <td>422</td>\n",
       "      <td>Better</td>\n",
       "      <td>alex</td>\n",
       "      <td>sarah</td>\n",
       "    </tr>\n",
       "    <tr>\n",
       "      <th>6</th>\n",
       "      <td>47</td>\n",
       "      <td>All Rise</td>\n",
       "      <td>ryan</td>\n",
       "      <td>sarah</td>\n",
       "    </tr>\n",
       "    <tr>\n",
       "      <th>7</th>\n",
       "      <td>350</td>\n",
       "      <td>Or Nah (feat. The Weeknd, Wiz Khalifa &amp; DJ Mus...</td>\n",
       "      <td>abdul</td>\n",
       "      <td>abdul</td>\n",
       "    </tr>\n",
       "    <tr>\n",
       "      <th>8</th>\n",
       "      <td>232</td>\n",
       "      <td>Money For Nothing</td>\n",
       "      <td>terry</td>\n",
       "      <td>abdul</td>\n",
       "    </tr>\n",
       "    <tr>\n",
       "      <th>9</th>\n",
       "      <td>4</td>\n",
       "      <td>Given Up</td>\n",
       "      <td>ryan</td>\n",
       "      <td>terry</td>\n",
       "    </tr>\n",
       "  </tbody>\n",
       "</table>\n",
       "</div>"
      ],
      "text/plain": [
       "   Index                                              Track Actual Predicted\n",
       "0    283                                        Hit and Run  terry     abdul\n",
       "1    369                                    Ultralight Beam  abdul     abdul\n",
       "2    207                                         I Miss You  terry     terry\n",
       "3    300                     Don't Stop 'Til You Get Enough  abdul     terry\n",
       "4    429                                 Grenade - Acoustic   alex     sarah\n",
       "5    422                                             Better   alex     sarah\n",
       "6     47                                           All Rise   ryan     sarah\n",
       "7    350  Or Nah (feat. The Weeknd, Wiz Khalifa & DJ Mus...  abdul     abdul\n",
       "8    232                                  Money For Nothing  terry     abdul\n",
       "9      4                                           Given Up   ryan     terry"
      ]
     },
     "execution_count": 24,
     "metadata": {},
     "output_type": "execute_result"
    }
   ],
   "source": [
    "# Make predictions\n",
    "predicted = model.predict(X_test_scaled)\n",
    "predicted = enc.inverse_transform(predicted).flatten().tolist()\n",
    "\n",
    "# creating a prediction table\n",
    "results = pd.DataFrame({\n",
    "    \"Index\": y_test.index.values,\n",
    "    \"Track\": y_tracks,\n",
    "    \"Actual\": y_test.playlist.values,\n",
    "    \"Predicted\": predicted\n",
    "})\n",
    "results.head(10)"
   ]
  },
  {
   "cell_type": "code",
   "execution_count": 25,
   "metadata": {},
   "outputs": [
    {
     "name": "stdout",
     "output_type": "stream",
     "text": [
      "              precision    recall  f1-score   support\n",
      "\n",
      "       abdul       0.61      0.65      0.62        31\n",
      "        alex       0.00      0.00      0.00        16\n",
      "        ryan       0.33      0.21      0.26        19\n",
      "       sarah       0.38      0.75      0.51        20\n",
      "       terry       0.62      0.67      0.64        24\n",
      "\n",
      "    accuracy                           0.50       110\n",
      "   macro avg       0.39      0.45      0.41       110\n",
      "weighted avg       0.43      0.50      0.45       110\n",
      "\n"
     ]
    },
    {
     "name": "stderr",
     "output_type": "stream",
     "text": [
      "C:\\Users\\yfkok\\anaconda3\\envs\\pyvizenv\\lib\\site-packages\\sklearn\\metrics\\_classification.py:1318: UndefinedMetricWarning: Precision and F-score are ill-defined and being set to 0.0 in labels with no predicted samples. Use `zero_division` parameter to control this behavior.\n",
      "  _warn_prf(average, modifier, msg_start, len(result))\n",
      "C:\\Users\\yfkok\\anaconda3\\envs\\pyvizenv\\lib\\site-packages\\sklearn\\metrics\\_classification.py:1318: UndefinedMetricWarning: Precision and F-score are ill-defined and being set to 0.0 in labels with no predicted samples. Use `zero_division` parameter to control this behavior.\n",
      "  _warn_prf(average, modifier, msg_start, len(result))\n",
      "C:\\Users\\yfkok\\anaconda3\\envs\\pyvizenv\\lib\\site-packages\\sklearn\\metrics\\_classification.py:1318: UndefinedMetricWarning: Precision and F-score are ill-defined and being set to 0.0 in labels with no predicted samples. Use `zero_division` parameter to control this behavior.\n",
      "  _warn_prf(average, modifier, msg_start, len(result))\n"
     ]
    }
   ],
   "source": [
    "# Print the Classification Report\n",
    "from sklearn.metrics import classification_report\n",
    "print(classification_report(results.Actual, results.Predicted))"
   ]
  },
  {
   "cell_type": "code",
   "execution_count": 26,
   "metadata": {},
   "outputs": [],
   "source": [
    "## Evaluate the Model on Training Data"
   ]
  },
  {
   "cell_type": "code",
   "execution_count": 27,
   "metadata": {},
   "outputs": [
    {
     "data": {
      "text/plain": [
       "((330, 8), (330, 1))"
      ]
     },
     "execution_count": 27,
     "metadata": {},
     "output_type": "execute_result"
    }
   ],
   "source": [
    "# Identifying data shape\n",
    "X_train.shape, y_train.shape"
   ]
  },
  {
   "cell_type": "code",
   "execution_count": 28,
   "metadata": {},
   "outputs": [
    {
     "data": {
      "text/plain": [
       "-66.0"
      ]
     },
     "execution_count": 28,
     "metadata": {},
     "output_type": "execute_result"
    }
   ],
   "source": [
    "#using 20% of training data as validation data\n",
    "-X_train.shape[0]*0.2"
   ]
  },
  {
   "cell_type": "code",
   "execution_count": 29,
   "metadata": {},
   "outputs": [],
   "source": [
    "#ADD VALIDATION DATA\n",
    "#https://www.tensorflow.org/guide/keras/train_and_evaluate\n",
    "x_val = X_train_scaled[-58:]\n",
    "y_val = encoded_y_train[-58:]\n",
    "x_train = X_train_scaled[:-58]\n",
    "y_train = encoded_y_train[:-58]"
   ]
  },
  {
   "cell_type": "code",
   "execution_count": 30,
   "metadata": {},
   "outputs": [
    {
     "data": {
      "text/plain": [
       "((58, 8), (58, 5), (272, 8), (272, 5))"
      ]
     },
     "execution_count": 30,
     "metadata": {},
     "output_type": "execute_result"
    }
   ],
   "source": [
    "x_val.shape,y_val.shape,x_train.shape,y_train.shape"
   ]
  },
  {
   "cell_type": "code",
   "execution_count": 31,
   "metadata": {},
   "outputs": [
    {
     "name": "stdout",
     "output_type": "stream",
     "text": [
      "Fit model on training data\n",
      "Epoch 1/2\n",
      "5/5 [==============================] - 0s 10ms/step - loss: 1.1434 - accuracy: 0.5846 - val_loss: 1.3667 - val_accuracy: 0.5000\n",
      "Epoch 2/2\n",
      "5/5 [==============================] - 0s 5ms/step - loss: 1.1320 - accuracy: 0.5919 - val_loss: 1.3717 - val_accuracy: 0.5000\n"
     ]
    }
   ],
   "source": [
    "#We call fit(), which will train the model by slicing the data into \"batches\" of size batch_size, \n",
    "#and repeatedly iterating over the entire dataset for a given number of epochs.\n",
    "\n",
    "print(\"Fit model on training data\")\n",
    "history = model.fit(\n",
    "    x_train,\n",
    "    y_train,\n",
    "    batch_size=64,\n",
    "    epochs=2,\n",
    "    # We pass some validation for\n",
    "    # monitoring validation loss and metrics\n",
    "    # at the end of each epoch\n",
    "    validation_data=(x_val, y_val),\n",
    ")"
   ]
  },
  {
   "cell_type": "code",
   "execution_count": 32,
   "metadata": {},
   "outputs": [
    {
     "data": {
      "text/plain": [
       "{'loss': [1.1433531045913696, 1.132018804550171],\n",
       " 'accuracy': [0.5845588445663452, 0.591911792755127],\n",
       " 'val_loss': [1.3667395114898682, 1.3716624975204468],\n",
       " 'val_accuracy': [0.5, 0.5]}"
      ]
     },
     "execution_count": 32,
     "metadata": {},
     "output_type": "execute_result"
    }
   ],
   "source": [
    "history.history"
   ]
  },
  {
   "cell_type": "code",
   "execution_count": null,
   "metadata": {},
   "outputs": [],
   "source": []
  }
 ],
 "metadata": {
  "anaconda-cloud": {},
  "kernelspec": {
   "display_name": "Python 3 (ipykernel)",
   "language": "python",
   "name": "python3"
  },
  "language_info": {
   "codemirror_mode": {
    "name": "ipython",
    "version": 3
   },
   "file_extension": ".py",
   "mimetype": "text/x-python",
   "name": "python",
   "nbconvert_exporter": "python",
   "pygments_lexer": "ipython3",
   "version": "3.7.11"
  },
  "varInspector": {
   "cols": {
    "lenName": 16,
    "lenType": 16,
    "lenVar": 40
   },
   "kernels_config": {
    "python": {
     "delete_cmd_postfix": "",
     "delete_cmd_prefix": "del ",
     "library": "var_list.py",
     "varRefreshCmd": "print(var_dic_list())"
    },
    "r": {
     "delete_cmd_postfix": ") ",
     "delete_cmd_prefix": "rm(",
     "library": "var_list.r",
     "varRefreshCmd": "cat(var_dic_list()) "
    }
   },
   "types_to_exclude": [
    "module",
    "function",
    "builtin_function_or_method",
    "instance",
    "_Feature"
   ],
   "window_display": false
  }
 },
 "nbformat": 4,
 "nbformat_minor": 4
}
