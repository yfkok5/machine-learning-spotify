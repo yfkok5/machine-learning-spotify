{
 "cells": [
  {
   "cell_type": "code",
   "execution_count": 32,
   "id": "267e3d69-753f-464d-9ff0-b820a8bca914",
   "metadata": {},
   "outputs": [],
   "source": [
    "# Importing necessary libraries and settings\n",
    "from sklearn.neighbors import NearestNeighbors\n",
    "import pandas as pd\n",
    "#import plotly.express as px\n",
    "#import matplotlib.pyplot as plt\n",
    "get_ipython().run_line_magic('matplotlib', 'inline')\n",
    "import numpy as np\n",
    "import seaborn as sns\n",
    "import spotipy\n",
    "from spotipy.oauth2 import SpotifyClientCredentials\n",
    "import spotipy.util as util\n",
    "import time"
   ]
  },
  {
   "cell_type": "code",
   "execution_count": 33,
   "id": "c071008e-6ba7-47a2-bd89-689c3895d850",
   "metadata": {},
   "outputs": [],
   "source": [
    "username = 'sarahm_44@hotmail.com'\n",
    "client_id = 'eb23deee5d4d4f1393b73b4517e5e799'\n",
    "client_secret = '2f9b86f549fb46ddaf4398df407cd94c'\n",
    "sp = spotipy.Spotify(auth_manager=SpotifyClientCredentials(client_id=client_id,\n",
    "                                                           client_secret=client_secret))\n",
    "uri = \"spotify:playlist:5EL3M73rzSNzFEUgDOaZbl\""
   ]
  },
  {
   "cell_type": "code",
   "execution_count": 34,
   "id": "70efcf50-7f7e-4dc9-9053-3efc34240d8c",
   "metadata": {},
   "outputs": [],
   "source": [
    "# Get my playlist\n",
    "\n",
    "def getTrackIDs(user, playlist_id):\n",
    "    ids = []\n",
    "    playlist = sp.user_playlist(user, playlist_id)\n",
    "    for item in playlist['tracks']['items']:\n",
    "        track = item['track']\n",
    "        ids.append(track['id'])\n",
    "    return ids\n",
    "ids = getTrackIDs(username, uri)"
   ]
  },
  {
   "cell_type": "code",
   "execution_count": 35,
   "id": "9fd92aed-62eb-49ba-8af2-c94d6d162d7d",
   "metadata": {},
   "outputs": [],
   "source": [
    "def getTrackFeatures(id):\n",
    "    meta = sp.track(id)\n",
    "    features = sp.audio_features(id)\n",
    "    name = meta['name']\n",
    "    artist = meta['album']['artists'][0]['name']\n",
    "    length = meta['duration_ms']\n",
    "# features\n",
    "    acousticness = features[0]['acousticness']\n",
    "    danceability = features[0]['danceability']\n",
    "    energy = features[0]['energy']\n",
    "    instrumentalness = features[0]['instrumentalness']\n",
    "    liveness = features[0]['liveness']\n",
    "    loudness = features[0]['loudness']\n",
    "    speechiness = features[0]['speechiness']\n",
    "    tempo = features[0]['tempo']\n",
    "    track = [name, artist, length, danceability, acousticness, danceability, energy, instrumentalness, liveness, loudness, speechiness, tempo]\n",
    "    return track"
   ]
  },
  {
   "cell_type": "code",
   "execution_count": 36,
   "id": "b33d0af8-f27b-4c31-863f-7f42cca5d8c0",
   "metadata": {},
   "outputs": [
    {
     "data": {
      "text/plain": [
       "['Angels',\n",
       " 'Within Temptation',\n",
       " 240440,\n",
       " 0.341,\n",
       " 0.293,\n",
       " 0.341,\n",
       " 0.867,\n",
       " 0,\n",
       " 0.257,\n",
       " -4.727,\n",
       " 0.0492,\n",
       " 182.023]"
      ]
     },
     "execution_count": 36,
     "metadata": {},
     "output_type": "execute_result"
    }
   ],
   "source": [
    "# loop\n",
    "tracks = []\n",
    "for i in range(len(ids)):\n",
    "    time.sleep(.5)\n",
    "    track = getTrackFeatures(ids[i])\n",
    "    tracks.append(track)\n",
    "track\n"
   ]
  },
  {
   "cell_type": "code",
   "execution_count": 37,
   "id": "d5dd1bd7-f616-4c45-a81f-68c0e8f29b2d",
   "metadata": {},
   "outputs": [],
   "source": [
    "# create dataset\n",
    "df = pd.DataFrame(tracks, columns = ['name', 'artist', 'length', 'danceability', 'acousticness', 'danceability', 'energy', 'instrumentalness', 'liveness', 'loudness', 'speechiness', 'tempo'])\n",
    "df.to_csv(\"ryan playlist.csv\", sep = ',')"
   ]
  },
  {
   "cell_type": "code",
   "execution_count": null,
   "id": "a154193e-382e-4b80-ad03-5a556b8378ef",
   "metadata": {},
   "outputs": [],
   "source": []
  }
 ],
 "metadata": {
  "kernelspec": {
   "display_name": "Python 3 (ipykernel)",
   "language": "python",
   "name": "python3"
  },
  "language_info": {
   "codemirror_mode": {
    "name": "ipython",
    "version": 3
   },
   "file_extension": ".py",
   "mimetype": "text/x-python",
   "name": "python",
   "nbconvert_exporter": "python",
   "pygments_lexer": "ipython3",
   "version": "3.7.7"
  }
 },
 "nbformat": 4,
 "nbformat_minor": 5
}
