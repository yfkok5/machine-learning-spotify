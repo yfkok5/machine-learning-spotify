{
 "cells": [
  {
   "cell_type": "code",
   "execution_count": 53,
   "id": "39bbc881",
   "metadata": {},
   "outputs": [],
   "source": [
    "# Importing necessary libraries and settings\n",
    "from sklearn.neighbors import NearestNeighbors\n",
    "import pandas as pd\n",
    "#import plotly.express as px\n",
    "#import matplotlib.pyplot as plt\n",
    "\n",
    "get_ipython().run_line_magic('matplotlib', 'inline')\n",
    "import numpy as np\n",
    "import seaborn as sns\n",
    "import spotipy\n",
    "from spotipy.oauth2 import SpotifyClientCredentials\n",
    "import spotipy.util as util\n",
    "import time\n",
    "import warnings\n",
    "warnings.filterwarnings('ignore')"
   ]
  },
  {
   "cell_type": "code",
   "execution_count": 54,
   "id": "211b284d",
   "metadata": {},
   "outputs": [
    {
     "ename": "SyntaxError",
     "evalue": "EOL while scanning string literal (Temp/ipykernel_13736/3430304668.py, line 2)",
     "output_type": "error",
     "traceback": [
      "\u001b[1;36m  File \u001b[1;32m\"C:\\Users\\yfkok\\AppData\\Local\\Temp/ipykernel_13736/3430304668.py\"\u001b[1;36m, line \u001b[1;32m2\u001b[0m\n\u001b[1;33m    username = 'yfkok8@hotmail.com\"\u001b[0m\n\u001b[1;37m                                   ^\u001b[0m\n\u001b[1;31mSyntaxError\u001b[0m\u001b[1;31m:\u001b[0m EOL while scanning string literal\n"
     ]
    }
   ],
   "source": [
    "#username input with clientid + secretid from spotify dashboard\n",
    "username = 'yfkok8@hotmail.com\"\n",
    "client_id = 'YOUR CLIENT ID'\n",
    "client_secret = 'YOUR CLIENT SECRETID'\n",
    "sp = spotipy.Spotify(auth_manager=SpotifyClientCredentials(client_id=client_id,\n",
    "                                                           client_secret=client_secret))\n"
   ]
  },
  {
   "cell_type": "code",
   "execution_count": 55,
   "id": "e9113190",
   "metadata": {},
   "outputs": [],
   "source": [
    "def extract_playlist(user_logon, spotify_uri, output_csv_name):\n",
    "    \n",
    "    id_test = sp.user_playlist_tracks(user_logon, spotify_uri)['items'][0]['track']['id']\n",
    "    columns = ['artist', 'track']\n",
    "    list(map(lambda x: columns.append(x), list(sp.audio_features(id_test)[0].keys())))\n",
    "\n",
    "    playlist_tracks = pd.DataFrame(columns = columns, index = range(0, 200))\n",
    "\n",
    "    playlist_ids = [spotify_uri, spotify_uri]\n",
    "    row_counter = 0\n",
    "\n",
    "    for playlist_id in playlist_ids:\n",
    "        for track in sp.user_playlist_tracks(user_logon, spotify_uri)['items']:\n",
    "            current_id = track['track']['id']\n",
    "            current_row = [track['track']['artists'][0]['name'], track['track']['name']]\n",
    "            (list(map(lambda x: current_row.append(x), list(sp.audio_features(current_id)[0].values()))))\n",
    "            playlist_tracks.iloc[row_counter] = current_row\n",
    "            row_counter += 1\n",
    "    playlist_tracks = playlist_tracks.dropna().drop_duplicates('id') \n",
    "    return playlist_tracks.to_csv(output_csv_name)"
   ]
  },
  {
   "cell_type": "code",
   "execution_count": 58,
   "id": "164e1584",
   "metadata": {},
   "outputs": [],
   "source": [
    "extract_playlist(\"yfkok8@hotmail.com\", \"spotify:playlist:76hdjbHRaBF4yxaGFNBY2O\",\"test_playlist.csv\")"
   ]
  },
  {
   "cell_type": "code",
   "execution_count": 18,
   "id": "003bbd50",
   "metadata": {},
   "outputs": [],
   "source": []
  },
  {
   "cell_type": "code",
   "execution_count": null,
   "id": "69ed55b6",
   "metadata": {},
   "outputs": [],
   "source": []
  },
  {
   "cell_type": "code",
   "execution_count": 33,
   "id": "f27d51f8",
   "metadata": {},
   "outputs": [],
   "source": []
  },
  {
   "cell_type": "code",
   "execution_count": null,
   "id": "bca8f5b3",
   "metadata": {},
   "outputs": [],
   "source": []
  }
 ],
 "metadata": {
  "kernelspec": {
   "display_name": "Python 3 (ipykernel)",
   "language": "python",
   "name": "python3"
  },
  "language_info": {
   "codemirror_mode": {
    "name": "ipython",
    "version": 3
   },
   "file_extension": ".py",
   "mimetype": "text/x-python",
   "name": "python",
   "nbconvert_exporter": "python",
   "pygments_lexer": "ipython3",
   "version": "3.7.11"
  }
 },
 "nbformat": 4,
 "nbformat_minor": 5
}
