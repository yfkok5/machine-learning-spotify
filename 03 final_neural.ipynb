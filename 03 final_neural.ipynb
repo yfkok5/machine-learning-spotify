{
 "cells": [
  {
   "cell_type": "markdown",
   "metadata": {},
   "source": [
    "# Neural Network Spotify Playlist\n"
   ]
  },
  {
   "cell_type": "markdown",
   "metadata": {},
   "source": [
    "### Data Pre-Processing\n",
    "\n",
    "Prepare the data for the neural network. This includes splitting the data into a training and testing dataset, Scaling the data, and encoding the categorical target values"
   ]
  },
  {
   "cell_type": "code",
   "execution_count": 26,
   "metadata": {},
   "outputs": [],
   "source": [
    "from pathlib import Path\n",
    "\n",
    "import numpy as np\n",
    "import pandas as pd\n",
    "\n",
    "from sklearn.model_selection import train_test_split\n",
    "from sklearn.preprocessing import StandardScaler, OneHotEncoder\n",
    "from sklearn.decomposition import PCA\n",
    "import matplotlib.pyplot as plt\n",
    "import tensorflow as tf\n",
    "from tensorflow.keras.models import Sequential\n",
    "from tensorflow.keras.layers import Dense\n",
    "from tensorflow import keras\n",
    "from tensorflow.keras import layers\n",
    "import tensorflow as tf\n"
   ]
  },
  {
   "cell_type": "code",
   "execution_count": 27,
   "metadata": {},
   "outputs": [
    {
     "data": {
      "text/plain": [
       "Index(['Unnamed: 0', 'artist', 'track', 'danceability', 'energy', 'key',\n",
       "       'loudness', 'mode', 'speechiness', 'acousticness', 'instrumentalness',\n",
       "       'liveness', 'valence', 'tempo', 'type', 'id', 'uri', 'track_href',\n",
       "       'analysis_url', 'duration_ms', 'time_signature', 'playlist'],\n",
       "      dtype='object')"
      ]
     },
     "execution_count": 27,
     "metadata": {},
     "output_type": "execute_result"
    }
   ],
   "source": [
    "#reading into compiled csv\n",
    "data = Path(\"Resources/spotify_main_raw_data.csv\")\n",
    "df = pd.read_csv(data)\n",
    "df.shape\n",
    "df.columns"
   ]
  },
  {
   "cell_type": "code",
   "execution_count": 28,
   "metadata": {},
   "outputs": [
    {
     "data": {
      "image/png": "[encoded data removed]",
      "text/plain": [
       "<Figure size 360x360 with 1 Axes>"
      ]
     },
     "metadata": {
      "needs_background": "light"
     },
     "output_type": "display_data"
    }
   ],
   "source": [
    "#to check if liveness affects ML\n",
    "import seaborn as sns\n",
    "g = sns.catplot(x=\"energy\", y=\"playlist\", kind=\"box\", data=df)"
   ]
  },
  {
   "cell_type": "code",
   "execution_count": 29,
   "metadata": {},
   "outputs": [
    {
     "data": {
      "text/html": [
       "<div>\n",
       "<style scoped>\n",
       "    .dataframe tbody tr th:only-of-type {\n",
       "        vertical-align: middle;\n",
       "    }\n",
       "\n",
       "    .dataframe tbody tr th {\n",
       "        vertical-align: top;\n",
       "    }\n",
       "\n",
       "    .dataframe thead th {\n",
       "        text-align: right;\n",
       "    }\n",
       "</style>\n",
       "<table border=\"1\" class=\"dataframe\">\n",
       "  <thead>\n",
       "    <tr style=\"text-align: right;\">\n",
       "      <th></th>\n",
       "      <th>danceability</th>\n",
       "      <th>energy</th>\n",
       "      <th>key</th>\n",
       "      <th>loudness</th>\n",
       "      <th>mode</th>\n",
       "      <th>speechiness</th>\n",
       "      <th>acousticness</th>\n",
       "      <th>instrumentalness</th>\n",
       "      <th>liveness</th>\n",
       "      <th>valence</th>\n",
       "      <th>tempo</th>\n",
       "      <th>duration_ms</th>\n",
       "      <th>playlist</th>\n",
       "    </tr>\n",
       "  </thead>\n",
       "  <tbody>\n",
       "    <tr>\n",
       "      <th>0</th>\n",
       "      <td>0.432</td>\n",
       "      <td>0.0951</td>\n",
       "      <td>1</td>\n",
       "      <td>-23.511</td>\n",
       "      <td>1</td>\n",
       "      <td>0.0388</td>\n",
       "      <td>0.909000</td>\n",
       "      <td>0.890000</td>\n",
       "      <td>0.1170</td>\n",
       "      <td>0.0930</td>\n",
       "      <td>100.265</td>\n",
       "      <td>373840</td>\n",
       "      <td>Jazz</td>\n",
       "    </tr>\n",
       "    <tr>\n",
       "      <th>1</th>\n",
       "      <td>0.643</td>\n",
       "      <td>0.2800</td>\n",
       "      <td>10</td>\n",
       "      <td>-13.774</td>\n",
       "      <td>1</td>\n",
       "      <td>0.0332</td>\n",
       "      <td>0.965000</td>\n",
       "      <td>0.867000</td>\n",
       "      <td>0.1070</td>\n",
       "      <td>0.0865</td>\n",
       "      <td>108.046</td>\n",
       "      <td>203097</td>\n",
       "      <td>Jazz</td>\n",
       "    </tr>\n",
       "    <tr>\n",
       "      <th>2</th>\n",
       "      <td>0.322</td>\n",
       "      <td>0.1520</td>\n",
       "      <td>8</td>\n",
       "      <td>-16.765</td>\n",
       "      <td>1</td>\n",
       "      <td>0.0388</td>\n",
       "      <td>0.958000</td>\n",
       "      <td>0.899000</td>\n",
       "      <td>0.1270</td>\n",
       "      <td>0.2030</td>\n",
       "      <td>177.730</td>\n",
       "      <td>207206</td>\n",
       "      <td>Jazz</td>\n",
       "    </tr>\n",
       "    <tr>\n",
       "      <th>3</th>\n",
       "      <td>0.609</td>\n",
       "      <td>0.1620</td>\n",
       "      <td>3</td>\n",
       "      <td>-17.650</td>\n",
       "      <td>1</td>\n",
       "      <td>0.0375</td>\n",
       "      <td>0.917000</td>\n",
       "      <td>0.791000</td>\n",
       "      <td>0.1120</td>\n",
       "      <td>0.1230</td>\n",
       "      <td>106.051</td>\n",
       "      <td>237679</td>\n",
       "      <td>Jazz</td>\n",
       "    </tr>\n",
       "    <tr>\n",
       "      <th>4</th>\n",
       "      <td>0.509</td>\n",
       "      <td>0.1540</td>\n",
       "      <td>1</td>\n",
       "      <td>-18.927</td>\n",
       "      <td>1</td>\n",
       "      <td>0.0410</td>\n",
       "      <td>0.978000</td>\n",
       "      <td>0.936000</td>\n",
       "      <td>0.1150</td>\n",
       "      <td>0.2410</td>\n",
       "      <td>121.049</td>\n",
       "      <td>197273</td>\n",
       "      <td>Jazz</td>\n",
       "    </tr>\n",
       "    <tr>\n",
       "      <th>...</th>\n",
       "      <td>...</td>\n",
       "      <td>...</td>\n",
       "      <td>...</td>\n",
       "      <td>...</td>\n",
       "      <td>...</td>\n",
       "      <td>...</td>\n",
       "      <td>...</td>\n",
       "      <td>...</td>\n",
       "      <td>...</td>\n",
       "      <td>...</td>\n",
       "      <td>...</td>\n",
       "      <td>...</td>\n",
       "      <td>...</td>\n",
       "    </tr>\n",
       "    <tr>\n",
       "      <th>1077</th>\n",
       "      <td>0.805</td>\n",
       "      <td>0.9090</td>\n",
       "      <td>0</td>\n",
       "      <td>-6.539</td>\n",
       "      <td>0</td>\n",
       "      <td>0.0505</td>\n",
       "      <td>0.006570</td>\n",
       "      <td>0.926000</td>\n",
       "      <td>0.0674</td>\n",
       "      <td>0.6350</td>\n",
       "      <td>122.004</td>\n",
       "      <td>536046</td>\n",
       "      <td>House</td>\n",
       "    </tr>\n",
       "    <tr>\n",
       "      <th>1078</th>\n",
       "      <td>0.665</td>\n",
       "      <td>0.5350</td>\n",
       "      <td>9</td>\n",
       "      <td>-15.905</td>\n",
       "      <td>0</td>\n",
       "      <td>0.0718</td>\n",
       "      <td>0.717000</td>\n",
       "      <td>0.911000</td>\n",
       "      <td>0.0978</td>\n",
       "      <td>0.1740</td>\n",
       "      <td>119.999</td>\n",
       "      <td>328000</td>\n",
       "      <td>House</td>\n",
       "    </tr>\n",
       "    <tr>\n",
       "      <th>1079</th>\n",
       "      <td>0.791</td>\n",
       "      <td>0.6530</td>\n",
       "      <td>11</td>\n",
       "      <td>-7.117</td>\n",
       "      <td>0</td>\n",
       "      <td>0.0316</td>\n",
       "      <td>0.107000</td>\n",
       "      <td>0.000061</td>\n",
       "      <td>0.1060</td>\n",
       "      <td>0.5550</td>\n",
       "      <td>123.992</td>\n",
       "      <td>219000</td>\n",
       "      <td>House</td>\n",
       "    </tr>\n",
       "    <tr>\n",
       "      <th>1080</th>\n",
       "      <td>0.879</td>\n",
       "      <td>0.3250</td>\n",
       "      <td>9</td>\n",
       "      <td>-12.705</td>\n",
       "      <td>0</td>\n",
       "      <td>0.1380</td>\n",
       "      <td>0.000304</td>\n",
       "      <td>0.923000</td>\n",
       "      <td>0.0877</td>\n",
       "      <td>0.7660</td>\n",
       "      <td>123.023</td>\n",
       "      <td>359794</td>\n",
       "      <td>House</td>\n",
       "    </tr>\n",
       "    <tr>\n",
       "      <th>1081</th>\n",
       "      <td>0.703</td>\n",
       "      <td>0.8380</td>\n",
       "      <td>2</td>\n",
       "      <td>-13.117</td>\n",
       "      <td>1</td>\n",
       "      <td>0.0406</td>\n",
       "      <td>0.044900</td>\n",
       "      <td>0.923000</td>\n",
       "      <td>0.1050</td>\n",
       "      <td>0.0939</td>\n",
       "      <td>120.007</td>\n",
       "      <td>364227</td>\n",
       "      <td>House</td>\n",
       "    </tr>\n",
       "  </tbody>\n",
       "</table>\n",
       "<p>1082 rows × 13 columns</p>\n",
       "</div>"
      ],
      "text/plain": [
       "      danceability  energy  key  loudness  mode  speechiness  acousticness  \\\n",
       "0            0.432  0.0951    1   -23.511     1       0.0388      0.909000   \n",
       "1            0.643  0.2800   10   -13.774     1       0.0332      0.965000   \n",
       "2            0.322  0.1520    8   -16.765     1       0.0388      0.958000   \n",
       "3            0.609  0.1620    3   -17.650     1       0.0375      0.917000   \n",
       "4            0.509  0.1540    1   -18.927     1       0.0410      0.978000   \n",
       "...            ...     ...  ...       ...   ...          ...           ...   \n",
       "1077         0.805  0.9090    0    -6.539     0       0.0505      0.006570   \n",
       "1078         0.665  0.5350    9   -15.905     0       0.0718      0.717000   \n",
       "1079         0.791  0.6530   11    -7.117     0       0.0316      0.107000   \n",
       "1080         0.879  0.3250    9   -12.705     0       0.1380      0.000304   \n",
       "1081         0.703  0.8380    2   -13.117     1       0.0406      0.044900   \n",
       "\n",
       "      instrumentalness  liveness  valence    tempo  duration_ms playlist  \n",
       "0             0.890000    0.1170   0.0930  100.265       373840     Jazz  \n",
       "1             0.867000    0.1070   0.0865  108.046       203097     Jazz  \n",
       "2             0.899000    0.1270   0.2030  177.730       207206     Jazz  \n",
       "3             0.791000    0.1120   0.1230  106.051       237679     Jazz  \n",
       "4             0.936000    0.1150   0.2410  121.049       197273     Jazz  \n",
       "...                ...       ...      ...      ...          ...      ...  \n",
       "1077          0.926000    0.0674   0.6350  122.004       536046    House  \n",
       "1078          0.911000    0.0978   0.1740  119.999       328000    House  \n",
       "1079          0.000061    0.1060   0.5550  123.992       219000    House  \n",
       "1080          0.923000    0.0877   0.7660  123.023       359794    House  \n",
       "1081          0.923000    0.1050   0.0939  120.007       364227    House  \n",
       "\n",
       "[1082 rows x 13 columns]"
      ]
     },
     "execution_count": 29,
     "metadata": {},
     "output_type": "execute_result"
    }
   ],
   "source": [
    "#dropping irrelevant columns\n",
    "raw_data = df.drop(['Unnamed: 0',\"track\",\"type\",\"id\",\"uri\",\"track_href\",\"analysis_url\",\"time_signature\",\"artist\"],axis=1)\n",
    "raw_data"
   ]
  },
  {
   "cell_type": "markdown",
   "metadata": {},
   "source": [
    "# Initialize PCA model\n",
    "pca = PCA(n_components=8)\n",
    "\n",
    "Get 8 principal components for the data.\n",
    "spotify_pca = pca.fit_transform(spotify_scaled)\n",
    "\n",
    "df_spotify_pca = pd.DataFrame(\n",
    "    data=spotify_pca, columns=[\"principal component 1\", \n",
    "                               \"principal component 2\", \n",
    "                               \"principal component 3\", \n",
    "                               \"principal component 4\", \n",
    "                               \"principal component 5\", \n",
    "                               \"principal component 6\",\n",
    "                               \"principal component 7\",\n",
    "                               \"principal component 8\"]\n",
    "                                                        )\n",
    "#df_spotify_pca.head()"
   ]
  },
  {
   "cell_type": "code",
   "execution_count": 5,
   "metadata": {},
   "outputs": [
    {
     "data": {
      "text/plain": [
       "RNB      390\n",
       "House    358\n",
       "Jazz     334\n",
       "Name: playlist, dtype: int64"
      ]
     },
     "execution_count": 5,
     "metadata": {},
     "output_type": "execute_result"
    }
   ],
   "source": [
    "#Verifying playlist classifications\n",
    "raw_data.playlist.value_counts()"
   ]
  },
  {
   "cell_type": "code",
   "execution_count": 6,
   "metadata": {},
   "outputs": [],
   "source": [
    "# Define the features X set and the target y vector\n",
    "X = raw_data.drop(\"playlist\",axis=1)\n",
    "y = raw_data.loc[:, [\"playlist\"]]"
   ]
  },
  {
   "cell_type": "code",
   "execution_count": 7,
   "metadata": {},
   "outputs": [
    {
     "data": {
      "text/plain": [
       "((811, 12), (271, 12), (811, 1), (271, 1))"
      ]
     },
     "execution_count": 7,
     "metadata": {},
     "output_type": "execute_result"
    }
   ],
   "source": [
    "# Split the dataset into training and testing data\n",
    "X_train, X_test, y_train, y_test = train_test_split(X, y, random_state=1)\n",
    "\n",
    "# Acknowledge the dimension of both test and training data\n",
    "X_train.shape, X_test.shape, y_train.shape, y_test.shape\n"
   ]
  },
  {
   "cell_type": "code",
   "execution_count": 8,
   "metadata": {},
   "outputs": [],
   "source": [
    "# Scale the training and testing input features using StandardScaler\n",
    "X_scaler = StandardScaler()\n",
    "X_scaler.fit(X_train)\n",
    "\n",
    "X_train_scaled = X_scaler.transform(X_train)\n",
    "X_test_scaled = X_scaler.transform(X_test)"
   ]
  },
  {
   "cell_type": "code",
   "execution_count": 9,
   "metadata": {},
   "outputs": [
    {
     "data": {
      "text/plain": [
       "array([0., 1., 0.])"
      ]
     },
     "execution_count": 9,
     "metadata": {},
     "output_type": "execute_result"
    }
   ],
   "source": [
    "# Apply One-hot encoding to the target labels\n",
    "enc = OneHotEncoder()\n",
    "enc.fit(y_train)\n",
    "\n",
    "encoded_y_train = enc.transform(y_train).toarray()\n",
    "encoded_y_test = enc.transform(y_test).toarray()\n",
    "encoded_y_train[0]"
   ]
  },
  {
   "cell_type": "markdown",
   "metadata": {},
   "source": [
    "# Build a Deep Neural Network"
   ]
  },
  {
   "cell_type": "code",
   "execution_count": 10,
   "metadata": {},
   "outputs": [],
   "source": [
    "# Create a sequential model\n",
    "model = Sequential()"
   ]
  },
  {
   "cell_type": "code",
   "execution_count": 11,
   "metadata": {},
   "outputs": [],
   "source": [
    "# Add the first layer where the input dimensions are the X.shape[1] = 8 columns of the training data\n",
    "model.add(Dense(100, activation='relu', input_dim = X.shape[1]))\n",
    "    \n",
    "# Add the 2nd layer where the input dimensions are the 12 columns of the training data\n",
    "model.add(Dense(100, activation='relu', input_dim = 100))\n",
    "\n",
    "# Add output layer (3 outputs = Rock, Jazz & RNB)\n",
    "model.add(Dense(3, activation=\"softmax\", input_dim = 100))"
   ]
  },
  {
   "cell_type": "code",
   "execution_count": 12,
   "metadata": {},
   "outputs": [],
   "source": [
    "# The output layer has 8 columns that are one-hot encoded\n",
    "y_train.playlist.value_counts()\n",
    "\n",
    "# 5 output since there're 5 playlists\n",
    "number_outputs = 3"
   ]
  },
  {
   "cell_type": "code",
   "execution_count": 13,
   "metadata": {},
   "outputs": [],
   "source": [
    "# Compile the model using categorical_crossentropy for the loss function, the adam optimizer,\n",
    "# and add accuracy to the training metrics\n",
    "model.compile(optimizer=\"adam\", loss=\"categorical_crossentropy\", metrics=[\"accuracy\"])\n"
   ]
  },
  {
   "cell_type": "code",
   "execution_count": 14,
   "metadata": {},
   "outputs": [
    {
     "name": "stdout",
     "output_type": "stream",
     "text": [
      "Model: \"sequential\"\n",
      "_________________________________________________________________\n",
      " Layer (type)                Output Shape              Param #   \n",
      "=================================================================\n",
      " dense (Dense)               (None, 100)               1300      \n",
      "                                                                 \n",
      " dense_1 (Dense)             (None, 100)               10100     \n",
      "                                                                 \n",
      " dense_2 (Dense)             (None, 3)                 303       \n",
      "                                                                 \n",
      "=================================================================\n",
      "Total params: 11,703\n",
      "Trainable params: 11,703\n",
      "Non-trainable params: 0\n",
      "_________________________________________________________________\n"
     ]
    }
   ],
   "source": [
    "# Print the model summary\n",
    "model.summary()\n"
   ]
  },
  {
   "cell_type": "code",
   "execution_count": 15,
   "metadata": {},
   "outputs": [
    {
     "data": {
      "text/plain": [
       "((811, 12), (811, 1))"
      ]
     },
     "execution_count": 15,
     "metadata": {},
     "output_type": "execute_result"
    }
   ],
   "source": [
    "#We call fit(), which will train the model by slicing the data into \"batches\" of size batch_size, \n",
    "#and repeatedly iterating over the entire dataset for a given number of epochs.\n",
    "\n",
    "# Identifying data dimension\n",
    "X_train.shape, y_train.shape"
   ]
  },
  {
   "cell_type": "code",
   "execution_count": 16,
   "metadata": {},
   "outputs": [
    {
     "data": {
      "text/plain": [
       "-81"
      ]
     },
     "execution_count": 16,
     "metadata": {},
     "output_type": "execute_result"
    }
   ],
   "source": [
    "#using 10% of training data as validation data\n",
    "round(-X_train.shape[0]*0.1)"
   ]
  },
  {
   "cell_type": "code",
   "execution_count": 17,
   "metadata": {},
   "outputs": [
    {
     "name": "stdout",
     "output_type": "stream",
     "text": [
      "Fit model on training data\n",
      "Epoch 1/60\n",
      "13/13 [==============================] - 0s 9ms/step - loss: 0.9890 - accuracy: 0.5339 - val_loss: 0.8372 - val_accuracy: 0.7284\n",
      "Epoch 2/60\n",
      "13/13 [==============================] - 0s 2ms/step - loss: 0.7702 - accuracy: 0.7312 - val_loss: 0.6957 - val_accuracy: 0.7531\n",
      "Epoch 3/60\n",
      "13/13 [==============================] - 0s 2ms/step - loss: 0.6530 - accuracy: 0.7756 - val_loss: 0.5917 - val_accuracy: 0.7778\n",
      "Epoch 4/60\n",
      "13/13 [==============================] - 0s 2ms/step - loss: 0.5701 - accuracy: 0.8064 - val_loss: 0.5199 - val_accuracy: 0.8272\n",
      "Epoch 5/60\n",
      "13/13 [==============================] - 0s 2ms/step - loss: 0.5081 - accuracy: 0.8163 - val_loss: 0.4823 - val_accuracy: 0.8272\n",
      "Epoch 6/60\n",
      "13/13 [==============================] - 0s 2ms/step - loss: 0.4681 - accuracy: 0.8286 - val_loss: 0.4468 - val_accuracy: 0.8519\n",
      "Epoch 7/60\n",
      "13/13 [==============================] - 0s 2ms/step - loss: 0.4383 - accuracy: 0.8385 - val_loss: 0.4320 - val_accuracy: 0.8765\n",
      "Epoch 8/60\n",
      "13/13 [==============================] - 0s 2ms/step - loss: 0.4194 - accuracy: 0.8483 - val_loss: 0.4174 - val_accuracy: 0.8519\n",
      "Epoch 9/60\n",
      "13/13 [==============================] - 0s 2ms/step - loss: 0.4038 - accuracy: 0.8360 - val_loss: 0.3987 - val_accuracy: 0.8642\n",
      "Epoch 10/60\n",
      "13/13 [==============================] - 0s 2ms/step - loss: 0.3880 - accuracy: 0.8545 - val_loss: 0.3829 - val_accuracy: 0.8765\n",
      "Epoch 11/60\n",
      "13/13 [==============================] - 0s 2ms/step - loss: 0.3663 - accuracy: 0.8570 - val_loss: 0.3656 - val_accuracy: 0.8765\n",
      "Epoch 12/60\n",
      "13/13 [==============================] - 0s 2ms/step - loss: 0.3533 - accuracy: 0.8668 - val_loss: 0.3536 - val_accuracy: 0.9012\n",
      "Epoch 13/60\n",
      "13/13 [==============================] - 0s 2ms/step - loss: 0.3449 - accuracy: 0.8742 - val_loss: 0.3467 - val_accuracy: 0.9012\n",
      "Epoch 14/60\n",
      "13/13 [==============================] - 0s 2ms/step - loss: 0.3402 - accuracy: 0.8693 - val_loss: 0.3415 - val_accuracy: 0.8889\n",
      "Epoch 15/60\n",
      "13/13 [==============================] - 0s 2ms/step - loss: 0.3256 - accuracy: 0.8804 - val_loss: 0.3232 - val_accuracy: 0.9012\n",
      "Epoch 16/60\n",
      "13/13 [==============================] - 0s 2ms/step - loss: 0.3146 - accuracy: 0.8841 - val_loss: 0.3139 - val_accuracy: 0.9383\n",
      "Epoch 17/60\n",
      "13/13 [==============================] - 0s 2ms/step - loss: 0.3046 - accuracy: 0.8841 - val_loss: 0.3057 - val_accuracy: 0.9136\n",
      "Epoch 18/60\n",
      "13/13 [==============================] - 0s 2ms/step - loss: 0.2951 - accuracy: 0.8890 - val_loss: 0.2896 - val_accuracy: 0.9012\n",
      "Epoch 19/60\n",
      "13/13 [==============================] - 0s 2ms/step - loss: 0.2869 - accuracy: 0.8940 - val_loss: 0.2876 - val_accuracy: 0.9383\n",
      "Epoch 20/60\n",
      "13/13 [==============================] - 0s 2ms/step - loss: 0.2786 - accuracy: 0.8952 - val_loss: 0.2750 - val_accuracy: 0.9383\n",
      "Epoch 21/60\n",
      "13/13 [==============================] - 0s 2ms/step - loss: 0.2709 - accuracy: 0.8952 - val_loss: 0.2710 - val_accuracy: 0.9259\n",
      "Epoch 22/60\n",
      "13/13 [==============================] - 0s 2ms/step - loss: 0.2643 - accuracy: 0.9014 - val_loss: 0.2624 - val_accuracy: 0.9506\n",
      "Epoch 23/60\n",
      "13/13 [==============================] - 0s 2ms/step - loss: 0.2611 - accuracy: 0.8977 - val_loss: 0.2575 - val_accuracy: 0.9259\n",
      "Epoch 24/60\n",
      "13/13 [==============================] - 0s 2ms/step - loss: 0.2539 - accuracy: 0.9088 - val_loss: 0.2424 - val_accuracy: 0.9506\n",
      "Epoch 25/60\n",
      "13/13 [==============================] - 0s 2ms/step - loss: 0.2455 - accuracy: 0.9051 - val_loss: 0.2382 - val_accuracy: 0.9506\n",
      "Epoch 26/60\n",
      "13/13 [==============================] - 0s 2ms/step - loss: 0.2360 - accuracy: 0.9125 - val_loss: 0.2407 - val_accuracy: 0.9383\n",
      "Epoch 27/60\n",
      "13/13 [==============================] - 0s 2ms/step - loss: 0.2317 - accuracy: 0.9149 - val_loss: 0.2343 - val_accuracy: 0.9383\n",
      "Epoch 28/60\n",
      "13/13 [==============================] - 0s 2ms/step - loss: 0.2280 - accuracy: 0.9199 - val_loss: 0.2243 - val_accuracy: 0.9630\n",
      "Epoch 29/60\n",
      "13/13 [==============================] - 0s 2ms/step - loss: 0.2189 - accuracy: 0.9236 - val_loss: 0.2258 - val_accuracy: 0.9383\n",
      "Epoch 30/60\n",
      "13/13 [==============================] - 0s 2ms/step - loss: 0.2126 - accuracy: 0.9297 - val_loss: 0.2170 - val_accuracy: 0.9753\n",
      "Epoch 31/60\n",
      "13/13 [==============================] - 0s 2ms/step - loss: 0.2082 - accuracy: 0.9334 - val_loss: 0.2073 - val_accuracy: 0.9630\n",
      "Epoch 32/60\n",
      "13/13 [==============================] - 0s 2ms/step - loss: 0.2012 - accuracy: 0.9383 - val_loss: 0.2057 - val_accuracy: 0.9753\n",
      "Epoch 33/60\n",
      "13/13 [==============================] - 0s 2ms/step - loss: 0.1964 - accuracy: 0.9396 - val_loss: 0.2016 - val_accuracy: 0.9753\n",
      "Epoch 34/60\n",
      "13/13 [==============================] - 0s 2ms/step - loss: 0.1918 - accuracy: 0.9433 - val_loss: 0.1968 - val_accuracy: 0.9630\n",
      "Epoch 35/60\n",
      "13/13 [==============================] - 0s 2ms/step - loss: 0.1883 - accuracy: 0.9396 - val_loss: 0.1897 - val_accuracy: 0.9506\n",
      "Epoch 36/60\n",
      "13/13 [==============================] - 0s 2ms/step - loss: 0.1816 - accuracy: 0.9470 - val_loss: 0.1861 - val_accuracy: 0.9753\n",
      "Epoch 37/60\n",
      "13/13 [==============================] - 0s 2ms/step - loss: 0.1756 - accuracy: 0.9519 - val_loss: 0.1811 - val_accuracy: 0.9630\n",
      "Epoch 38/60\n",
      "13/13 [==============================] - 0s 2ms/step - loss: 0.1731 - accuracy: 0.9470 - val_loss: 0.1786 - val_accuracy: 0.9630\n",
      "Epoch 39/60\n",
      "13/13 [==============================] - 0s 2ms/step - loss: 0.1695 - accuracy: 0.9531 - val_loss: 0.1793 - val_accuracy: 0.9753\n",
      "Epoch 40/60\n",
      "13/13 [==============================] - 0s 2ms/step - loss: 0.1656 - accuracy: 0.9556 - val_loss: 0.1704 - val_accuracy: 0.9630\n",
      "Epoch 41/60\n",
      "13/13 [==============================] - 0s 2ms/step - loss: 0.1586 - accuracy: 0.9568 - val_loss: 0.1660 - val_accuracy: 0.9630\n",
      "Epoch 42/60\n",
      "13/13 [==============================] - 0s 2ms/step - loss: 0.1549 - accuracy: 0.9630 - val_loss: 0.1612 - val_accuracy: 0.9753\n",
      "Epoch 43/60\n",
      "13/13 [==============================] - 0s 2ms/step - loss: 0.1515 - accuracy: 0.9618 - val_loss: 0.1594 - val_accuracy: 0.9753\n",
      "Epoch 44/60\n",
      "13/13 [==============================] - 0s 2ms/step - loss: 0.1468 - accuracy: 0.9630 - val_loss: 0.1536 - val_accuracy: 0.9630\n",
      "Epoch 45/60\n",
      "13/13 [==============================] - 0s 2ms/step - loss: 0.1428 - accuracy: 0.9679 - val_loss: 0.1511 - val_accuracy: 0.9630\n",
      "Epoch 46/60\n",
      "13/13 [==============================] - 0s 2ms/step - loss: 0.1395 - accuracy: 0.9642 - val_loss: 0.1488 - val_accuracy: 0.9753\n",
      "Epoch 47/60\n",
      "13/13 [==============================] - 0s 2ms/step - loss: 0.1368 - accuracy: 0.9667 - val_loss: 0.1475 - val_accuracy: 0.9630\n",
      "Epoch 48/60\n",
      "13/13 [==============================] - 0s 2ms/step - loss: 0.1329 - accuracy: 0.9655 - val_loss: 0.1412 - val_accuracy: 0.9753\n",
      "Epoch 49/60\n",
      "13/13 [==============================] - 0s 2ms/step - loss: 0.1271 - accuracy: 0.9704 - val_loss: 0.1418 - val_accuracy: 0.9630\n",
      "Epoch 50/60\n",
      "13/13 [==============================] - 0s 2ms/step - loss: 0.1246 - accuracy: 0.9716 - val_loss: 0.1323 - val_accuracy: 0.9753\n",
      "Epoch 51/60\n",
      "13/13 [==============================] - 0s 2ms/step - loss: 0.1229 - accuracy: 0.9679 - val_loss: 0.1334 - val_accuracy: 0.9753\n",
      "Epoch 52/60\n",
      "13/13 [==============================] - 0s 2ms/step - loss: 0.1205 - accuracy: 0.9692 - val_loss: 0.1315 - val_accuracy: 0.9630\n",
      "Epoch 53/60\n",
      "13/13 [==============================] - 0s 2ms/step - loss: 0.1152 - accuracy: 0.9741 - val_loss: 0.1260 - val_accuracy: 0.9753\n",
      "Epoch 54/60\n",
      "13/13 [==============================] - 0s 2ms/step - loss: 0.1148 - accuracy: 0.9716 - val_loss: 0.1231 - val_accuracy: 0.9753\n",
      "Epoch 55/60\n",
      "13/13 [==============================] - 0s 2ms/step - loss: 0.1094 - accuracy: 0.9766 - val_loss: 0.1210 - val_accuracy: 0.9753\n",
      "Epoch 56/60\n",
      "13/13 [==============================] - 0s 2ms/step - loss: 0.1088 - accuracy: 0.9741 - val_loss: 0.1137 - val_accuracy: 0.9753\n",
      "Epoch 57/60\n",
      "13/13 [==============================] - 0s 2ms/step - loss: 0.1025 - accuracy: 0.9803 - val_loss: 0.1164 - val_accuracy: 0.9753\n",
      "Epoch 58/60\n",
      "13/13 [==============================] - 0s 3ms/step - loss: 0.1004 - accuracy: 0.9790 - val_loss: 0.1085 - val_accuracy: 0.9753\n",
      "Epoch 59/60\n",
      "13/13 [==============================] - 0s 3ms/step - loss: 0.0990 - accuracy: 0.9753 - val_loss: 0.1058 - val_accuracy: 0.9753\n",
      "Epoch 60/60\n",
      "13/13 [==============================] - 0s 2ms/step - loss: 0.0951 - accuracy: 0.9803 - val_loss: 0.1019 - val_accuracy: 0.9753\n"
     ]
    }
   ],
   "source": [
    "#ADD VALIDATION DATA\n",
    "#https://www.tensorflow.org/guide/keras/train_and_evaluate\n",
    "x_val = X_train_scaled[round(-X_train.shape[0]*0.1):]\n",
    "y_val = encoded_y_train[round(-X_train.shape[0]*0.1):]\n",
    "x_train = X_train_scaled[:round(-X_train.shape[0]*0.1)]\n",
    "y_train = encoded_y_train[:round(-X_train.shape[0]*0.1)]\n",
    "\n",
    "epochs = 60\n",
    "\n",
    "print(\"Fit model on training data\")\n",
    "history = model.fit(\n",
    "    X_train_scaled,\n",
    "    encoded_y_train,\n",
    "    batch_size=64,\n",
    "    epochs=epochs,\n",
    "    # We pass some validation for\n",
    "    # monitoring validation loss and metrics\n",
    "    # at the end of each epoch\n",
    "    validation_data=(x_val, y_val),\n",
    ")"
   ]
  },
  {
   "cell_type": "code",
   "execution_count": 18,
   "metadata": {},
   "outputs": [
    {
     "name": "stdout",
     "output_type": "stream",
     "text": [
      "Calculating the accuracy\n",
      "Calculating the loss\n",
      "The results are being visualized\n"
     ]
    },
    {
     "data": {
      "image/png": "[encoded data removed]",
      "text/plain": [
       "<Figure size 576x576 with 2 Axes>"
      ]
     },
     "metadata": {
      "needs_background": "light"
     },
     "output_type": "display_data"
    }
   ],
   "source": [
    "\n",
    "print(\"Calculating the accuracy\")\n",
    "acc = history.history['accuracy']\n",
    "val_acc = history.history['val_accuracy']\n",
    "print(\"Calculating the loss\")\n",
    "loss = history.history['loss']\n",
    "val_loss = history.history['val_loss']\n",
    "\n",
    "epochs_range = range(epochs)\n",
    "\n",
    "print(\"The results are being visualized\")\n",
    "plt.figure(figsize=(8, 8))\n",
    "plt.subplot(1, 2, 1)\n",
    "plt.plot(epochs_range, acc, label='Training Accuracy')\n",
    "plt.plot(epochs_range, val_acc, label='Validation Accuracy')\n",
    "plt.legend(loc='lower right')\n",
    "plt.title('Training and Validation Accuracy')\n",
    "plt.subplot(1, 2, 2)\n",
    "\n",
    "plt.plot(epochs_range, loss, label='Training Loss')\n",
    "plt.plot(epochs_range, val_loss, label='Validation Loss')\n",
    "plt.legend(loc='upper right')\n",
    "plt.title('Training and Validation Loss')\n",
    "plt.show()"
   ]
  },
  {
   "cell_type": "markdown",
   "metadata": {},
   "source": [
    "# Evaluate the Model on Test Data\n"
   ]
  },
  {
   "cell_type": "code",
   "execution_count": 19,
   "metadata": {},
   "outputs": [
    {
     "name": "stdout",
     "output_type": "stream",
     "text": [
      "9/9 - 0s - loss: 0.6694 - accuracy: 0.8339 - 19ms/epoch - 2ms/step\n",
      "Normal Neural Network - Loss: 0.6693504452705383, Accuracy: 0.8339483141899109\n"
     ]
    }
   ],
   "source": [
    "# Evaluate the model using the testing data\n",
    "model_loss, model_accuracy = model.evaluate(X_test_scaled, encoded_y_test, verbose=2)\n",
    "print(f\"Normal Neural Network - Loss: {model_loss}, Accuracy: {model_accuracy}\")\n"
   ]
  },
  {
   "cell_type": "code",
   "execution_count": 20,
   "metadata": {},
   "outputs": [],
   "source": [
    "y_index = y_test.index.values\n",
    "\n",
    "y_tracks = []\n",
    "\n",
    "#to identify which track has been selected for y_test\n",
    "for index in y_index:\n",
    "    track = df.at[index, \"track\"]\n",
    "    y_tracks.append(track)"
   ]
  },
  {
   "cell_type": "code",
   "execution_count": 21,
   "metadata": {},
   "outputs": [
    {
     "data": {
      "text/html": [
       "<div>\n",
       "<style scoped>\n",
       "    .dataframe tbody tr th:only-of-type {\n",
       "        vertical-align: middle;\n",
       "    }\n",
       "\n",
       "    .dataframe tbody tr th {\n",
       "        vertical-align: top;\n",
       "    }\n",
       "\n",
       "    .dataframe thead th {\n",
       "        text-align: right;\n",
       "    }\n",
       "</style>\n",
       "<table border=\"1\" class=\"dataframe\">\n",
       "  <thead>\n",
       "    <tr style=\"text-align: right;\">\n",
       "      <th></th>\n",
       "      <th>Index</th>\n",
       "      <th>Track</th>\n",
       "      <th>Actual</th>\n",
       "      <th>Predicted</th>\n",
       "    </tr>\n",
       "  </thead>\n",
       "  <tbody>\n",
       "    <tr>\n",
       "      <th>0</th>\n",
       "      <td>776</td>\n",
       "      <td>Out of My Head</td>\n",
       "      <td>House</td>\n",
       "      <td>House</td>\n",
       "    </tr>\n",
       "    <tr>\n",
       "      <th>1</th>\n",
       "      <td>699</td>\n",
       "      <td>Les mots d'amour</td>\n",
       "      <td>RNB</td>\n",
       "      <td>RNB</td>\n",
       "    </tr>\n",
       "    <tr>\n",
       "      <th>2</th>\n",
       "      <td>719</td>\n",
       "      <td>Tous mes rêves</td>\n",
       "      <td>RNB</td>\n",
       "      <td>RNB</td>\n",
       "    </tr>\n",
       "    <tr>\n",
       "      <th>3</th>\n",
       "      <td>805</td>\n",
       "      <td>No More</td>\n",
       "      <td>House</td>\n",
       "      <td>House</td>\n",
       "    </tr>\n",
       "    <tr>\n",
       "      <th>4</th>\n",
       "      <td>135</td>\n",
       "      <td>My Romance</td>\n",
       "      <td>Jazz</td>\n",
       "      <td>RNB</td>\n",
       "    </tr>\n",
       "    <tr>\n",
       "      <th>5</th>\n",
       "      <td>99</td>\n",
       "      <td>You're Good to Me</td>\n",
       "      <td>Jazz</td>\n",
       "      <td>Jazz</td>\n",
       "    </tr>\n",
       "    <tr>\n",
       "      <th>6</th>\n",
       "      <td>49</td>\n",
       "      <td>The More I See You</td>\n",
       "      <td>Jazz</td>\n",
       "      <td>Jazz</td>\n",
       "    </tr>\n",
       "    <tr>\n",
       "      <th>7</th>\n",
       "      <td>481</td>\n",
       "      <td>All I Need</td>\n",
       "      <td>RNB</td>\n",
       "      <td>Jazz</td>\n",
       "    </tr>\n",
       "    <tr>\n",
       "      <th>8</th>\n",
       "      <td>913</td>\n",
       "      <td>Tear Me Down (feat. Philip Rustad)</td>\n",
       "      <td>House</td>\n",
       "      <td>RNB</td>\n",
       "    </tr>\n",
       "    <tr>\n",
       "      <th>9</th>\n",
       "      <td>836</td>\n",
       "      <td>Regret</td>\n",
       "      <td>House</td>\n",
       "      <td>House</td>\n",
       "    </tr>\n",
       "  </tbody>\n",
       "</table>\n",
       "</div>"
      ],
      "text/plain": [
       "   Index                               Track Actual Predicted\n",
       "0    776                      Out of My Head  House     House\n",
       "1    699                    Les mots d'amour    RNB       RNB\n",
       "2    719                      Tous mes rêves    RNB       RNB\n",
       "3    805                             No More  House     House\n",
       "4    135                          My Romance   Jazz       RNB\n",
       "5     99                   You're Good to Me   Jazz      Jazz\n",
       "6     49                  The More I See You   Jazz      Jazz\n",
       "7    481                          All I Need    RNB      Jazz\n",
       "8    913  Tear Me Down (feat. Philip Rustad)  House       RNB\n",
       "9    836                              Regret  House     House"
      ]
     },
     "execution_count": 21,
     "metadata": {},
     "output_type": "execute_result"
    }
   ],
   "source": [
    "# Make predictions\n",
    "predicted = model.predict(X_test_scaled)\n",
    "predicted = enc.inverse_transform(predicted).flatten().tolist()\n",
    "\n",
    "# creating a prediction table\n",
    "results = pd.DataFrame({\n",
    "    \"Index\": y_test.index.values,\n",
    "    \"Track\": y_tracks,\n",
    "    \"Actual\": y_test.playlist.values,\n",
    "    \"Predicted\": predicted\n",
    "})\n",
    "results.head(10)"
   ]
  },
  {
   "cell_type": "code",
   "execution_count": 22,
   "metadata": {},
   "outputs": [
    {
     "name": "stdout",
     "output_type": "stream",
     "text": [
      "              precision    recall  f1-score   support\n",
      "\n",
      "       House       0.87      0.88      0.87        82\n",
      "        Jazz       0.88      0.74      0.80        92\n",
      "         RNB       0.77      0.89      0.83        97\n",
      "\n",
      "    accuracy                           0.83       271\n",
      "   macro avg       0.84      0.83      0.83       271\n",
      "weighted avg       0.84      0.83      0.83       271\n",
      "\n"
     ]
    }
   ],
   "source": [
    "# Print the Classification Report\n",
    "from sklearn.metrics import classification_report\n",
    "print(classification_report(results.Actual, results.Predicted))"
   ]
  }
 ],
 "metadata": {
  "anaconda-cloud": {},
  "kernelspec": {
   "display_name": "Python 3 (ipykernel)",
   "language": "python",
   "name": "python3"
  },
  "language_info": {
   "codemirror_mode": {
    "name": "ipython",
    "version": 3
   },
   "file_extension": ".py",
   "mimetype": "text/x-python",
   "name": "python",
   "nbconvert_exporter": "python",
   "pygments_lexer": "ipython3",
   "version": "3.7.11"
  },
  "varInspector": {
   "cols": {
    "lenName": 16,
    "lenType": 16,
    "lenVar": 40
   },
   "kernels_config": {
    "python": {
     "delete_cmd_postfix": "",
     "delete_cmd_prefix": "del ",
     "library": "var_list.py",
     "varRefreshCmd": "print(var_dic_list())"
    },
    "r": {
     "delete_cmd_postfix": ") ",
     "delete_cmd_prefix": "rm(",
     "library": "var_list.r",
     "varRefreshCmd": "cat(var_dic_list()) "
    }
   },
   "types_to_exclude": [
    "module",
    "function",
    "builtin_function_or_method",
    "instance",
    "_Feature"
   ],
   "window_display": false
  }
 },
 "nbformat": 4,
 "nbformat_minor": 4
}
