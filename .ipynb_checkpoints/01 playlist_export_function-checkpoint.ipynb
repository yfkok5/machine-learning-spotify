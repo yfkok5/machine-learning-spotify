{
 "cells": [
  {
   "cell_type": "code",
   "execution_count": 12,
   "id": "5423792e",
   "metadata": {},
   "outputs": [],
   "source": [
    "# Importing necessary libraries and settings\n",
    "from sklearn.neighbors import NearestNeighbors\n",
    "import pandas as pd\n",
    "#import plotly.express as px\n",
    "#import matplotlib.pyplot as plt\n",
    "\n",
    "get_ipython().run_line_magic('matplotlib', 'inline')\n",
    "import numpy as np\n",
    "import seaborn as sns\n",
    "import spotipy\n",
    "from spotipy.oauth2 import SpotifyClientCredentials\n",
    "import spotipy.util as util\n",
    "import time\n",
    "import warnings\n",
    "warnings.filterwarnings('ignore')"
   ]
  },
  {
   "cell_type": "code",
   "execution_count": 14,
   "id": "6489b703",
   "metadata": {},
   "outputs": [],
   "source": [
    "#username input with clientid + secretid from spotify dashboard\n",
    "username = 'yfkok8@hotmail.com'\n",
    "client_id = '31a78af7c9954c55951a4205935546f5'\n",
    "client_secret = 'd9b2cb8c10014ce7ba2d8bbd3f9939a6'\n",
    "sp = spotipy.Spotify(auth_manager=SpotifyClientCredentials(client_id=client_id,\n",
    "                                                           client_secret=client_secret))\n"
   ]
  },
  {
   "cell_type": "code",
   "execution_count": 15,
   "id": "d01a45fb",
   "metadata": {},
   "outputs": [],
   "source": [
    "def extract_playlist(user_logon, spotify_uri, output_csv_name):\n",
    "    \n",
    "    id_test = sp.user_playlist_tracks(user_logon, spotify_uri)['items'][0]['track']['id']\n",
    "    columns = ['artist', 'track']\n",
    "    list(map(lambda x: columns.append(x), list(sp.audio_features(id_test)[0].keys())))\n",
    "\n",
    "    playlist_tracks = pd.DataFrame(columns = columns, index = range(0, 200))\n",
    "\n",
    "    playlist_ids = [spotify_uri, spotify_uri]\n",
    "    row_counter = 0\n",
    "\n",
    "    for playlist_id in playlist_ids:\n",
    "        for track in sp.user_playlist_tracks(user_logon, spotify_uri)['items']:\n",
    "            current_id = track['track']['id']\n",
    "            current_row = [track['track']['artists'][0]['name'], track['track']['name']]\n",
    "            (list(map(lambda x: current_row.append(x), list(sp.audio_features(current_id)[0].values()))))\n",
    "            playlist_tracks.iloc[row_counter] = current_row\n",
    "            row_counter += 1\n",
    "    playlist_tracks = playlist_tracks.dropna().drop_duplicates('id') \n",
    "    return playlist_tracks.to_csv(output_csv_name)"
   ]
  },
  {
   "cell_type": "code",
   "execution_count": 17,
   "id": "063aedc9",
   "metadata": {},
   "outputs": [],
   "source": [
    "extract_playlist(\"yfkok8@hotmail.com\", \"spotify:playlist:1EVE9kOZ2i4171hNdvWVhU\",\"test_playlist2.csv\")"
   ]
  },
  {
   "cell_type": "code",
   "execution_count": 18,
   "id": "cb8576df",
   "metadata": {},
   "outputs": [],
   "source": []
  },
  {
   "cell_type": "code",
   "execution_count": null,
   "id": "39c138b2",
   "metadata": {},
   "outputs": [],
   "source": []
  },
  {
   "cell_type": "code",
   "execution_count": 33,
   "id": "05662814",
   "metadata": {},
   "outputs": [],
   "source": []
  },
  {
   "cell_type": "code",
   "execution_count": null,
   "id": "4539342f",
   "metadata": {},
   "outputs": [],
   "source": []
  }
 ],
 "metadata": {
  "kernelspec": {
   "display_name": "Python 3 (ipykernel)",
   "language": "python",
   "name": "python3"
  },
  "language_info": {
   "codemirror_mode": {
    "name": "ipython",
    "version": 3
   },
   "file_extension": ".py",
   "mimetype": "text/x-python",
   "name": "python",
   "nbconvert_exporter": "python",
   "pygments_lexer": "ipython3",
   "version": "3.7.11"
  }
 },
 "nbformat": 4,
 "nbformat_minor": 5
}
