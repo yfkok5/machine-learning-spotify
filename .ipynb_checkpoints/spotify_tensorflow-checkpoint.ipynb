{
 "cells": [
  {
   "cell_type": "code",
   "execution_count": 100,
   "id": "c8b259ce",
   "metadata": {},
   "outputs": [],
   "source": [
    "from tensorflow.keras.models import Sequential\n",
    "from tensorflow.keras.layers import Dense\n",
    "from pathlib import Path\n",
    "import pandas as pd\n",
    "import numpy as np\n",
    "import matplotlib.pyplot as plt\n",
    "import warnings\n",
    "warnings.filterwarnings('ignore')"
   ]
  },
  {
   "cell_type": "code",
   "execution_count": 101,
   "id": "9d559802",
   "metadata": {},
   "outputs": [
    {
     "data": {
      "text/html": [
       "<div>\n",
       "<style scoped>\n",
       "    .dataframe tbody tr th:only-of-type {\n",
       "        vertical-align: middle;\n",
       "    }\n",
       "\n",
       "    .dataframe tbody tr th {\n",
       "        vertical-align: top;\n",
       "    }\n",
       "\n",
       "    .dataframe thead th {\n",
       "        text-align: right;\n",
       "    }\n",
       "</style>\n",
       "<table border=\"1\" class=\"dataframe\">\n",
       "  <thead>\n",
       "    <tr style=\"text-align: right;\">\n",
       "      <th></th>\n",
       "      <th>Unnamed: 0</th>\n",
       "      <th>artist</th>\n",
       "      <th>track</th>\n",
       "      <th>danceability</th>\n",
       "      <th>energy</th>\n",
       "      <th>key</th>\n",
       "      <th>loudness</th>\n",
       "      <th>mode</th>\n",
       "      <th>speechiness</th>\n",
       "      <th>acousticness</th>\n",
       "      <th>...</th>\n",
       "      <th>valence</th>\n",
       "      <th>tempo</th>\n",
       "      <th>type</th>\n",
       "      <th>id</th>\n",
       "      <th>uri</th>\n",
       "      <th>track_href</th>\n",
       "      <th>analysis_url</th>\n",
       "      <th>duration_ms</th>\n",
       "      <th>time_signature</th>\n",
       "      <th>target</th>\n",
       "    </tr>\n",
       "  </thead>\n",
       "  <tbody>\n",
       "    <tr>\n",
       "      <th>0</th>\n",
       "      <td>0</td>\n",
       "      <td>SUPER-Hi</td>\n",
       "      <td>Following the Sun</td>\n",
       "      <td>0.734</td>\n",
       "      <td>0.828</td>\n",
       "      <td>6</td>\n",
       "      <td>-4.433</td>\n",
       "      <td>0</td>\n",
       "      <td>0.0330</td>\n",
       "      <td>0.3980</td>\n",
       "      <td>...</td>\n",
       "      <td>0.717</td>\n",
       "      <td>127.023</td>\n",
       "      <td>audio_features</td>\n",
       "      <td>2sFbdDiEDpyCdP5nUCuGBm</td>\n",
       "      <td>spotify:track:2sFbdDiEDpyCdP5nUCuGBm</td>\n",
       "      <td>https://api.spotify.com/v1/tracks/2sFbdDiEDpyC...</td>\n",
       "      <td>https://api.spotify.com/v1/audio-analysis/2sFb...</td>\n",
       "      <td>205000</td>\n",
       "      <td>4</td>\n",
       "      <td>1</td>\n",
       "    </tr>\n",
       "    <tr>\n",
       "      <th>1</th>\n",
       "      <td>1</td>\n",
       "      <td>Latto</td>\n",
       "      <td>Big Energy</td>\n",
       "      <td>0.935</td>\n",
       "      <td>0.807</td>\n",
       "      <td>11</td>\n",
       "      <td>-3.838</td>\n",
       "      <td>0</td>\n",
       "      <td>0.1140</td>\n",
       "      <td>0.0514</td>\n",
       "      <td>...</td>\n",
       "      <td>0.813</td>\n",
       "      <td>106.017</td>\n",
       "      <td>audio_features</td>\n",
       "      <td>6Zu3aw7FfjAF9WA0fA81Oq</td>\n",
       "      <td>spotify:track:6Zu3aw7FfjAF9WA0fA81Oq</td>\n",
       "      <td>https://api.spotify.com/v1/tracks/6Zu3aw7FfjAF...</td>\n",
       "      <td>https://api.spotify.com/v1/audio-analysis/6Zu3...</td>\n",
       "      <td>173182</td>\n",
       "      <td>4</td>\n",
       "      <td>1</td>\n",
       "    </tr>\n",
       "    <tr>\n",
       "      <th>2</th>\n",
       "      <td>2</td>\n",
       "      <td>Lizzo</td>\n",
       "      <td>About Damn Time</td>\n",
       "      <td>0.836</td>\n",
       "      <td>0.743</td>\n",
       "      <td>10</td>\n",
       "      <td>-6.305</td>\n",
       "      <td>0</td>\n",
       "      <td>0.0656</td>\n",
       "      <td>0.0995</td>\n",
       "      <td>...</td>\n",
       "      <td>0.722</td>\n",
       "      <td>108.966</td>\n",
       "      <td>audio_features</td>\n",
       "      <td>1PckUlxKqWQs3RlWXVBLw3</td>\n",
       "      <td>spotify:track:1PckUlxKqWQs3RlWXVBLw3</td>\n",
       "      <td>https://api.spotify.com/v1/tracks/1PckUlxKqWQs...</td>\n",
       "      <td>https://api.spotify.com/v1/audio-analysis/1Pck...</td>\n",
       "      <td>191822</td>\n",
       "      <td>4</td>\n",
       "      <td>1</td>\n",
       "    </tr>\n",
       "    <tr>\n",
       "      <th>3</th>\n",
       "      <td>3</td>\n",
       "      <td>The Kid LAROI</td>\n",
       "      <td>Thousand Miles</td>\n",
       "      <td>0.376</td>\n",
       "      <td>0.657</td>\n",
       "      <td>7</td>\n",
       "      <td>-4.658</td>\n",
       "      <td>1</td>\n",
       "      <td>0.0768</td>\n",
       "      <td>0.0858</td>\n",
       "      <td>...</td>\n",
       "      <td>0.203</td>\n",
       "      <td>80.565</td>\n",
       "      <td>audio_features</td>\n",
       "      <td>1r8ZCjfrQxoy2wVaBUbpwg</td>\n",
       "      <td>spotify:track:1r8ZCjfrQxoy2wVaBUbpwg</td>\n",
       "      <td>https://api.spotify.com/v1/tracks/1r8ZCjfrQxoy...</td>\n",
       "      <td>https://api.spotify.com/v1/audio-analysis/1r8Z...</td>\n",
       "      <td>164782</td>\n",
       "      <td>4</td>\n",
       "      <td>0</td>\n",
       "    </tr>\n",
       "    <tr>\n",
       "      <th>4</th>\n",
       "      <td>4</td>\n",
       "      <td>Calvin Harris</td>\n",
       "      <td>Potion (with Dua Lipa &amp; Young Thug)</td>\n",
       "      <td>0.824</td>\n",
       "      <td>0.697</td>\n",
       "      <td>11</td>\n",
       "      <td>-4.869</td>\n",
       "      <td>0</td>\n",
       "      <td>0.0473</td>\n",
       "      <td>0.1580</td>\n",
       "      <td>...</td>\n",
       "      <td>0.757</td>\n",
       "      <td>99.988</td>\n",
       "      <td>audio_features</td>\n",
       "      <td>7fYRg3CEbk6rNCuzNzMT06</td>\n",
       "      <td>spotify:track:7fYRg3CEbk6rNCuzNzMT06</td>\n",
       "      <td>https://api.spotify.com/v1/tracks/7fYRg3CEbk6r...</td>\n",
       "      <td>https://api.spotify.com/v1/audio-analysis/7fYR...</td>\n",
       "      <td>214460</td>\n",
       "      <td>4</td>\n",
       "      <td>0</td>\n",
       "    </tr>\n",
       "  </tbody>\n",
       "</table>\n",
       "<p>5 rows × 22 columns</p>\n",
       "</div>"
      ],
      "text/plain": [
       "   Unnamed: 0         artist                                track  \\\n",
       "0           0       SUPER-Hi                    Following the Sun   \n",
       "1           1          Latto                           Big Energy   \n",
       "2           2          Lizzo                      About Damn Time   \n",
       "3           3  The Kid LAROI                       Thousand Miles   \n",
       "4           4  Calvin Harris  Potion (with Dua Lipa & Young Thug)   \n",
       "\n",
       "   danceability  energy  key  loudness  mode  speechiness  acousticness  ...  \\\n",
       "0         0.734   0.828    6    -4.433     0       0.0330        0.3980  ...   \n",
       "1         0.935   0.807   11    -3.838     0       0.1140        0.0514  ...   \n",
       "2         0.836   0.743   10    -6.305     0       0.0656        0.0995  ...   \n",
       "3         0.376   0.657    7    -4.658     1       0.0768        0.0858  ...   \n",
       "4         0.824   0.697   11    -4.869     0       0.0473        0.1580  ...   \n",
       "\n",
       "   valence    tempo            type                      id  \\\n",
       "0    0.717  127.023  audio_features  2sFbdDiEDpyCdP5nUCuGBm   \n",
       "1    0.813  106.017  audio_features  6Zu3aw7FfjAF9WA0fA81Oq   \n",
       "2    0.722  108.966  audio_features  1PckUlxKqWQs3RlWXVBLw3   \n",
       "3    0.203   80.565  audio_features  1r8ZCjfrQxoy2wVaBUbpwg   \n",
       "4    0.757   99.988  audio_features  7fYRg3CEbk6rNCuzNzMT06   \n",
       "\n",
       "                                    uri  \\\n",
       "0  spotify:track:2sFbdDiEDpyCdP5nUCuGBm   \n",
       "1  spotify:track:6Zu3aw7FfjAF9WA0fA81Oq   \n",
       "2  spotify:track:1PckUlxKqWQs3RlWXVBLw3   \n",
       "3  spotify:track:1r8ZCjfrQxoy2wVaBUbpwg   \n",
       "4  spotify:track:7fYRg3CEbk6rNCuzNzMT06   \n",
       "\n",
       "                                          track_href  \\\n",
       "0  https://api.spotify.com/v1/tracks/2sFbdDiEDpyC...   \n",
       "1  https://api.spotify.com/v1/tracks/6Zu3aw7FfjAF...   \n",
       "2  https://api.spotify.com/v1/tracks/1PckUlxKqWQs...   \n",
       "3  https://api.spotify.com/v1/tracks/1r8ZCjfrQxoy...   \n",
       "4  https://api.spotify.com/v1/tracks/7fYRg3CEbk6r...   \n",
       "\n",
       "                                        analysis_url duration_ms  \\\n",
       "0  https://api.spotify.com/v1/audio-analysis/2sFb...      205000   \n",
       "1  https://api.spotify.com/v1/audio-analysis/6Zu3...      173182   \n",
       "2  https://api.spotify.com/v1/audio-analysis/1Pck...      191822   \n",
       "3  https://api.spotify.com/v1/audio-analysis/1r8Z...      164782   \n",
       "4  https://api.spotify.com/v1/audio-analysis/7fYR...      214460   \n",
       "\n",
       "  time_signature  target  \n",
       "0              4       1  \n",
       "1              4       1  \n",
       "2              4       1  \n",
       "3              4       0  \n",
       "4              4       0  \n",
       "\n",
       "[5 rows x 22 columns]"
      ]
     },
     "execution_count": 101,
     "metadata": {},
     "output_type": "execute_result"
    }
   ],
   "source": [
    "# Read in data\n",
    "data = Path(\"Resources/spotify_music_target.csv\")\n",
    "df = pd.read_csv(data)\n",
    "df.head()"
   ]
  },
  {
   "cell_type": "code",
   "execution_count": 102,
   "id": "0c79e9e5",
   "metadata": {},
   "outputs": [
    {
     "data": {
      "text/plain": [
       "Index(['Unnamed: 0', 'artist', 'track', 'danceability', 'energy', 'key',\n",
       "       'loudness', 'mode', 'speechiness', 'acousticness', 'instrumentalness',\n",
       "       'liveness', 'valence', 'tempo', 'type', 'id', 'uri', 'track_href',\n",
       "       'analysis_url', 'duration_ms', 'time_signature', 'target'],\n",
       "      dtype='object')"
      ]
     },
     "execution_count": 102,
     "metadata": {},
     "output_type": "execute_result"
    }
   ],
   "source": [
    "df.columns"
   ]
  },
  {
   "cell_type": "code",
   "execution_count": 103,
   "id": "de754af0",
   "metadata": {},
   "outputs": [
    {
     "data": {
      "text/html": [
       "<div>\n",
       "<style scoped>\n",
       "    .dataframe tbody tr th:only-of-type {\n",
       "        vertical-align: middle;\n",
       "    }\n",
       "\n",
       "    .dataframe tbody tr th {\n",
       "        vertical-align: top;\n",
       "    }\n",
       "\n",
       "    .dataframe thead th {\n",
       "        text-align: right;\n",
       "    }\n",
       "</style>\n",
       "<table border=\"1\" class=\"dataframe\">\n",
       "  <thead>\n",
       "    <tr style=\"text-align: right;\">\n",
       "      <th></th>\n",
       "      <th>danceability</th>\n",
       "      <th>energy</th>\n",
       "      <th>key</th>\n",
       "      <th>loudness</th>\n",
       "      <th>mode</th>\n",
       "      <th>speechiness</th>\n",
       "      <th>acousticness</th>\n",
       "      <th>instrumentalness</th>\n",
       "      <th>liveness</th>\n",
       "      <th>valence</th>\n",
       "      <th>tempo</th>\n",
       "      <th>duration_ms</th>\n",
       "      <th>target</th>\n",
       "    </tr>\n",
       "  </thead>\n",
       "  <tbody>\n",
       "    <tr>\n",
       "      <th>0</th>\n",
       "      <td>0.734</td>\n",
       "      <td>0.828</td>\n",
       "      <td>6</td>\n",
       "      <td>-4.433</td>\n",
       "      <td>0</td>\n",
       "      <td>0.0330</td>\n",
       "      <td>0.3980</td>\n",
       "      <td>0.022500</td>\n",
       "      <td>0.1360</td>\n",
       "      <td>0.717</td>\n",
       "      <td>127.023</td>\n",
       "      <td>205000</td>\n",
       "      <td>1</td>\n",
       "    </tr>\n",
       "    <tr>\n",
       "      <th>1</th>\n",
       "      <td>0.935</td>\n",
       "      <td>0.807</td>\n",
       "      <td>11</td>\n",
       "      <td>-3.838</td>\n",
       "      <td>0</td>\n",
       "      <td>0.1140</td>\n",
       "      <td>0.0514</td>\n",
       "      <td>0.000000</td>\n",
       "      <td>0.3490</td>\n",
       "      <td>0.813</td>\n",
       "      <td>106.017</td>\n",
       "      <td>173182</td>\n",
       "      <td>1</td>\n",
       "    </tr>\n",
       "    <tr>\n",
       "      <th>2</th>\n",
       "      <td>0.836</td>\n",
       "      <td>0.743</td>\n",
       "      <td>10</td>\n",
       "      <td>-6.305</td>\n",
       "      <td>0</td>\n",
       "      <td>0.0656</td>\n",
       "      <td>0.0995</td>\n",
       "      <td>0.000000</td>\n",
       "      <td>0.3350</td>\n",
       "      <td>0.722</td>\n",
       "      <td>108.966</td>\n",
       "      <td>191822</td>\n",
       "      <td>1</td>\n",
       "    </tr>\n",
       "    <tr>\n",
       "      <th>3</th>\n",
       "      <td>0.376</td>\n",
       "      <td>0.657</td>\n",
       "      <td>7</td>\n",
       "      <td>-4.658</td>\n",
       "      <td>1</td>\n",
       "      <td>0.0768</td>\n",
       "      <td>0.0858</td>\n",
       "      <td>0.000000</td>\n",
       "      <td>0.0884</td>\n",
       "      <td>0.203</td>\n",
       "      <td>80.565</td>\n",
       "      <td>164782</td>\n",
       "      <td>0</td>\n",
       "    </tr>\n",
       "    <tr>\n",
       "      <th>4</th>\n",
       "      <td>0.824</td>\n",
       "      <td>0.697</td>\n",
       "      <td>11</td>\n",
       "      <td>-4.869</td>\n",
       "      <td>0</td>\n",
       "      <td>0.0473</td>\n",
       "      <td>0.1580</td>\n",
       "      <td>0.000041</td>\n",
       "      <td>0.0770</td>\n",
       "      <td>0.757</td>\n",
       "      <td>99.988</td>\n",
       "      <td>214460</td>\n",
       "      <td>0</td>\n",
       "    </tr>\n",
       "  </tbody>\n",
       "</table>\n",
       "</div>"
      ],
      "text/plain": [
       "   danceability  energy  key  loudness  mode  speechiness  acousticness  \\\n",
       "0         0.734   0.828    6    -4.433     0       0.0330        0.3980   \n",
       "1         0.935   0.807   11    -3.838     0       0.1140        0.0514   \n",
       "2         0.836   0.743   10    -6.305     0       0.0656        0.0995   \n",
       "3         0.376   0.657    7    -4.658     1       0.0768        0.0858   \n",
       "4         0.824   0.697   11    -4.869     0       0.0473        0.1580   \n",
       "\n",
       "   instrumentalness  liveness  valence    tempo  duration_ms  target  \n",
       "0          0.022500    0.1360    0.717  127.023       205000       1  \n",
       "1          0.000000    0.3490    0.813  106.017       173182       1  \n",
       "2          0.000000    0.3350    0.722  108.966       191822       1  \n",
       "3          0.000000    0.0884    0.203   80.565       164782       0  \n",
       "4          0.000041    0.0770    0.757   99.988       214460       0  "
      ]
     },
     "execution_count": 103,
     "metadata": {},
     "output_type": "execute_result"
    }
   ],
   "source": [
    "raw_data = df.drop(['Unnamed: 0',\"artist\",\"track\",\"type\",\"id\",\"uri\",\"track_href\",\"analysis_url\",\"time_signature\"],axis=1)\n",
    "raw_data.head()"
   ]
  },
  {
   "cell_type": "code",
   "execution_count": 104,
   "id": "2760725d",
   "metadata": {},
   "outputs": [],
   "source": [
    "# Define the features X set and the target y vector\n",
    "X = raw_data.drop(\"target\",axis=1).values\n",
    "y = df[\"target\"].values"
   ]
  },
  {
   "cell_type": "code",
   "execution_count": 119,
   "id": "1ee3a739",
   "metadata": {},
   "outputs": [],
   "source": [
    "# Scale the data\n",
    "from sklearn.model_selection import train_test_split\n",
    "\n",
    "X_train, X_test, y_train, y_test = train_test_split(X, y, test_size=0.2, random_state=30, shuffle=True)"
   ]
  },
  {
   "cell_type": "code",
   "execution_count": 120,
   "id": "425db1dc",
   "metadata": {},
   "outputs": [
    {
     "data": {
      "text/plain": [
       "KNeighborsClassifier(metric='euclidean', n_neighbors=3)"
      ]
     },
     "execution_count": 120,
     "metadata": {},
     "output_type": "execute_result"
    }
   ],
   "source": [
    "from sklearn.neighbors import KNeighborsClassifier\n",
    "\n",
    "knn = KNeighborsClassifier(n_neighbors=3,p=2,metric='euclidean')\n",
    "knn.fit(X_train, y_train)"
   ]
  },
  {
   "cell_type": "code",
   "execution_count": 121,
   "id": "4d5ab24c",
   "metadata": {},
   "outputs": [
    {
     "data": {
      "text/plain": [
       "array([0, 1, 0, 1, 0, 1, 1, 1, 0, 0], dtype=int64)"
      ]
     },
     "execution_count": 121,
     "metadata": {},
     "output_type": "execute_result"
    }
   ],
   "source": [
    "prediction = knn.predict(X_test)\n",
    "prediction\n"
   ]
  },
  {
   "cell_type": "code",
   "execution_count": 122,
   "id": "13a36313",
   "metadata": {},
   "outputs": [
    {
     "name": "stdout",
     "output_type": "stream",
     "text": [
      "              precision    recall  f1-score   support\n",
      "\n",
      "           0       0.60      0.50      0.55         6\n",
      "           1       0.40      0.50      0.44         4\n",
      "\n",
      "    accuracy                           0.50        10\n",
      "   macro avg       0.50      0.50      0.49        10\n",
      "weighted avg       0.52      0.50      0.51        10\n",
      "\n"
     ]
    }
   ],
   "source": [
    "from sklearn.metrics import classification_report\n",
    "print(classification_report(y_test, prediction))\n"
   ]
  },
  {
   "cell_type": "code",
   "execution_count": 123,
   "id": "b5e05d2c",
   "metadata": {},
   "outputs": [
    {
     "data": {
      "text/plain": [
       "Text(0, 0.5, 'Error Rate')"
      ]
     },
     "execution_count": 123,
     "metadata": {},
     "output_type": "execute_result"
    },
    {
     "data": {
      "image/png": "[encoded data removed]",
      "text/plain": [
       "<Figure size 720x288 with 1 Axes>"
      ]
     },
     "metadata": {
      "needs_background": "light"
     },
     "output_type": "display_data"
    }
   ],
   "source": [
    "error_rate = []\n",
    "for i in range(1,36):\n",
    "    \n",
    "    knn = KNeighborsClassifier(n_neighbors=i)\n",
    "    knn.fit(X_train, y_train)\n",
    "    prediction_i = knn.predict(X_test)\n",
    "    error_rate.append(np.mean(prediction_i != y_test))\n",
    "    \n",
    "# Configure and plot error rate over k values\n",
    "plt.figure(figsize=(10,4))\n",
    "plt.plot(range(1,36), error_rate, color='blue', linestyle='dashed', marker='o', markerfacecolor='red', markersize=10)\n",
    "plt.title('Error Rate vs. K-Values')\n",
    "plt.xlabel('K-Values')\n",
    "plt.ylabel('Error Rate')"
   ]
  },
  {
   "cell_type": "code",
   "execution_count": null,
   "id": "cefe7657",
   "metadata": {},
   "outputs": [],
   "source": []
  },
  {
   "cell_type": "code",
   "execution_count": null,
   "id": "1079a331",
   "metadata": {},
   "outputs": [],
   "source": []
  },
  {
   "cell_type": "code",
   "execution_count": null,
   "id": "2ad2c8bf",
   "metadata": {},
   "outputs": [],
   "source": []
  }
 ],
 "metadata": {
  "kernelspec": {
   "display_name": "Python 3 (ipykernel)",
   "language": "python",
   "name": "python3"
  },
  "language_info": {
   "codemirror_mode": {
    "name": "ipython",
    "version": 3
   },
   "file_extension": ".py",
   "mimetype": "text/x-python",
   "name": "python",
   "nbconvert_exporter": "python",
   "pygments_lexer": "ipython3",
   "version": "3.7.11"
  }
 },
 "nbformat": 4,
 "nbformat_minor": 5
}
