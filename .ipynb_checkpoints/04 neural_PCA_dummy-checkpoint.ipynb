{
 "cells": [
  {
   "cell_type": "markdown",
   "metadata": {},
   "source": [
    "# Neural Network Spotify Playlist\n"
   ]
  },
  {
   "cell_type": "markdown",
   "metadata": {},
   "source": [
    "### Data Pre-Processing\n",
    "\n",
    "Prepare the data for the neural network. This includes splitting the data into a training and testing dataset, Scaling the data, and encoding the categorical target values"
   ]
  },
  {
   "cell_type": "code",
   "execution_count": 268,
   "metadata": {},
   "outputs": [],
   "source": [
    "from pathlib import Path\n",
    "\n",
    "import numpy as np\n",
    "import pandas as pd\n",
    "\n",
    "from sklearn.model_selection import train_test_split\n",
    "from sklearn.preprocessing import StandardScaler, OneHotEncoder\n",
    "from sklearn.decomposition import PCA\n",
    "\n",
    "import tensorflow as tf\n",
    "from tensorflow.keras.models import Sequential\n",
    "from tensorflow.keras.layers import Dense\n",
    "from tensorflow import keras\n",
    "from tensorflow.keras import layers\n",
    "import tensorflow as tf"
   ]
  },
  {
   "cell_type": "code",
   "execution_count": 269,
   "metadata": {},
   "outputs": [
    {
     "data": {
      "text/plain": [
       "(388, 22)"
      ]
     },
     "execution_count": 269,
     "metadata": {},
     "output_type": "execute_result"
    }
   ],
   "source": [
    "#reading into compiled csv\n",
    "data = Path(\"Resources/spotify_main_raw_data.csv\")\n",
    "df = pd.read_csv(data)\n",
    "df.shape"
   ]
  },
  {
   "cell_type": "code",
   "execution_count": 270,
   "metadata": {},
   "outputs": [
    {
     "data": {
      "text/html": [
       "<div>\n",
       "<style scoped>\n",
       "    .dataframe tbody tr th:only-of-type {\n",
       "        vertical-align: middle;\n",
       "    }\n",
       "\n",
       "    .dataframe tbody tr th {\n",
       "        vertical-align: top;\n",
       "    }\n",
       "\n",
       "    .dataframe thead th {\n",
       "        text-align: right;\n",
       "    }\n",
       "</style>\n",
       "<table border=\"1\" class=\"dataframe\">\n",
       "  <thead>\n",
       "    <tr style=\"text-align: right;\">\n",
       "      <th></th>\n",
       "      <th>danceability</th>\n",
       "      <th>energy</th>\n",
       "      <th>key</th>\n",
       "      <th>loudness</th>\n",
       "      <th>mode</th>\n",
       "      <th>speechiness</th>\n",
       "      <th>acousticness</th>\n",
       "      <th>instrumentalness</th>\n",
       "      <th>liveness</th>\n",
       "      <th>valence</th>\n",
       "      <th>...</th>\n",
       "      <th>artist_WizKid</th>\n",
       "      <th>artist_YOASOBI</th>\n",
       "      <th>artist_YONAKA</th>\n",
       "      <th>artist_Yang Da Il</th>\n",
       "      <th>artist_ZZ Top</th>\n",
       "      <th>artist_Zion.T</th>\n",
       "      <th>artist_blink-182</th>\n",
       "      <th>artist_dj poolboi</th>\n",
       "      <th>artist_gianni &amp; kyle</th>\n",
       "      <th>artist_rum.gold</th>\n",
       "    </tr>\n",
       "  </thead>\n",
       "  <tbody>\n",
       "    <tr>\n",
       "      <th>0</th>\n",
       "      <td>0.564</td>\n",
       "      <td>0.364</td>\n",
       "      <td>10</td>\n",
       "      <td>-5.845</td>\n",
       "      <td>0</td>\n",
       "      <td>0.0631</td>\n",
       "      <td>0.75900</td>\n",
       "      <td>0.000000</td>\n",
       "      <td>0.0839</td>\n",
       "      <td>0.591</td>\n",
       "      <td>...</td>\n",
       "      <td>0</td>\n",
       "      <td>0</td>\n",
       "      <td>0</td>\n",
       "      <td>0</td>\n",
       "      <td>0</td>\n",
       "      <td>0</td>\n",
       "      <td>0</td>\n",
       "      <td>0</td>\n",
       "      <td>0</td>\n",
       "      <td>0</td>\n",
       "    </tr>\n",
       "    <tr>\n",
       "      <th>1</th>\n",
       "      <td>0.701</td>\n",
       "      <td>0.519</td>\n",
       "      <td>1</td>\n",
       "      <td>-6.382</td>\n",
       "      <td>1</td>\n",
       "      <td>0.0516</td>\n",
       "      <td>0.31400</td>\n",
       "      <td>0.000000</td>\n",
       "      <td>0.2070</td>\n",
       "      <td>0.498</td>\n",
       "      <td>...</td>\n",
       "      <td>0</td>\n",
       "      <td>0</td>\n",
       "      <td>0</td>\n",
       "      <td>0</td>\n",
       "      <td>0</td>\n",
       "      <td>0</td>\n",
       "      <td>0</td>\n",
       "      <td>0</td>\n",
       "      <td>0</td>\n",
       "      <td>0</td>\n",
       "    </tr>\n",
       "    <tr>\n",
       "      <th>2</th>\n",
       "      <td>0.309</td>\n",
       "      <td>0.740</td>\n",
       "      <td>7</td>\n",
       "      <td>-5.917</td>\n",
       "      <td>0</td>\n",
       "      <td>0.0456</td>\n",
       "      <td>0.00854</td>\n",
       "      <td>0.025800</td>\n",
       "      <td>0.1190</td>\n",
       "      <td>0.166</td>\n",
       "      <td>...</td>\n",
       "      <td>0</td>\n",
       "      <td>0</td>\n",
       "      <td>0</td>\n",
       "      <td>0</td>\n",
       "      <td>0</td>\n",
       "      <td>0</td>\n",
       "      <td>0</td>\n",
       "      <td>0</td>\n",
       "      <td>0</td>\n",
       "      <td>0</td>\n",
       "    </tr>\n",
       "    <tr>\n",
       "      <th>3</th>\n",
       "      <td>0.552</td>\n",
       "      <td>0.637</td>\n",
       "      <td>5</td>\n",
       "      <td>-6.568</td>\n",
       "      <td>1</td>\n",
       "      <td>0.0445</td>\n",
       "      <td>0.46400</td>\n",
       "      <td>0.000016</td>\n",
       "      <td>0.1360</td>\n",
       "      <td>0.333</td>\n",
       "      <td>...</td>\n",
       "      <td>0</td>\n",
       "      <td>0</td>\n",
       "      <td>0</td>\n",
       "      <td>0</td>\n",
       "      <td>0</td>\n",
       "      <td>0</td>\n",
       "      <td>0</td>\n",
       "      <td>0</td>\n",
       "      <td>0</td>\n",
       "      <td>0</td>\n",
       "    </tr>\n",
       "    <tr>\n",
       "      <th>4</th>\n",
       "      <td>0.655</td>\n",
       "      <td>0.885</td>\n",
       "      <td>7</td>\n",
       "      <td>-4.116</td>\n",
       "      <td>1</td>\n",
       "      <td>0.0438</td>\n",
       "      <td>0.00117</td>\n",
       "      <td>0.000473</td>\n",
       "      <td>0.0448</td>\n",
       "      <td>0.938</td>\n",
       "      <td>...</td>\n",
       "      <td>0</td>\n",
       "      <td>0</td>\n",
       "      <td>0</td>\n",
       "      <td>0</td>\n",
       "      <td>0</td>\n",
       "      <td>0</td>\n",
       "      <td>0</td>\n",
       "      <td>0</td>\n",
       "      <td>0</td>\n",
       "      <td>0</td>\n",
       "    </tr>\n",
       "  </tbody>\n",
       "</table>\n",
       "<p>5 rows × 279 columns</p>\n",
       "</div>"
      ],
      "text/plain": [
       "   danceability  energy  key  loudness  mode  speechiness  acousticness  \\\n",
       "0         0.564   0.364   10    -5.845     0       0.0631       0.75900   \n",
       "1         0.701   0.519    1    -6.382     1       0.0516       0.31400   \n",
       "2         0.309   0.740    7    -5.917     0       0.0456       0.00854   \n",
       "3         0.552   0.637    5    -6.568     1       0.0445       0.46400   \n",
       "4         0.655   0.885    7    -4.116     1       0.0438       0.00117   \n",
       "\n",
       "   instrumentalness  liveness  valence  ...  artist_WizKid  artist_YOASOBI  \\\n",
       "0          0.000000    0.0839    0.591  ...              0               0   \n",
       "1          0.000000    0.2070    0.498  ...              0               0   \n",
       "2          0.025800    0.1190    0.166  ...              0               0   \n",
       "3          0.000016    0.1360    0.333  ...              0               0   \n",
       "4          0.000473    0.0448    0.938  ...              0               0   \n",
       "\n",
       "  artist_YONAKA  artist_Yang Da Il  artist_ZZ Top  artist_Zion.T  \\\n",
       "0             0                  0              0              0   \n",
       "1             0                  0              0              0   \n",
       "2             0                  0              0              0   \n",
       "3             0                  0              0              0   \n",
       "4             0                  0              0              0   \n",
       "\n",
       "   artist_blink-182  artist_dj poolboi  artist_gianni & kyle  artist_rum.gold  \n",
       "0                 0                  0                     0                0  \n",
       "1                 0                  0                     0                0  \n",
       "2                 0                  0                     0                0  \n",
       "3                 0                  0                     0                0  \n",
       "4                 0                  0                     0                0  \n",
       "\n",
       "[5 rows x 279 columns]"
      ]
     },
     "execution_count": 270,
     "metadata": {},
     "output_type": "execute_result"
    }
   ],
   "source": [
    "#dropping irrelevant columns\n",
    "raw_data = df.drop(['Unnamed: 0',\"track\",\"type\",\"id\",\"uri\",\"track_href\",\"analysis_url\",\"time_signature\"],axis=1)\n",
    "\n",
    "# Encoding the Artist's column\n",
    "spot_df = pd.get_dummies(raw_data, columns=[\"artist\"])\n",
    "spot_df.head()"
   ]
  },
  {
   "cell_type": "code",
   "execution_count": 271,
   "metadata": {},
   "outputs": [
    {
     "data": {
      "text/html": [
       "<div>\n",
       "<style scoped>\n",
       "    .dataframe tbody tr th:only-of-type {\n",
       "        vertical-align: middle;\n",
       "    }\n",
       "\n",
       "    .dataframe tbody tr th {\n",
       "        vertical-align: top;\n",
       "    }\n",
       "\n",
       "    .dataframe thead th {\n",
       "        text-align: right;\n",
       "    }\n",
       "</style>\n",
       "<table border=\"1\" class=\"dataframe\">\n",
       "  <thead>\n",
       "    <tr style=\"text-align: right;\">\n",
       "      <th></th>\n",
       "      <th>danceability</th>\n",
       "      <th>energy</th>\n",
       "      <th>key</th>\n",
       "      <th>loudness</th>\n",
       "      <th>mode</th>\n",
       "      <th>speechiness</th>\n",
       "      <th>acousticness</th>\n",
       "      <th>instrumentalness</th>\n",
       "      <th>liveness</th>\n",
       "      <th>valence</th>\n",
       "      <th>...</th>\n",
       "      <th>artist_WizKid</th>\n",
       "      <th>artist_YOASOBI</th>\n",
       "      <th>artist_YONAKA</th>\n",
       "      <th>artist_Yang Da Il</th>\n",
       "      <th>artist_ZZ Top</th>\n",
       "      <th>artist_Zion.T</th>\n",
       "      <th>artist_blink-182</th>\n",
       "      <th>artist_dj poolboi</th>\n",
       "      <th>artist_gianni &amp; kyle</th>\n",
       "      <th>artist_rum.gold</th>\n",
       "    </tr>\n",
       "  </thead>\n",
       "  <tbody>\n",
       "    <tr>\n",
       "      <th>0</th>\n",
       "      <td>0.564</td>\n",
       "      <td>0.364</td>\n",
       "      <td>10</td>\n",
       "      <td>-5.845</td>\n",
       "      <td>0</td>\n",
       "      <td>0.0631</td>\n",
       "      <td>0.75900</td>\n",
       "      <td>0.000000</td>\n",
       "      <td>0.0839</td>\n",
       "      <td>0.591</td>\n",
       "      <td>...</td>\n",
       "      <td>0</td>\n",
       "      <td>0</td>\n",
       "      <td>0</td>\n",
       "      <td>0</td>\n",
       "      <td>0</td>\n",
       "      <td>0</td>\n",
       "      <td>0</td>\n",
       "      <td>0</td>\n",
       "      <td>0</td>\n",
       "      <td>0</td>\n",
       "    </tr>\n",
       "    <tr>\n",
       "      <th>1</th>\n",
       "      <td>0.701</td>\n",
       "      <td>0.519</td>\n",
       "      <td>1</td>\n",
       "      <td>-6.382</td>\n",
       "      <td>1</td>\n",
       "      <td>0.0516</td>\n",
       "      <td>0.31400</td>\n",
       "      <td>0.000000</td>\n",
       "      <td>0.2070</td>\n",
       "      <td>0.498</td>\n",
       "      <td>...</td>\n",
       "      <td>0</td>\n",
       "      <td>0</td>\n",
       "      <td>0</td>\n",
       "      <td>0</td>\n",
       "      <td>0</td>\n",
       "      <td>0</td>\n",
       "      <td>0</td>\n",
       "      <td>0</td>\n",
       "      <td>0</td>\n",
       "      <td>0</td>\n",
       "    </tr>\n",
       "    <tr>\n",
       "      <th>2</th>\n",
       "      <td>0.309</td>\n",
       "      <td>0.740</td>\n",
       "      <td>7</td>\n",
       "      <td>-5.917</td>\n",
       "      <td>0</td>\n",
       "      <td>0.0456</td>\n",
       "      <td>0.00854</td>\n",
       "      <td>0.025800</td>\n",
       "      <td>0.1190</td>\n",
       "      <td>0.166</td>\n",
       "      <td>...</td>\n",
       "      <td>0</td>\n",
       "      <td>0</td>\n",
       "      <td>0</td>\n",
       "      <td>0</td>\n",
       "      <td>0</td>\n",
       "      <td>0</td>\n",
       "      <td>0</td>\n",
       "      <td>0</td>\n",
       "      <td>0</td>\n",
       "      <td>0</td>\n",
       "    </tr>\n",
       "    <tr>\n",
       "      <th>3</th>\n",
       "      <td>0.552</td>\n",
       "      <td>0.637</td>\n",
       "      <td>5</td>\n",
       "      <td>-6.568</td>\n",
       "      <td>1</td>\n",
       "      <td>0.0445</td>\n",
       "      <td>0.46400</td>\n",
       "      <td>0.000016</td>\n",
       "      <td>0.1360</td>\n",
       "      <td>0.333</td>\n",
       "      <td>...</td>\n",
       "      <td>0</td>\n",
       "      <td>0</td>\n",
       "      <td>0</td>\n",
       "      <td>0</td>\n",
       "      <td>0</td>\n",
       "      <td>0</td>\n",
       "      <td>0</td>\n",
       "      <td>0</td>\n",
       "      <td>0</td>\n",
       "      <td>0</td>\n",
       "    </tr>\n",
       "    <tr>\n",
       "      <th>4</th>\n",
       "      <td>0.655</td>\n",
       "      <td>0.885</td>\n",
       "      <td>7</td>\n",
       "      <td>-4.116</td>\n",
       "      <td>1</td>\n",
       "      <td>0.0438</td>\n",
       "      <td>0.00117</td>\n",
       "      <td>0.000473</td>\n",
       "      <td>0.0448</td>\n",
       "      <td>0.938</td>\n",
       "      <td>...</td>\n",
       "      <td>0</td>\n",
       "      <td>0</td>\n",
       "      <td>0</td>\n",
       "      <td>0</td>\n",
       "      <td>0</td>\n",
       "      <td>0</td>\n",
       "      <td>0</td>\n",
       "      <td>0</td>\n",
       "      <td>0</td>\n",
       "      <td>0</td>\n",
       "    </tr>\n",
       "  </tbody>\n",
       "</table>\n",
       "<p>5 rows × 278 columns</p>\n",
       "</div>"
      ],
      "text/plain": [
       "   danceability  energy  key  loudness  mode  speechiness  acousticness  \\\n",
       "0         0.564   0.364   10    -5.845     0       0.0631       0.75900   \n",
       "1         0.701   0.519    1    -6.382     1       0.0516       0.31400   \n",
       "2         0.309   0.740    7    -5.917     0       0.0456       0.00854   \n",
       "3         0.552   0.637    5    -6.568     1       0.0445       0.46400   \n",
       "4         0.655   0.885    7    -4.116     1       0.0438       0.00117   \n",
       "\n",
       "   instrumentalness  liveness  valence  ...  artist_WizKid  artist_YOASOBI  \\\n",
       "0          0.000000    0.0839    0.591  ...              0               0   \n",
       "1          0.000000    0.2070    0.498  ...              0               0   \n",
       "2          0.025800    0.1190    0.166  ...              0               0   \n",
       "3          0.000016    0.1360    0.333  ...              0               0   \n",
       "4          0.000473    0.0448    0.938  ...              0               0   \n",
       "\n",
       "   artist_YONAKA  artist_Yang Da Il  artist_ZZ Top  artist_Zion.T  \\\n",
       "0              0                  0              0              0   \n",
       "1              0                  0              0              0   \n",
       "2              0                  0              0              0   \n",
       "3              0                  0              0              0   \n",
       "4              0                  0              0              0   \n",
       "\n",
       "   artist_blink-182  artist_dj poolboi  artist_gianni & kyle  artist_rum.gold  \n",
       "0                 0                  0                     0                0  \n",
       "1                 0                  0                     0                0  \n",
       "2                 0                  0                     0                0  \n",
       "3                 0                  0                     0                0  \n",
       "4                 0                  0                     0                0  \n",
       "\n",
       "[5 rows x 278 columns]"
      ]
     },
     "execution_count": 271,
     "metadata": {},
     "output_type": "execute_result"
    }
   ],
   "source": [
    "spotify_data = spot_df.drop([\"playlist\"], axis=1)\n",
    "spotify_data.head()"
   ]
  },
  {
   "cell_type": "code",
   "execution_count": 272,
   "metadata": {},
   "outputs": [],
   "source": [
    "# Standardize data\n",
    "spotify_scaled = StandardScaler().fit_transform(spotify_data)"
   ]
  },
  {
   "cell_type": "code",
   "execution_count": 273,
   "metadata": {},
   "outputs": [
    {
     "data": {
      "text/plain": [
       "array([[ 0.564,  0.364, 10.   , ...,  0.   ,  0.   ,  0.   ],\n",
       "       [ 0.701,  0.519,  1.   , ...,  0.   ,  0.   ,  0.   ],\n",
       "       [ 0.309,  0.74 ,  7.   , ...,  0.   ,  0.   ,  0.   ],\n",
       "       ...,\n",
       "       [ 0.562,  0.934,  5.   , ...,  0.   ,  0.   ,  0.   ],\n",
       "       [ 0.743,  0.446,  4.   , ...,  0.   ,  0.   ,  0.   ],\n",
       "       [ 0.503,  0.581,  6.   , ...,  0.   ,  0.   ,  0.   ]])"
      ]
     },
     "execution_count": 273,
     "metadata": {},
     "output_type": "execute_result"
    }
   ],
   "source": [
    "spotify = np.array(spotify_data)\n",
    "spotify"
   ]
  },
  {
   "cell_type": "code",
   "execution_count": 274,
   "metadata": {},
   "outputs": [
    {
     "data": {
      "text/html": [
       "<div>\n",
       "<style scoped>\n",
       "    .dataframe tbody tr th:only-of-type {\n",
       "        vertical-align: middle;\n",
       "    }\n",
       "\n",
       "    .dataframe tbody tr th {\n",
       "        vertical-align: top;\n",
       "    }\n",
       "\n",
       "    .dataframe thead th {\n",
       "        text-align: right;\n",
       "    }\n",
       "</style>\n",
       "<table border=\"1\" class=\"dataframe\">\n",
       "  <thead>\n",
       "    <tr style=\"text-align: right;\">\n",
       "      <th></th>\n",
       "      <th>principal component 1</th>\n",
       "      <th>principal component 2</th>\n",
       "      <th>principal component 3</th>\n",
       "      <th>principal component 4</th>\n",
       "      <th>principal component 5</th>\n",
       "      <th>principal component 6</th>\n",
       "      <th>principal component 7</th>\n",
       "      <th>principal component 8</th>\n",
       "    </tr>\n",
       "  </thead>\n",
       "  <tbody>\n",
       "    <tr>\n",
       "      <th>0</th>\n",
       "      <td>1.959914</td>\n",
       "      <td>-2.099457</td>\n",
       "      <td>1.613181</td>\n",
       "      <td>-2.141276</td>\n",
       "      <td>0.641650</td>\n",
       "      <td>-1.553137</td>\n",
       "      <td>-0.752967</td>\n",
       "      <td>0.025689</td>\n",
       "    </tr>\n",
       "    <tr>\n",
       "      <th>1</th>\n",
       "      <td>0.399435</td>\n",
       "      <td>-1.382823</td>\n",
       "      <td>-1.694639</td>\n",
       "      <td>0.929048</td>\n",
       "      <td>-0.284802</td>\n",
       "      <td>-0.582749</td>\n",
       "      <td>0.280511</td>\n",
       "      <td>1.607809</td>\n",
       "    </tr>\n",
       "    <tr>\n",
       "      <th>2</th>\n",
       "      <td>-0.077780</td>\n",
       "      <td>6.115142</td>\n",
       "      <td>1.029650</td>\n",
       "      <td>-2.624904</td>\n",
       "      <td>-3.733702</td>\n",
       "      <td>-2.526139</td>\n",
       "      <td>6.764883</td>\n",
       "      <td>1.909516</td>\n",
       "    </tr>\n",
       "    <tr>\n",
       "      <th>3</th>\n",
       "      <td>0.598118</td>\n",
       "      <td>0.146043</td>\n",
       "      <td>-0.503194</td>\n",
       "      <td>0.103197</td>\n",
       "      <td>0.181943</td>\n",
       "      <td>-1.304971</td>\n",
       "      <td>0.950617</td>\n",
       "      <td>0.385007</td>\n",
       "    </tr>\n",
       "    <tr>\n",
       "      <th>4</th>\n",
       "      <td>-2.465214</td>\n",
       "      <td>-0.972865</td>\n",
       "      <td>-1.651905</td>\n",
       "      <td>-1.212379</td>\n",
       "      <td>0.217306</td>\n",
       "      <td>-0.873048</td>\n",
       "      <td>-0.719143</td>\n",
       "      <td>-1.515067</td>\n",
       "    </tr>\n",
       "  </tbody>\n",
       "</table>\n",
       "</div>"
      ],
      "text/plain": [
       "   principal component 1  principal component 2  principal component 3  \\\n",
       "0               1.959914              -2.099457               1.613181   \n",
       "1               0.399435              -1.382823              -1.694639   \n",
       "2              -0.077780               6.115142               1.029650   \n",
       "3               0.598118               0.146043              -0.503194   \n",
       "4              -2.465214              -0.972865              -1.651905   \n",
       "\n",
       "   principal component 4  principal component 5  principal component 6  \\\n",
       "0              -2.141276               0.641650              -1.553137   \n",
       "1               0.929048              -0.284802              -0.582749   \n",
       "2              -2.624904              -3.733702              -2.526139   \n",
       "3               0.103197               0.181943              -1.304971   \n",
       "4              -1.212379               0.217306              -0.873048   \n",
       "\n",
       "   principal component 7  principal component 8  \n",
       "0              -0.752967               0.025689  \n",
       "1               0.280511               1.607809  \n",
       "2               6.764883               1.909516  \n",
       "3               0.950617               0.385007  \n",
       "4              -0.719143              -1.515067  "
      ]
     },
     "execution_count": 274,
     "metadata": {},
     "output_type": "execute_result"
    }
   ],
   "source": [
    "# Initialize PCA model\n",
    "pca = PCA(n_components=8)\n",
    "\n",
    "# Get two principal components for the data.\n",
    "spotify_pca = pca.fit_transform(spotify_scaled)\n",
    "\n",
    "df_spotify_pca = pd.DataFrame(\n",
    "    data=spotify_pca, columns=[\"principal component 1\", \n",
    "                               \"principal component 2\", \n",
    "                               \"principal component 3\", \n",
    "                               \"principal component 4\", \n",
    "                               \"principal component 5\", \n",
    "                               \"principal component 6\",\n",
    "                               \"principal component 7\",\n",
    "                               \"principal component 8\"]\n",
    "                                                        )\n",
    "df_spotify_pca.head()"
   ]
  },
  {
   "cell_type": "code",
   "execution_count": 275,
   "metadata": {},
   "outputs": [
    {
     "name": "stdout",
     "output_type": "stream",
     "text": [
      "We have 6.16% of the information in the original dataset\n"
     ]
    }
   ],
   "source": [
    "# Fetch the explained variance\n",
    "variance_ratio = pca.explained_variance_ratio_\n",
    "\n",
    "print(f\"We have {round((sum(variance_ratio)*100),2)}% of the information in the original dataset\")"
   ]
  },
  {
   "cell_type": "code",
   "execution_count": 276,
   "metadata": {},
   "outputs": [],
   "source": [
    "#appending playlist column back on PCA list\n",
    "df_spotify_pca['playlist'] = raw_data['playlist']"
   ]
  },
  {
   "cell_type": "code",
   "execution_count": 277,
   "metadata": {},
   "outputs": [
    {
     "data": {
      "text/html": [
       "<div>\n",
       "<style scoped>\n",
       "    .dataframe tbody tr th:only-of-type {\n",
       "        vertical-align: middle;\n",
       "    }\n",
       "\n",
       "    .dataframe tbody tr th {\n",
       "        vertical-align: top;\n",
       "    }\n",
       "\n",
       "    .dataframe thead th {\n",
       "        text-align: right;\n",
       "    }\n",
       "</style>\n",
       "<table border=\"1\" class=\"dataframe\">\n",
       "  <thead>\n",
       "    <tr style=\"text-align: right;\">\n",
       "      <th></th>\n",
       "      <th>principal component 1</th>\n",
       "      <th>principal component 2</th>\n",
       "      <th>principal component 3</th>\n",
       "      <th>principal component 4</th>\n",
       "      <th>principal component 5</th>\n",
       "      <th>principal component 6</th>\n",
       "      <th>principal component 7</th>\n",
       "      <th>principal component 8</th>\n",
       "      <th>playlist</th>\n",
       "    </tr>\n",
       "  </thead>\n",
       "  <tbody>\n",
       "    <tr>\n",
       "      <th>0</th>\n",
       "      <td>1.959914</td>\n",
       "      <td>-2.099457</td>\n",
       "      <td>1.613181</td>\n",
       "      <td>-2.141276</td>\n",
       "      <td>0.641650</td>\n",
       "      <td>-1.553137</td>\n",
       "      <td>-0.752967</td>\n",
       "      <td>0.025689</td>\n",
       "      <td>ryan</td>\n",
       "    </tr>\n",
       "    <tr>\n",
       "      <th>1</th>\n",
       "      <td>0.399435</td>\n",
       "      <td>-1.382823</td>\n",
       "      <td>-1.694639</td>\n",
       "      <td>0.929048</td>\n",
       "      <td>-0.284802</td>\n",
       "      <td>-0.582749</td>\n",
       "      <td>0.280511</td>\n",
       "      <td>1.607809</td>\n",
       "      <td>ryan</td>\n",
       "    </tr>\n",
       "    <tr>\n",
       "      <th>2</th>\n",
       "      <td>-0.077780</td>\n",
       "      <td>6.115142</td>\n",
       "      <td>1.029650</td>\n",
       "      <td>-2.624904</td>\n",
       "      <td>-3.733702</td>\n",
       "      <td>-2.526139</td>\n",
       "      <td>6.764883</td>\n",
       "      <td>1.909516</td>\n",
       "      <td>ryan</td>\n",
       "    </tr>\n",
       "    <tr>\n",
       "      <th>3</th>\n",
       "      <td>0.598118</td>\n",
       "      <td>0.146043</td>\n",
       "      <td>-0.503194</td>\n",
       "      <td>0.103197</td>\n",
       "      <td>0.181943</td>\n",
       "      <td>-1.304971</td>\n",
       "      <td>0.950617</td>\n",
       "      <td>0.385007</td>\n",
       "      <td>ryan</td>\n",
       "    </tr>\n",
       "    <tr>\n",
       "      <th>4</th>\n",
       "      <td>-2.465214</td>\n",
       "      <td>-0.972865</td>\n",
       "      <td>-1.651905</td>\n",
       "      <td>-1.212379</td>\n",
       "      <td>0.217306</td>\n",
       "      <td>-0.873048</td>\n",
       "      <td>-0.719143</td>\n",
       "      <td>-1.515067</td>\n",
       "      <td>ryan</td>\n",
       "    </tr>\n",
       "    <tr>\n",
       "      <th>...</th>\n",
       "      <td>...</td>\n",
       "      <td>...</td>\n",
       "      <td>...</td>\n",
       "      <td>...</td>\n",
       "      <td>...</td>\n",
       "      <td>...</td>\n",
       "      <td>...</td>\n",
       "      <td>...</td>\n",
       "      <td>...</td>\n",
       "    </tr>\n",
       "    <tr>\n",
       "      <th>383</th>\n",
       "      <td>-1.278442</td>\n",
       "      <td>0.882856</td>\n",
       "      <td>-0.582994</td>\n",
       "      <td>1.699564</td>\n",
       "      <td>6.120494</td>\n",
       "      <td>-1.307550</td>\n",
       "      <td>2.298278</td>\n",
       "      <td>1.830062</td>\n",
       "      <td>alex</td>\n",
       "    </tr>\n",
       "    <tr>\n",
       "      <th>384</th>\n",
       "      <td>-0.175223</td>\n",
       "      <td>1.371982</td>\n",
       "      <td>-1.161396</td>\n",
       "      <td>1.575228</td>\n",
       "      <td>1.749118</td>\n",
       "      <td>-0.786879</td>\n",
       "      <td>1.223513</td>\n",
       "      <td>1.170210</td>\n",
       "      <td>alex</td>\n",
       "    </tr>\n",
       "    <tr>\n",
       "      <th>385</th>\n",
       "      <td>-1.683592</td>\n",
       "      <td>0.966131</td>\n",
       "      <td>-1.081243</td>\n",
       "      <td>-0.119837</td>\n",
       "      <td>0.121064</td>\n",
       "      <td>-0.892703</td>\n",
       "      <td>0.879773</td>\n",
       "      <td>0.536437</td>\n",
       "      <td>alex</td>\n",
       "    </tr>\n",
       "    <tr>\n",
       "      <th>386</th>\n",
       "      <td>0.513077</td>\n",
       "      <td>-0.221637</td>\n",
       "      <td>0.871063</td>\n",
       "      <td>-0.531362</td>\n",
       "      <td>0.187205</td>\n",
       "      <td>0.630854</td>\n",
       "      <td>0.386379</td>\n",
       "      <td>2.137302</td>\n",
       "      <td>alex</td>\n",
       "    </tr>\n",
       "    <tr>\n",
       "      <th>387</th>\n",
       "      <td>0.281043</td>\n",
       "      <td>-0.454491</td>\n",
       "      <td>-0.623684</td>\n",
       "      <td>0.220016</td>\n",
       "      <td>0.269475</td>\n",
       "      <td>-0.605079</td>\n",
       "      <td>0.648664</td>\n",
       "      <td>0.494352</td>\n",
       "      <td>alex</td>\n",
       "    </tr>\n",
       "  </tbody>\n",
       "</table>\n",
       "<p>388 rows × 9 columns</p>\n",
       "</div>"
      ],
      "text/plain": [
       "     principal component 1  principal component 2  principal component 3  \\\n",
       "0                 1.959914              -2.099457               1.613181   \n",
       "1                 0.399435              -1.382823              -1.694639   \n",
       "2                -0.077780               6.115142               1.029650   \n",
       "3                 0.598118               0.146043              -0.503194   \n",
       "4                -2.465214              -0.972865              -1.651905   \n",
       "..                     ...                    ...                    ...   \n",
       "383              -1.278442               0.882856              -0.582994   \n",
       "384              -0.175223               1.371982              -1.161396   \n",
       "385              -1.683592               0.966131              -1.081243   \n",
       "386               0.513077              -0.221637               0.871063   \n",
       "387               0.281043              -0.454491              -0.623684   \n",
       "\n",
       "     principal component 4  principal component 5  principal component 6  \\\n",
       "0                -2.141276               0.641650              -1.553137   \n",
       "1                 0.929048              -0.284802              -0.582749   \n",
       "2                -2.624904              -3.733702              -2.526139   \n",
       "3                 0.103197               0.181943              -1.304971   \n",
       "4                -1.212379               0.217306              -0.873048   \n",
       "..                     ...                    ...                    ...   \n",
       "383               1.699564               6.120494              -1.307550   \n",
       "384               1.575228               1.749118              -0.786879   \n",
       "385              -0.119837               0.121064              -0.892703   \n",
       "386              -0.531362               0.187205               0.630854   \n",
       "387               0.220016               0.269475              -0.605079   \n",
       "\n",
       "     principal component 7  principal component 8 playlist  \n",
       "0                -0.752967               0.025689     ryan  \n",
       "1                 0.280511               1.607809     ryan  \n",
       "2                 6.764883               1.909516     ryan  \n",
       "3                 0.950617               0.385007     ryan  \n",
       "4                -0.719143              -1.515067     ryan  \n",
       "..                     ...                    ...      ...  \n",
       "383               2.298278               1.830062     alex  \n",
       "384               1.223513               1.170210     alex  \n",
       "385               0.879773               0.536437     alex  \n",
       "386               0.386379               2.137302     alex  \n",
       "387               0.648664               0.494352     alex  \n",
       "\n",
       "[388 rows x 9 columns]"
      ]
     },
     "execution_count": 277,
     "metadata": {},
     "output_type": "execute_result"
    }
   ],
   "source": [
    "df_spotify_pca"
   ]
  },
  {
   "cell_type": "code",
   "execution_count": 278,
   "metadata": {},
   "outputs": [
    {
     "data": {
      "text/plain": [
       "sarah    100\n",
       "terry     99\n",
       "ryan      84\n",
       "alex      55\n",
       "abdul     50\n",
       "Name: playlist, dtype: int64"
      ]
     },
     "execution_count": 278,
     "metadata": {},
     "output_type": "execute_result"
    }
   ],
   "source": [
    "#multiclass classification\n",
    "df_spotify_pca.playlist.value_counts()"
   ]
  },
  {
   "cell_type": "code",
   "execution_count": 279,
   "metadata": {},
   "outputs": [],
   "source": [
    "# Define the features X set and the target y vector\n",
    "X = df_spotify_pca.drop(\"playlist\",axis=1)\n",
    "y = df_spotify_pca.loc[:, [\"playlist\"]]"
   ]
  },
  {
   "cell_type": "code",
   "execution_count": 280,
   "metadata": {},
   "outputs": [
    {
     "data": {
      "text/plain": [
       "((291, 8), (97, 8), (291, 1), (97, 1))"
      ]
     },
     "execution_count": 280,
     "metadata": {},
     "output_type": "execute_result"
    }
   ],
   "source": [
    "# Split the dataset into training and testing data\n",
    "X_train, X_test, y_train, y_test = train_test_split(X, y, random_state=1)\n",
    "\n",
    "# Acknowledge the dimension of both test and training data\n",
    "X_train.shape, X_test.shape, y_train.shape, y_test.shape\n"
   ]
  },
  {
   "cell_type": "code",
   "execution_count": 281,
   "metadata": {},
   "outputs": [],
   "source": [
    "# Scale the training and testing input features using StandardScaler\n",
    "X_scaler = StandardScaler()\n",
    "X_scaler.fit(X_train)\n",
    "\n",
    "X_train_scaled = X_scaler.transform(X_train)\n",
    "X_test_scaled = X_scaler.transform(X_test)"
   ]
  },
  {
   "cell_type": "code",
   "execution_count": 282,
   "metadata": {},
   "outputs": [
    {
     "data": {
      "text/plain": [
       "array([1., 0., 0., 0., 0.])"
      ]
     },
     "execution_count": 282,
     "metadata": {},
     "output_type": "execute_result"
    }
   ],
   "source": [
    "# Apply One-hot encoding to the target labels\n",
    "enc = OneHotEncoder()\n",
    "enc.fit(y_train)\n",
    "\n",
    "encoded_y_train = enc.transform(y_train).toarray()\n",
    "encoded_y_test = enc.transform(y_test).toarray()\n",
    "encoded_y_train[0]"
   ]
  },
  {
   "cell_type": "markdown",
   "metadata": {},
   "source": [
    "# Build a Deep Neural Network"
   ]
  },
  {
   "cell_type": "code",
   "execution_count": 283,
   "metadata": {},
   "outputs": [],
   "source": [
    "# Create a sequential model\n",
    "model = Sequential()"
   ]
  },
  {
   "cell_type": "code",
   "execution_count": 284,
   "metadata": {},
   "outputs": [],
   "source": [
    "# Add the first layer where the input dimensions are the X.shape[1] = 8 columns of the training data\n",
    "model.add(Dense(50, activation='relu', input_dim = X.shape[1]))\n",
    "\n",
    "# Add the 2nd layer where the input dimensions are the 12 columns of the training data\n",
    "model.add(Dense(50, activation='relu', input_dim = 50))\n",
    "\n",
    "# Add output layer\n",
    "model.add(Dense(5, activation=\"softmax\", input_dim = 50))"
   ]
  },
  {
   "cell_type": "code",
   "execution_count": 285,
   "metadata": {},
   "outputs": [],
   "source": [
    "# The output layer has 8 columns that are one-hot encoded\n",
    "y_train.playlist.value_counts()\n",
    "\n",
    "# 5 output since there're 5 playlists\n",
    "number_outputs = 5"
   ]
  },
  {
   "cell_type": "code",
   "execution_count": 286,
   "metadata": {},
   "outputs": [],
   "source": [
    "# Compile the model using categorical_crossentropy for the loss function, the adam optimizer,\n",
    "# and add accuracy to the training metrics\n",
    "model.compile(optimizer=\"adam\", loss=\"categorical_crossentropy\", metrics=[\"accuracy\"])\n"
   ]
  },
  {
   "cell_type": "code",
   "execution_count": 287,
   "metadata": {},
   "outputs": [
    {
     "name": "stdout",
     "output_type": "stream",
     "text": [
      "Model: \"sequential_6\"\n",
      "_________________________________________________________________\n",
      " Layer (type)                Output Shape              Param #   \n",
      "=================================================================\n",
      " dense_18 (Dense)            (None, 50)                450       \n",
      "                                                                 \n",
      " dense_19 (Dense)            (None, 50)                2550      \n",
      "                                                                 \n",
      " dense_20 (Dense)            (None, 5)                 255       \n",
      "                                                                 \n",
      "=================================================================\n",
      "Total params: 3,255\n",
      "Trainable params: 3,255\n",
      "Non-trainable params: 0\n",
      "_________________________________________________________________\n"
     ]
    }
   ],
   "source": [
    "# Print the model summary\n",
    "model.summary()\n"
   ]
  },
  {
   "cell_type": "code",
   "execution_count": 288,
   "metadata": {},
   "outputs": [
    {
     "name": "stdout",
     "output_type": "stream",
     "text": [
      "Epoch 1/10\n",
      "10/10 - 0s - loss: 1.5977 - accuracy: 0.2131 - 191ms/epoch - 19ms/step\n",
      "Epoch 2/10\n",
      "10/10 - 0s - loss: 1.5229 - accuracy: 0.2921 - 6ms/epoch - 600us/step\n",
      "Epoch 3/10\n",
      "10/10 - 0s - loss: 1.4666 - accuracy: 0.3918 - 6ms/epoch - 600us/step\n",
      "Epoch 4/10\n",
      "10/10 - 0s - loss: 1.4221 - accuracy: 0.4296 - 6ms/epoch - 600us/step\n",
      "Epoch 5/10\n",
      "10/10 - 0s - loss: 1.3813 - accuracy: 0.4536 - 7ms/epoch - 700us/step\n",
      "Epoch 6/10\n",
      "10/10 - 0s - loss: 1.3436 - accuracy: 0.4914 - 5ms/epoch - 500us/step\n",
      "Epoch 7/10\n",
      "10/10 - 0s - loss: 1.3113 - accuracy: 0.4880 - 6ms/epoch - 600us/step\n",
      "Epoch 8/10\n",
      "10/10 - 0s - loss: 1.2804 - accuracy: 0.5120 - 7ms/epoch - 700us/step\n",
      "Epoch 9/10\n",
      "10/10 - 0s - loss: 1.2532 - accuracy: 0.5326 - 6ms/epoch - 600us/step\n",
      "Epoch 10/10\n",
      "10/10 - 0s - loss: 1.2251 - accuracy: 0.5430 - 8ms/epoch - 781us/step\n"
     ]
    },
    {
     "data": {
      "text/plain": [
       "<keras.callbacks.History at 0x201c00e8d48>"
      ]
     },
     "execution_count": 288,
     "metadata": {},
     "output_type": "execute_result"
    }
   ],
   "source": [
    "# Use the training data to fit (train) the model\n",
    "# @NOTE: Experiment with the number of training epochs to find the minimum iterations required to achieve a good accuracy\n",
    "model.fit(\n",
    "    X_train_scaled,\n",
    "    encoded_y_train,\n",
    "    epochs=10,\n",
    "    shuffle=True,\n",
    "    verbose=2\n",
    ")"
   ]
  },
  {
   "cell_type": "markdown",
   "metadata": {},
   "source": [
    "# Evaluate the Model on Test & Training Data"
   ]
  },
  {
   "cell_type": "code",
   "execution_count": 289,
   "metadata": {},
   "outputs": [
    {
     "name": "stdout",
     "output_type": "stream",
     "text": [
      "4/4 - 0s - loss: 1.4177 - accuracy: 0.4330 - 63ms/epoch - 16ms/step\n",
      "Normal Neural Network - Loss: 1.417726755142212, Accuracy: 0.4329896867275238\n"
     ]
    }
   ],
   "source": [
    "# Evaluate the model using the testing data\n",
    "model_loss, model_accuracy = model.evaluate(X_test_scaled, encoded_y_test, verbose=2)\n",
    "print(f\"Normal Neural Network - Loss: {model_loss}, Accuracy: {model_accuracy}\")"
   ]
  },
  {
   "cell_type": "code",
   "execution_count": 290,
   "metadata": {},
   "outputs": [],
   "source": [
    "y_index = y_test.index.values\n",
    "\n",
    "y_tracks = []\n",
    "\n",
    "#to identify which track has been selected for y_test\n",
    "for index in y_index:\n",
    "    track = df.at[index, \"track\"]\n",
    "    y_tracks.append(track)"
   ]
  },
  {
   "cell_type": "code",
   "execution_count": 291,
   "metadata": {},
   "outputs": [
    {
     "data": {
      "text/html": [
       "<div>\n",
       "<style scoped>\n",
       "    .dataframe tbody tr th:only-of-type {\n",
       "        vertical-align: middle;\n",
       "    }\n",
       "\n",
       "    .dataframe tbody tr th {\n",
       "        vertical-align: top;\n",
       "    }\n",
       "\n",
       "    .dataframe thead th {\n",
       "        text-align: right;\n",
       "    }\n",
       "</style>\n",
       "<table border=\"1\" class=\"dataframe\">\n",
       "  <thead>\n",
       "    <tr style=\"text-align: right;\">\n",
       "      <th></th>\n",
       "      <th>Index</th>\n",
       "      <th>Track</th>\n",
       "      <th>Actual</th>\n",
       "      <th>Predicted</th>\n",
       "    </tr>\n",
       "  </thead>\n",
       "  <tbody>\n",
       "    <tr>\n",
       "      <th>0</th>\n",
       "      <td>93</td>\n",
       "      <td>Leave Before You Love Me (with Jonas Brothers)</td>\n",
       "      <td>sarah</td>\n",
       "      <td>terry</td>\n",
       "    </tr>\n",
       "    <tr>\n",
       "      <th>1</th>\n",
       "      <td>179</td>\n",
       "      <td>This Town (feat. Sasha Alex Sloan)</td>\n",
       "      <td>sarah</td>\n",
       "      <td>sarah</td>\n",
       "    </tr>\n",
       "    <tr>\n",
       "      <th>2</th>\n",
       "      <td>127</td>\n",
       "      <td>4AM</td>\n",
       "      <td>sarah</td>\n",
       "      <td>sarah</td>\n",
       "    </tr>\n",
       "    <tr>\n",
       "      <th>3</th>\n",
       "      <td>62</td>\n",
       "      <td>Some Type of Love</td>\n",
       "      <td>ryan</td>\n",
       "      <td>ryan</td>\n",
       "    </tr>\n",
       "    <tr>\n",
       "      <th>4</th>\n",
       "      <td>227</td>\n",
       "      <td>Light My Fire</td>\n",
       "      <td>terry</td>\n",
       "      <td>terry</td>\n",
       "    </tr>\n",
       "    <tr>\n",
       "      <th>5</th>\n",
       "      <td>329</td>\n",
       "      <td>Like I Love You</td>\n",
       "      <td>abdul</td>\n",
       "      <td>abdul</td>\n",
       "    </tr>\n",
       "    <tr>\n",
       "      <th>6</th>\n",
       "      <td>311</td>\n",
       "      <td>Pullin Up (feat. The Weeknd)</td>\n",
       "      <td>abdul</td>\n",
       "      <td>sarah</td>\n",
       "    </tr>\n",
       "    <tr>\n",
       "      <th>7</th>\n",
       "      <td>258</td>\n",
       "      <td>Don't You Want Me</td>\n",
       "      <td>terry</td>\n",
       "      <td>terry</td>\n",
       "    </tr>\n",
       "    <tr>\n",
       "      <th>8</th>\n",
       "      <td>120</td>\n",
       "      <td>begin again - HEALTH Remix</td>\n",
       "      <td>sarah</td>\n",
       "      <td>ryan</td>\n",
       "    </tr>\n",
       "    <tr>\n",
       "      <th>9</th>\n",
       "      <td>173</td>\n",
       "      <td>Speak</td>\n",
       "      <td>sarah</td>\n",
       "      <td>sarah</td>\n",
       "    </tr>\n",
       "  </tbody>\n",
       "</table>\n",
       "</div>"
      ],
      "text/plain": [
       "   Index                                           Track Actual Predicted\n",
       "0     93  Leave Before You Love Me (with Jonas Brothers)  sarah     terry\n",
       "1    179              This Town (feat. Sasha Alex Sloan)  sarah     sarah\n",
       "2    127                                             4AM  sarah     sarah\n",
       "3     62                               Some Type of Love   ryan      ryan\n",
       "4    227                                   Light My Fire  terry     terry\n",
       "5    329                                 Like I Love You  abdul     abdul\n",
       "6    311                    Pullin Up (feat. The Weeknd)  abdul     sarah\n",
       "7    258                               Don't You Want Me  terry     terry\n",
       "8    120                      begin again - HEALTH Remix  sarah      ryan\n",
       "9    173                                           Speak  sarah     sarah"
      ]
     },
     "execution_count": 291,
     "metadata": {},
     "output_type": "execute_result"
    }
   ],
   "source": [
    "# Make predictions\n",
    "predicted = model.predict(X_test_scaled)\n",
    "predicted = enc.inverse_transform(predicted).flatten().tolist()\n",
    "\n",
    "# creating a prediction table\n",
    "results = pd.DataFrame({\n",
    "    \"Index\": y_test.index.values,\n",
    "    \"Track\": y_tracks,\n",
    "    \"Actual\": y_test.playlist.values,\n",
    "    \"Predicted\": predicted\n",
    "})\n",
    "results.head(10)"
   ]
  },
  {
   "cell_type": "code",
   "execution_count": 292,
   "metadata": {},
   "outputs": [
    {
     "name": "stdout",
     "output_type": "stream",
     "text": [
      "              precision    recall  f1-score   support\n",
      "\n",
      "       abdul       0.56      0.36      0.43        14\n",
      "        alex       0.25      0.07      0.11        14\n",
      "        ryan       0.31      0.28      0.29        18\n",
      "       sarah       0.35      0.46      0.40        24\n",
      "       terry       0.54      0.74      0.62        27\n",
      "\n",
      "    accuracy                           0.43        97\n",
      "   macro avg       0.40      0.38      0.37        97\n",
      "weighted avg       0.41      0.43      0.41        97\n",
      "\n"
     ]
    }
   ],
   "source": [
    "# Print the Classification Report\n",
    "from sklearn.metrics import classification_report\n",
    "print(classification_report(results.Actual, results.Predicted))"
   ]
  },
  {
   "cell_type": "code",
   "execution_count": 293,
   "metadata": {},
   "outputs": [],
   "source": [
    "## Evaluate the Model on Training Data"
   ]
  },
  {
   "cell_type": "code",
   "execution_count": 301,
   "metadata": {},
   "outputs": [
    {
     "data": {
      "text/plain": [
       "((291, 8), (233, 5))"
      ]
     },
     "execution_count": 301,
     "metadata": {},
     "output_type": "execute_result"
    }
   ],
   "source": [
    "# Identifying data shape\n",
    "X_train.shape, y_train.shape"
   ]
  },
  {
   "cell_type": "code",
   "execution_count": 295,
   "metadata": {},
   "outputs": [
    {
     "data": {
      "text/plain": [
       "-58.2"
      ]
     },
     "execution_count": 295,
     "metadata": {},
     "output_type": "execute_result"
    }
   ],
   "source": [
    "#using 20% of training data as validation data\n",
    "-X_train.shape[0]*0.2"
   ]
  },
  {
   "cell_type": "code",
   "execution_count": 297,
   "metadata": {},
   "outputs": [],
   "source": [
    "#ADD VALIDATION DATA\n",
    "#https://www.tensorflow.org/guide/keras/train_and_evaluate\n",
    "x_val = X_train_scaled[-58:]\n",
    "y_val = encoded_y_train[-58:]\n",
    "x_train = X_train_scaled[:-58]\n",
    "y_train = encoded_y_train[:-58]"
   ]
  },
  {
   "cell_type": "code",
   "execution_count": 298,
   "metadata": {},
   "outputs": [
    {
     "data": {
      "text/plain": [
       "((58, 8), (58, 5), (233, 8), (233, 5))"
      ]
     },
     "execution_count": 298,
     "metadata": {},
     "output_type": "execute_result"
    }
   ],
   "source": [
    "x_val.shape,y_val.shape,x_train.shape,y_train.shape"
   ]
  },
  {
   "cell_type": "code",
   "execution_count": 299,
   "metadata": {},
   "outputs": [
    {
     "name": "stdout",
     "output_type": "stream",
     "text": [
      "Fit model on training data\n",
      "Epoch 1/2\n",
      "4/4 [==============================] - 0s 11ms/step - loss: 1.2069 - accuracy: 0.5322 - val_loss: 1.1951 - val_accuracy: 0.6379\n",
      "Epoch 2/2\n",
      "4/4 [==============================] - 0s 6ms/step - loss: 1.1967 - accuracy: 0.5408 - val_loss: 1.1911 - val_accuracy: 0.6552\n"
     ]
    }
   ],
   "source": [
    "#We call fit(), which will train the model by slicing the data into \"batches\" of size batch_size, \n",
    "#and repeatedly iterating over the entire dataset for a given number of epochs.\n",
    "\n",
    "print(\"Fit model on training data\")\n",
    "history = model.fit(\n",
    "    x_train,\n",
    "    y_train,\n",
    "    batch_size=64,\n",
    "    epochs=2,\n",
    "    # We pass some validation for\n",
    "    # monitoring validation loss and metrics\n",
    "    # at the end of each epoch\n",
    "    validation_data=(x_val, y_val),\n",
    ")"
   ]
  },
  {
   "cell_type": "code",
   "execution_count": 300,
   "metadata": {},
   "outputs": [
    {
     "data": {
      "text/plain": [
       "{'loss': [1.2069461345672607, 1.1966825723648071],\n",
       " 'accuracy': [0.5321888327598572, 0.540772557258606],\n",
       " 'val_loss': [1.195135235786438, 1.1910666227340698],\n",
       " 'val_accuracy': [0.6379310488700867, 0.6551724076271057]}"
      ]
     },
     "execution_count": 300,
     "metadata": {},
     "output_type": "execute_result"
    }
   ],
   "source": [
    "history.history"
   ]
  },
  {
   "cell_type": "code",
   "execution_count": null,
   "metadata": {},
   "outputs": [],
   "source": []
  }
 ],
 "metadata": {
  "anaconda-cloud": {},
  "kernelspec": {
   "display_name": "Python 3 (ipykernel)",
   "language": "python",
   "name": "python3"
  },
  "language_info": {
   "codemirror_mode": {
    "name": "ipython",
    "version": 3
   },
   "file_extension": ".py",
   "mimetype": "text/x-python",
   "name": "python",
   "nbconvert_exporter": "python",
   "pygments_lexer": "ipython3",
   "version": "3.7.11"
  },
  "varInspector": {
   "cols": {
    "lenName": 16,
    "lenType": 16,
    "lenVar": 40
   },
   "kernels_config": {
    "python": {
     "delete_cmd_postfix": "",
     "delete_cmd_prefix": "del ",
     "library": "var_list.py",
     "varRefreshCmd": "print(var_dic_list())"
    },
    "r": {
     "delete_cmd_postfix": ") ",
     "delete_cmd_prefix": "rm(",
     "library": "var_list.r",
     "varRefreshCmd": "cat(var_dic_list()) "
    }
   },
   "types_to_exclude": [
    "module",
    "function",
    "builtin_function_or_method",
    "instance",
    "_Feature"
   ],
   "window_display": false
  }
 },
 "nbformat": 4,
 "nbformat_minor": 4
}
